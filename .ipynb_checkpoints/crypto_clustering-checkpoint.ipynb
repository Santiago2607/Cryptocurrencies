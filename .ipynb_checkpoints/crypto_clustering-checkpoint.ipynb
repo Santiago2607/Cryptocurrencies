{
 "cells": [
  {
   "cell_type": "markdown",
   "metadata": {},
   "source": [
    "# Clustering Crypto"
   ]
  },
  {
   "cell_type": "code",
   "execution_count": 31,
   "metadata": {},
   "outputs": [],
   "source": [
    "# Initial imports\n",
    "import pandas as pd\n",
    "import hvplot.pandas\n",
    "from pathlib import Path\n",
    "import plotly.express as px\n",
    "from sklearn.preprocessing import StandardScaler, MinMaxScaler\n",
    "from sklearn.decomposition import PCA\n",
    "from sklearn.cluster import KMeans\n",
    "from sklearn.manifold import TSNE"
   ]
  },
  {
   "cell_type": "markdown",
   "metadata": {},
   "source": [
    "### Deliverable 1: Preprocessing the Data for PCA"
   ]
  },
  {
   "cell_type": "code",
   "execution_count": 32,
   "metadata": {},
   "outputs": [
    {
     "data": {
      "text/html": [
       "<div>\n",
       "<style scoped>\n",
       "    .dataframe tbody tr th:only-of-type {\n",
       "        vertical-align: middle;\n",
       "    }\n",
       "\n",
       "    .dataframe tbody tr th {\n",
       "        vertical-align: top;\n",
       "    }\n",
       "\n",
       "    .dataframe thead th {\n",
       "        text-align: right;\n",
       "    }\n",
       "</style>\n",
       "<table border=\"1\" class=\"dataframe\">\n",
       "  <thead>\n",
       "    <tr style=\"text-align: right;\">\n",
       "      <th></th>\n",
       "      <th>Unnamed: 0</th>\n",
       "      <th>CoinName</th>\n",
       "      <th>Algorithm</th>\n",
       "      <th>IsTrading</th>\n",
       "      <th>ProofType</th>\n",
       "      <th>TotalCoinsMined</th>\n",
       "      <th>TotalCoinSupply</th>\n",
       "    </tr>\n",
       "  </thead>\n",
       "  <tbody>\n",
       "    <tr>\n",
       "      <th>0</th>\n",
       "      <td>42</td>\n",
       "      <td>42 Coin</td>\n",
       "      <td>Scrypt</td>\n",
       "      <td>True</td>\n",
       "      <td>PoW/PoS</td>\n",
       "      <td>4.199995e+01</td>\n",
       "      <td>42</td>\n",
       "    </tr>\n",
       "    <tr>\n",
       "      <th>1</th>\n",
       "      <td>365</td>\n",
       "      <td>365Coin</td>\n",
       "      <td>X11</td>\n",
       "      <td>True</td>\n",
       "      <td>PoW/PoS</td>\n",
       "      <td>NaN</td>\n",
       "      <td>2300000000</td>\n",
       "    </tr>\n",
       "    <tr>\n",
       "      <th>2</th>\n",
       "      <td>404</td>\n",
       "      <td>404Coin</td>\n",
       "      <td>Scrypt</td>\n",
       "      <td>True</td>\n",
       "      <td>PoW/PoS</td>\n",
       "      <td>1.055185e+09</td>\n",
       "      <td>532000000</td>\n",
       "    </tr>\n",
       "    <tr>\n",
       "      <th>3</th>\n",
       "      <td>611</td>\n",
       "      <td>SixEleven</td>\n",
       "      <td>SHA-256</td>\n",
       "      <td>True</td>\n",
       "      <td>PoW</td>\n",
       "      <td>NaN</td>\n",
       "      <td>611000</td>\n",
       "    </tr>\n",
       "    <tr>\n",
       "      <th>4</th>\n",
       "      <td>808</td>\n",
       "      <td>808</td>\n",
       "      <td>SHA-256</td>\n",
       "      <td>True</td>\n",
       "      <td>PoW/PoS</td>\n",
       "      <td>0.000000e+00</td>\n",
       "      <td>0</td>\n",
       "    </tr>\n",
       "  </tbody>\n",
       "</table>\n",
       "</div>"
      ],
      "text/plain": [
       "  Unnamed: 0   CoinName Algorithm  IsTrading ProofType  TotalCoinsMined  \\\n",
       "0         42    42 Coin    Scrypt       True   PoW/PoS     4.199995e+01   \n",
       "1        365    365Coin       X11       True   PoW/PoS              NaN   \n",
       "2        404    404Coin    Scrypt       True   PoW/PoS     1.055185e+09   \n",
       "3        611  SixEleven   SHA-256       True       PoW              NaN   \n",
       "4        808        808   SHA-256       True   PoW/PoS     0.000000e+00   \n",
       "\n",
       "  TotalCoinSupply  \n",
       "0              42  \n",
       "1      2300000000  \n",
       "2       532000000  \n",
       "3          611000  \n",
       "4               0  "
      ]
     },
     "execution_count": 32,
     "metadata": {},
     "output_type": "execute_result"
    }
   ],
   "source": [
    "# Load the crypto_data.csv dataset.\n",
    "file_path = \"crypto_data.csv\"\n",
    "crypto_df = pd.read_csv(file_path)\n",
    "crypto_df.head()"
   ]
  },
  {
   "cell_type": "code",
   "execution_count": 33,
   "metadata": {},
   "outputs": [
    {
     "data": {
      "text/html": [
       "<div>\n",
       "<style scoped>\n",
       "    .dataframe tbody tr th:only-of-type {\n",
       "        vertical-align: middle;\n",
       "    }\n",
       "\n",
       "    .dataframe tbody tr th {\n",
       "        vertical-align: top;\n",
       "    }\n",
       "\n",
       "    .dataframe thead th {\n",
       "        text-align: right;\n",
       "    }\n",
       "</style>\n",
       "<table border=\"1\" class=\"dataframe\">\n",
       "  <thead>\n",
       "    <tr style=\"text-align: right;\">\n",
       "      <th></th>\n",
       "      <th>CoinName</th>\n",
       "      <th>Algorithm</th>\n",
       "      <th>IsTrading</th>\n",
       "      <th>ProofType</th>\n",
       "      <th>TotalCoinsMined</th>\n",
       "      <th>TotalCoinSupply</th>\n",
       "    </tr>\n",
       "    <tr>\n",
       "      <th>Unnamed: 0</th>\n",
       "      <th></th>\n",
       "      <th></th>\n",
       "      <th></th>\n",
       "      <th></th>\n",
       "      <th></th>\n",
       "      <th></th>\n",
       "    </tr>\n",
       "  </thead>\n",
       "  <tbody>\n",
       "    <tr>\n",
       "      <th>42</th>\n",
       "      <td>42 Coin</td>\n",
       "      <td>Scrypt</td>\n",
       "      <td>True</td>\n",
       "      <td>PoW/PoS</td>\n",
       "      <td>4.199995e+01</td>\n",
       "      <td>42</td>\n",
       "    </tr>\n",
       "    <tr>\n",
       "      <th>365</th>\n",
       "      <td>365Coin</td>\n",
       "      <td>X11</td>\n",
       "      <td>True</td>\n",
       "      <td>PoW/PoS</td>\n",
       "      <td>NaN</td>\n",
       "      <td>2300000000</td>\n",
       "    </tr>\n",
       "    <tr>\n",
       "      <th>404</th>\n",
       "      <td>404Coin</td>\n",
       "      <td>Scrypt</td>\n",
       "      <td>True</td>\n",
       "      <td>PoW/PoS</td>\n",
       "      <td>1.055185e+09</td>\n",
       "      <td>532000000</td>\n",
       "    </tr>\n",
       "    <tr>\n",
       "      <th>611</th>\n",
       "      <td>SixEleven</td>\n",
       "      <td>SHA-256</td>\n",
       "      <td>True</td>\n",
       "      <td>PoW</td>\n",
       "      <td>NaN</td>\n",
       "      <td>611000</td>\n",
       "    </tr>\n",
       "    <tr>\n",
       "      <th>808</th>\n",
       "      <td>808</td>\n",
       "      <td>SHA-256</td>\n",
       "      <td>True</td>\n",
       "      <td>PoW/PoS</td>\n",
       "      <td>0.000000e+00</td>\n",
       "      <td>0</td>\n",
       "    </tr>\n",
       "  </tbody>\n",
       "</table>\n",
       "</div>"
      ],
      "text/plain": [
       "             CoinName Algorithm  IsTrading ProofType  TotalCoinsMined  \\\n",
       "Unnamed: 0                                                              \n",
       "42            42 Coin    Scrypt       True   PoW/PoS     4.199995e+01   \n",
       "365           365Coin       X11       True   PoW/PoS              NaN   \n",
       "404           404Coin    Scrypt       True   PoW/PoS     1.055185e+09   \n",
       "611         SixEleven   SHA-256       True       PoW              NaN   \n",
       "808               808   SHA-256       True   PoW/PoS     0.000000e+00   \n",
       "\n",
       "           TotalCoinSupply  \n",
       "Unnamed: 0                  \n",
       "42                      42  \n",
       "365             2300000000  \n",
       "404              532000000  \n",
       "611                 611000  \n",
       "808                      0  "
      ]
     },
     "execution_count": 33,
     "metadata": {},
     "output_type": "execute_result"
    }
   ],
   "source": [
    "crypto_df = crypto_df.set_index('Unnamed: 0')\n",
    "crypto_df.head()"
   ]
  },
  {
   "cell_type": "code",
   "execution_count": 34,
   "metadata": {},
   "outputs": [
    {
     "data": {
      "text/html": [
       "<div>\n",
       "<style scoped>\n",
       "    .dataframe tbody tr th:only-of-type {\n",
       "        vertical-align: middle;\n",
       "    }\n",
       "\n",
       "    .dataframe tbody tr th {\n",
       "        vertical-align: top;\n",
       "    }\n",
       "\n",
       "    .dataframe thead th {\n",
       "        text-align: right;\n",
       "    }\n",
       "</style>\n",
       "<table border=\"1\" class=\"dataframe\">\n",
       "  <thead>\n",
       "    <tr style=\"text-align: right;\">\n",
       "      <th></th>\n",
       "      <th>CoinName</th>\n",
       "      <th>Algorithm</th>\n",
       "      <th>IsTrading</th>\n",
       "      <th>ProofType</th>\n",
       "      <th>TotalCoinsMined</th>\n",
       "      <th>TotalCoinSupply</th>\n",
       "    </tr>\n",
       "    <tr>\n",
       "      <th>Unnamed: 0</th>\n",
       "      <th></th>\n",
       "      <th></th>\n",
       "      <th></th>\n",
       "      <th></th>\n",
       "      <th></th>\n",
       "      <th></th>\n",
       "    </tr>\n",
       "  </thead>\n",
       "  <tbody>\n",
       "    <tr>\n",
       "      <th>42</th>\n",
       "      <td>42 Coin</td>\n",
       "      <td>Scrypt</td>\n",
       "      <td>True</td>\n",
       "      <td>PoW/PoS</td>\n",
       "      <td>4.199995e+01</td>\n",
       "      <td>42</td>\n",
       "    </tr>\n",
       "    <tr>\n",
       "      <th>365</th>\n",
       "      <td>365Coin</td>\n",
       "      <td>X11</td>\n",
       "      <td>True</td>\n",
       "      <td>PoW/PoS</td>\n",
       "      <td>NaN</td>\n",
       "      <td>2300000000</td>\n",
       "    </tr>\n",
       "    <tr>\n",
       "      <th>404</th>\n",
       "      <td>404Coin</td>\n",
       "      <td>Scrypt</td>\n",
       "      <td>True</td>\n",
       "      <td>PoW/PoS</td>\n",
       "      <td>1.055185e+09</td>\n",
       "      <td>532000000</td>\n",
       "    </tr>\n",
       "    <tr>\n",
       "      <th>611</th>\n",
       "      <td>SixEleven</td>\n",
       "      <td>SHA-256</td>\n",
       "      <td>True</td>\n",
       "      <td>PoW</td>\n",
       "      <td>NaN</td>\n",
       "      <td>611000</td>\n",
       "    </tr>\n",
       "    <tr>\n",
       "      <th>808</th>\n",
       "      <td>808</td>\n",
       "      <td>SHA-256</td>\n",
       "      <td>True</td>\n",
       "      <td>PoW/PoS</td>\n",
       "      <td>0.000000e+00</td>\n",
       "      <td>0</td>\n",
       "    </tr>\n",
       "  </tbody>\n",
       "</table>\n",
       "</div>"
      ],
      "text/plain": [
       "             CoinName Algorithm  IsTrading ProofType  TotalCoinsMined  \\\n",
       "Unnamed: 0                                                              \n",
       "42            42 Coin    Scrypt       True   PoW/PoS     4.199995e+01   \n",
       "365           365Coin       X11       True   PoW/PoS              NaN   \n",
       "404           404Coin    Scrypt       True   PoW/PoS     1.055185e+09   \n",
       "611         SixEleven   SHA-256       True       PoW              NaN   \n",
       "808               808   SHA-256       True   PoW/PoS     0.000000e+00   \n",
       "\n",
       "           TotalCoinSupply  \n",
       "Unnamed: 0                  \n",
       "42                      42  \n",
       "365             2300000000  \n",
       "404              532000000  \n",
       "611                 611000  \n",
       "808                      0  "
      ]
     },
     "execution_count": 34,
     "metadata": {},
     "output_type": "execute_result"
    }
   ],
   "source": [
    "# Keep all the cryptocurrencies that are being traded.\n",
    "crypto_df = crypto_df[crypto_df['IsTrading'] == True]\n",
    "crypto_df.head()"
   ]
  },
  {
   "cell_type": "code",
   "execution_count": 35,
   "metadata": {},
   "outputs": [
    {
     "data": {
      "text/html": [
       "<div>\n",
       "<style scoped>\n",
       "    .dataframe tbody tr th:only-of-type {\n",
       "        vertical-align: middle;\n",
       "    }\n",
       "\n",
       "    .dataframe tbody tr th {\n",
       "        vertical-align: top;\n",
       "    }\n",
       "\n",
       "    .dataframe thead th {\n",
       "        text-align: right;\n",
       "    }\n",
       "</style>\n",
       "<table border=\"1\" class=\"dataframe\">\n",
       "  <thead>\n",
       "    <tr style=\"text-align: right;\">\n",
       "      <th></th>\n",
       "      <th>CoinName</th>\n",
       "      <th>Algorithm</th>\n",
       "      <th>ProofType</th>\n",
       "      <th>TotalCoinsMined</th>\n",
       "      <th>TotalCoinSupply</th>\n",
       "    </tr>\n",
       "    <tr>\n",
       "      <th>Unnamed: 0</th>\n",
       "      <th></th>\n",
       "      <th></th>\n",
       "      <th></th>\n",
       "      <th></th>\n",
       "      <th></th>\n",
       "    </tr>\n",
       "  </thead>\n",
       "  <tbody>\n",
       "    <tr>\n",
       "      <th>42</th>\n",
       "      <td>42 Coin</td>\n",
       "      <td>Scrypt</td>\n",
       "      <td>PoW/PoS</td>\n",
       "      <td>4.199995e+01</td>\n",
       "      <td>42</td>\n",
       "    </tr>\n",
       "    <tr>\n",
       "      <th>365</th>\n",
       "      <td>365Coin</td>\n",
       "      <td>X11</td>\n",
       "      <td>PoW/PoS</td>\n",
       "      <td>NaN</td>\n",
       "      <td>2300000000</td>\n",
       "    </tr>\n",
       "    <tr>\n",
       "      <th>404</th>\n",
       "      <td>404Coin</td>\n",
       "      <td>Scrypt</td>\n",
       "      <td>PoW/PoS</td>\n",
       "      <td>1.055185e+09</td>\n",
       "      <td>532000000</td>\n",
       "    </tr>\n",
       "    <tr>\n",
       "      <th>611</th>\n",
       "      <td>SixEleven</td>\n",
       "      <td>SHA-256</td>\n",
       "      <td>PoW</td>\n",
       "      <td>NaN</td>\n",
       "      <td>611000</td>\n",
       "    </tr>\n",
       "    <tr>\n",
       "      <th>808</th>\n",
       "      <td>808</td>\n",
       "      <td>SHA-256</td>\n",
       "      <td>PoW/PoS</td>\n",
       "      <td>0.000000e+00</td>\n",
       "      <td>0</td>\n",
       "    </tr>\n",
       "  </tbody>\n",
       "</table>\n",
       "</div>"
      ],
      "text/plain": [
       "             CoinName Algorithm ProofType  TotalCoinsMined TotalCoinSupply\n",
       "Unnamed: 0                                                                \n",
       "42            42 Coin    Scrypt   PoW/PoS     4.199995e+01              42\n",
       "365           365Coin       X11   PoW/PoS              NaN      2300000000\n",
       "404           404Coin    Scrypt   PoW/PoS     1.055185e+09       532000000\n",
       "611         SixEleven   SHA-256       PoW              NaN          611000\n",
       "808               808   SHA-256   PoW/PoS     0.000000e+00               0"
      ]
     },
     "execution_count": 35,
     "metadata": {},
     "output_type": "execute_result"
    }
   ],
   "source": [
    "# Remove the \"IsTrading\" column. \n",
    "crypto_df = crypto_df.drop(columns ='IsTrading')\n",
    "crypto_df.head()"
   ]
  },
  {
   "cell_type": "code",
   "execution_count": 36,
   "metadata": {},
   "outputs": [
    {
     "data": {
      "text/html": [
       "<div>\n",
       "<style scoped>\n",
       "    .dataframe tbody tr th:only-of-type {\n",
       "        vertical-align: middle;\n",
       "    }\n",
       "\n",
       "    .dataframe tbody tr th {\n",
       "        vertical-align: top;\n",
       "    }\n",
       "\n",
       "    .dataframe thead th {\n",
       "        text-align: right;\n",
       "    }\n",
       "</style>\n",
       "<table border=\"1\" class=\"dataframe\">\n",
       "  <thead>\n",
       "    <tr style=\"text-align: right;\">\n",
       "      <th></th>\n",
       "      <th>CoinName</th>\n",
       "      <th>Algorithm</th>\n",
       "      <th>ProofType</th>\n",
       "      <th>TotalCoinsMined</th>\n",
       "      <th>TotalCoinSupply</th>\n",
       "    </tr>\n",
       "    <tr>\n",
       "      <th>Unnamed: 0</th>\n",
       "      <th></th>\n",
       "      <th></th>\n",
       "      <th></th>\n",
       "      <th></th>\n",
       "      <th></th>\n",
       "    </tr>\n",
       "  </thead>\n",
       "  <tbody>\n",
       "    <tr>\n",
       "      <th>42</th>\n",
       "      <td>42 Coin</td>\n",
       "      <td>Scrypt</td>\n",
       "      <td>PoW/PoS</td>\n",
       "      <td>4.199995e+01</td>\n",
       "      <td>42</td>\n",
       "    </tr>\n",
       "    <tr>\n",
       "      <th>404</th>\n",
       "      <td>404Coin</td>\n",
       "      <td>Scrypt</td>\n",
       "      <td>PoW/PoS</td>\n",
       "      <td>1.055185e+09</td>\n",
       "      <td>532000000</td>\n",
       "    </tr>\n",
       "    <tr>\n",
       "      <th>808</th>\n",
       "      <td>808</td>\n",
       "      <td>SHA-256</td>\n",
       "      <td>PoW/PoS</td>\n",
       "      <td>0.000000e+00</td>\n",
       "      <td>0</td>\n",
       "    </tr>\n",
       "    <tr>\n",
       "      <th>1337</th>\n",
       "      <td>EliteCoin</td>\n",
       "      <td>X13</td>\n",
       "      <td>PoW/PoS</td>\n",
       "      <td>2.927942e+10</td>\n",
       "      <td>314159265359</td>\n",
       "    </tr>\n",
       "    <tr>\n",
       "      <th>BTC</th>\n",
       "      <td>Bitcoin</td>\n",
       "      <td>SHA-256</td>\n",
       "      <td>PoW</td>\n",
       "      <td>1.792718e+07</td>\n",
       "      <td>21000000</td>\n",
       "    </tr>\n",
       "  </tbody>\n",
       "</table>\n",
       "</div>"
      ],
      "text/plain": [
       "             CoinName Algorithm ProofType  TotalCoinsMined TotalCoinSupply\n",
       "Unnamed: 0                                                                \n",
       "42            42 Coin    Scrypt   PoW/PoS     4.199995e+01              42\n",
       "404           404Coin    Scrypt   PoW/PoS     1.055185e+09       532000000\n",
       "808               808   SHA-256   PoW/PoS     0.000000e+00               0\n",
       "1337        EliteCoin       X13   PoW/PoS     2.927942e+10    314159265359\n",
       "BTC           Bitcoin   SHA-256       PoW     1.792718e+07        21000000"
      ]
     },
     "execution_count": 36,
     "metadata": {},
     "output_type": "execute_result"
    }
   ],
   "source": [
    "# Remove rows that have at least 1 null value.\n",
    "crypto_df = crypto_df.dropna()\n",
    "crypto_df.head()"
   ]
  },
  {
   "cell_type": "code",
   "execution_count": 37,
   "metadata": {},
   "outputs": [
    {
     "data": {
      "text/html": [
       "<div>\n",
       "<style scoped>\n",
       "    .dataframe tbody tr th:only-of-type {\n",
       "        vertical-align: middle;\n",
       "    }\n",
       "\n",
       "    .dataframe tbody tr th {\n",
       "        vertical-align: top;\n",
       "    }\n",
       "\n",
       "    .dataframe thead th {\n",
       "        text-align: right;\n",
       "    }\n",
       "</style>\n",
       "<table border=\"1\" class=\"dataframe\">\n",
       "  <thead>\n",
       "    <tr style=\"text-align: right;\">\n",
       "      <th></th>\n",
       "      <th>CoinName</th>\n",
       "      <th>Algorithm</th>\n",
       "      <th>ProofType</th>\n",
       "      <th>TotalCoinsMined</th>\n",
       "      <th>TotalCoinSupply</th>\n",
       "    </tr>\n",
       "    <tr>\n",
       "      <th>Unnamed: 0</th>\n",
       "      <th></th>\n",
       "      <th></th>\n",
       "      <th></th>\n",
       "      <th></th>\n",
       "      <th></th>\n",
       "    </tr>\n",
       "  </thead>\n",
       "  <tbody>\n",
       "    <tr>\n",
       "      <th>42</th>\n",
       "      <td>42 Coin</td>\n",
       "      <td>Scrypt</td>\n",
       "      <td>PoW/PoS</td>\n",
       "      <td>4.199995e+01</td>\n",
       "      <td>42</td>\n",
       "    </tr>\n",
       "    <tr>\n",
       "      <th>404</th>\n",
       "      <td>404Coin</td>\n",
       "      <td>Scrypt</td>\n",
       "      <td>PoW/PoS</td>\n",
       "      <td>1.055185e+09</td>\n",
       "      <td>532000000</td>\n",
       "    </tr>\n",
       "    <tr>\n",
       "      <th>1337</th>\n",
       "      <td>EliteCoin</td>\n",
       "      <td>X13</td>\n",
       "      <td>PoW/PoS</td>\n",
       "      <td>2.927942e+10</td>\n",
       "      <td>314159265359</td>\n",
       "    </tr>\n",
       "    <tr>\n",
       "      <th>BTC</th>\n",
       "      <td>Bitcoin</td>\n",
       "      <td>SHA-256</td>\n",
       "      <td>PoW</td>\n",
       "      <td>1.792718e+07</td>\n",
       "      <td>21000000</td>\n",
       "    </tr>\n",
       "    <tr>\n",
       "      <th>ETH</th>\n",
       "      <td>Ethereum</td>\n",
       "      <td>Ethash</td>\n",
       "      <td>PoW</td>\n",
       "      <td>1.076842e+08</td>\n",
       "      <td>0</td>\n",
       "    </tr>\n",
       "    <tr>\n",
       "      <th>...</th>\n",
       "      <td>...</td>\n",
       "      <td>...</td>\n",
       "      <td>...</td>\n",
       "      <td>...</td>\n",
       "      <td>...</td>\n",
       "    </tr>\n",
       "    <tr>\n",
       "      <th>ZEPH</th>\n",
       "      <td>ZEPHYR</td>\n",
       "      <td>SHA-256</td>\n",
       "      <td>DPoS</td>\n",
       "      <td>2.000000e+09</td>\n",
       "      <td>2000000000</td>\n",
       "    </tr>\n",
       "    <tr>\n",
       "      <th>GAP</th>\n",
       "      <td>Gapcoin</td>\n",
       "      <td>Scrypt</td>\n",
       "      <td>PoW/PoS</td>\n",
       "      <td>1.493105e+07</td>\n",
       "      <td>250000000</td>\n",
       "    </tr>\n",
       "    <tr>\n",
       "      <th>BDX</th>\n",
       "      <td>Beldex</td>\n",
       "      <td>CryptoNight</td>\n",
       "      <td>PoW</td>\n",
       "      <td>9.802226e+08</td>\n",
       "      <td>1400222610</td>\n",
       "    </tr>\n",
       "    <tr>\n",
       "      <th>ZEN</th>\n",
       "      <td>Horizen</td>\n",
       "      <td>Equihash</td>\n",
       "      <td>PoW</td>\n",
       "      <td>7.296538e+06</td>\n",
       "      <td>21000000</td>\n",
       "    </tr>\n",
       "    <tr>\n",
       "      <th>XBC</th>\n",
       "      <td>BitcoinPlus</td>\n",
       "      <td>Scrypt</td>\n",
       "      <td>PoS</td>\n",
       "      <td>1.283270e+05</td>\n",
       "      <td>1000000</td>\n",
       "    </tr>\n",
       "  </tbody>\n",
       "</table>\n",
       "<p>532 rows × 5 columns</p>\n",
       "</div>"
      ],
      "text/plain": [
       "               CoinName    Algorithm ProofType  TotalCoinsMined  \\\n",
       "Unnamed: 0                                                        \n",
       "42              42 Coin       Scrypt   PoW/PoS     4.199995e+01   \n",
       "404             404Coin       Scrypt   PoW/PoS     1.055185e+09   \n",
       "1337          EliteCoin          X13   PoW/PoS     2.927942e+10   \n",
       "BTC             Bitcoin      SHA-256       PoW     1.792718e+07   \n",
       "ETH            Ethereum       Ethash       PoW     1.076842e+08   \n",
       "...                 ...          ...       ...              ...   \n",
       "ZEPH             ZEPHYR      SHA-256      DPoS     2.000000e+09   \n",
       "GAP             Gapcoin       Scrypt   PoW/PoS     1.493105e+07   \n",
       "BDX              Beldex  CryptoNight       PoW     9.802226e+08   \n",
       "ZEN             Horizen     Equihash       PoW     7.296538e+06   \n",
       "XBC         BitcoinPlus       Scrypt       PoS     1.283270e+05   \n",
       "\n",
       "           TotalCoinSupply  \n",
       "Unnamed: 0                  \n",
       "42                      42  \n",
       "404              532000000  \n",
       "1337          314159265359  \n",
       "BTC               21000000  \n",
       "ETH                      0  \n",
       "...                    ...  \n",
       "ZEPH            2000000000  \n",
       "GAP              250000000  \n",
       "BDX             1400222610  \n",
       "ZEN               21000000  \n",
       "XBC                1000000  \n",
       "\n",
       "[532 rows x 5 columns]"
      ]
     },
     "execution_count": 37,
     "metadata": {},
     "output_type": "execute_result"
    }
   ],
   "source": [
    "# Keep the rows where coins are mined.\n",
    "crypto_df = crypto_df[crypto_df[\"TotalCoinsMined\"]> 0]\n",
    "crypto_df"
   ]
  },
  {
   "cell_type": "code",
   "execution_count": 38,
   "metadata": {},
   "outputs": [
    {
     "data": {
      "text/html": [
       "<div>\n",
       "<style scoped>\n",
       "    .dataframe tbody tr th:only-of-type {\n",
       "        vertical-align: middle;\n",
       "    }\n",
       "\n",
       "    .dataframe tbody tr th {\n",
       "        vertical-align: top;\n",
       "    }\n",
       "\n",
       "    .dataframe thead th {\n",
       "        text-align: right;\n",
       "    }\n",
       "</style>\n",
       "<table border=\"1\" class=\"dataframe\">\n",
       "  <thead>\n",
       "    <tr style=\"text-align: right;\">\n",
       "      <th></th>\n",
       "      <th>CoinName</th>\n",
       "    </tr>\n",
       "  </thead>\n",
       "  <tbody>\n",
       "    <tr>\n",
       "      <th>0</th>\n",
       "      <td>42 Coin</td>\n",
       "    </tr>\n",
       "    <tr>\n",
       "      <th>1</th>\n",
       "      <td>404Coin</td>\n",
       "    </tr>\n",
       "    <tr>\n",
       "      <th>2</th>\n",
       "      <td>EliteCoin</td>\n",
       "    </tr>\n",
       "    <tr>\n",
       "      <th>3</th>\n",
       "      <td>Bitcoin</td>\n",
       "    </tr>\n",
       "    <tr>\n",
       "      <th>4</th>\n",
       "      <td>Ethereum</td>\n",
       "    </tr>\n",
       "  </tbody>\n",
       "</table>\n",
       "</div>"
      ],
      "text/plain": [
       "    CoinName\n",
       "0    42 Coin\n",
       "1    404Coin\n",
       "2  EliteCoin\n",
       "3    Bitcoin\n",
       "4   Ethereum"
      ]
     },
     "execution_count": 38,
     "metadata": {},
     "output_type": "execute_result"
    }
   ],
   "source": [
    "# Create a new DataFrame that holds only the cryptocurrencies names.\n",
    "cryptocurrencies_df = pd.DataFrame(crypto_df['CoinName']).reset_index(drop=True)\n",
    "cryptocurrencies_df.head()"
   ]
  },
  {
   "cell_type": "code",
   "execution_count": 40,
   "metadata": {},
   "outputs": [
    {
     "data": {
      "text/html": [
       "<div>\n",
       "<style scoped>\n",
       "    .dataframe tbody tr th:only-of-type {\n",
       "        vertical-align: middle;\n",
       "    }\n",
       "\n",
       "    .dataframe tbody tr th {\n",
       "        vertical-align: top;\n",
       "    }\n",
       "\n",
       "    .dataframe thead th {\n",
       "        text-align: right;\n",
       "    }\n",
       "</style>\n",
       "<table border=\"1\" class=\"dataframe\">\n",
       "  <thead>\n",
       "    <tr style=\"text-align: right;\">\n",
       "      <th></th>\n",
       "      <th>Algorithm</th>\n",
       "      <th>ProofType</th>\n",
       "      <th>TotalCoinsMined</th>\n",
       "      <th>TotalCoinSupply</th>\n",
       "    </tr>\n",
       "    <tr>\n",
       "      <th>Unnamed: 0</th>\n",
       "      <th></th>\n",
       "      <th></th>\n",
       "      <th></th>\n",
       "      <th></th>\n",
       "    </tr>\n",
       "  </thead>\n",
       "  <tbody>\n",
       "    <tr>\n",
       "      <th>42</th>\n",
       "      <td>Scrypt</td>\n",
       "      <td>PoW/PoS</td>\n",
       "      <td>4.199995e+01</td>\n",
       "      <td>42</td>\n",
       "    </tr>\n",
       "    <tr>\n",
       "      <th>404</th>\n",
       "      <td>Scrypt</td>\n",
       "      <td>PoW/PoS</td>\n",
       "      <td>1.055185e+09</td>\n",
       "      <td>532000000</td>\n",
       "    </tr>\n",
       "    <tr>\n",
       "      <th>1337</th>\n",
       "      <td>X13</td>\n",
       "      <td>PoW/PoS</td>\n",
       "      <td>2.927942e+10</td>\n",
       "      <td>314159265359</td>\n",
       "    </tr>\n",
       "    <tr>\n",
       "      <th>BTC</th>\n",
       "      <td>SHA-256</td>\n",
       "      <td>PoW</td>\n",
       "      <td>1.792718e+07</td>\n",
       "      <td>21000000</td>\n",
       "    </tr>\n",
       "    <tr>\n",
       "      <th>ETH</th>\n",
       "      <td>Ethash</td>\n",
       "      <td>PoW</td>\n",
       "      <td>1.076842e+08</td>\n",
       "      <td>0</td>\n",
       "    </tr>\n",
       "    <tr>\n",
       "      <th>LTC</th>\n",
       "      <td>Scrypt</td>\n",
       "      <td>PoW</td>\n",
       "      <td>6.303924e+07</td>\n",
       "      <td>84000000</td>\n",
       "    </tr>\n",
       "    <tr>\n",
       "      <th>DASH</th>\n",
       "      <td>X11</td>\n",
       "      <td>PoW/PoS</td>\n",
       "      <td>9.031294e+06</td>\n",
       "      <td>22000000</td>\n",
       "    </tr>\n",
       "    <tr>\n",
       "      <th>XMR</th>\n",
       "      <td>CryptoNight-V7</td>\n",
       "      <td>PoW</td>\n",
       "      <td>1.720114e+07</td>\n",
       "      <td>0</td>\n",
       "    </tr>\n",
       "    <tr>\n",
       "      <th>ETC</th>\n",
       "      <td>Ethash</td>\n",
       "      <td>PoW</td>\n",
       "      <td>1.133597e+08</td>\n",
       "      <td>210000000</td>\n",
       "    </tr>\n",
       "    <tr>\n",
       "      <th>ZEC</th>\n",
       "      <td>Equihash</td>\n",
       "      <td>PoW</td>\n",
       "      <td>7.383056e+06</td>\n",
       "      <td>21000000</td>\n",
       "    </tr>\n",
       "  </tbody>\n",
       "</table>\n",
       "</div>"
      ],
      "text/plain": [
       "                 Algorithm ProofType  TotalCoinsMined TotalCoinSupply\n",
       "Unnamed: 0                                                           \n",
       "42                  Scrypt   PoW/PoS     4.199995e+01              42\n",
       "404                 Scrypt   PoW/PoS     1.055185e+09       532000000\n",
       "1337                   X13   PoW/PoS     2.927942e+10    314159265359\n",
       "BTC                SHA-256       PoW     1.792718e+07        21000000\n",
       "ETH                 Ethash       PoW     1.076842e+08               0\n",
       "LTC                 Scrypt       PoW     6.303924e+07        84000000\n",
       "DASH                   X11   PoW/PoS     9.031294e+06        22000000\n",
       "XMR         CryptoNight-V7       PoW     1.720114e+07               0\n",
       "ETC                 Ethash       PoW     1.133597e+08       210000000\n",
       "ZEC               Equihash       PoW     7.383056e+06        21000000"
      ]
     },
     "execution_count": 40,
     "metadata": {},
     "output_type": "execute_result"
    }
   ],
   "source": [
    "# Drop the 'CoinName' column since it's not going to be used on the clustering algorithm.\n",
    "crypto_df.drop(['CoinName'], axis=1, inplace= True)\n",
    "crypto_df.head(10)"
   ]
  },
  {
   "cell_type": "code",
   "execution_count": 41,
   "metadata": {},
   "outputs": [
    {
     "data": {
      "text/html": [
       "<div>\n",
       "<style scoped>\n",
       "    .dataframe tbody tr th:only-of-type {\n",
       "        vertical-align: middle;\n",
       "    }\n",
       "\n",
       "    .dataframe tbody tr th {\n",
       "        vertical-align: top;\n",
       "    }\n",
       "\n",
       "    .dataframe thead th {\n",
       "        text-align: right;\n",
       "    }\n",
       "</style>\n",
       "<table border=\"1\" class=\"dataframe\">\n",
       "  <thead>\n",
       "    <tr style=\"text-align: right;\">\n",
       "      <th></th>\n",
       "      <th>TotalCoinsMined</th>\n",
       "      <th>TotalCoinSupply</th>\n",
       "      <th>Algorithm_536</th>\n",
       "      <th>Algorithm_Argon2d</th>\n",
       "      <th>Algorithm_BLAKE256</th>\n",
       "      <th>Algorithm_Blake</th>\n",
       "      <th>Algorithm_Blake2S</th>\n",
       "      <th>Algorithm_Blake2b</th>\n",
       "      <th>Algorithm_C11</th>\n",
       "      <th>Algorithm_Cloverhash</th>\n",
       "      <th>...</th>\n",
       "      <th>ProofType_PoW/PoS</th>\n",
       "      <th>ProofType_PoW/PoS</th>\n",
       "      <th>ProofType_PoW/PoW</th>\n",
       "      <th>ProofType_PoW/nPoS</th>\n",
       "      <th>ProofType_Pos</th>\n",
       "      <th>ProofType_Proof of Authority</th>\n",
       "      <th>ProofType_Proof of Trust</th>\n",
       "      <th>ProofType_TPoS</th>\n",
       "      <th>ProofType_Zero-Knowledge Proof</th>\n",
       "      <th>ProofType_dPoW/PoW</th>\n",
       "    </tr>\n",
       "    <tr>\n",
       "      <th>Unnamed: 0</th>\n",
       "      <th></th>\n",
       "      <th></th>\n",
       "      <th></th>\n",
       "      <th></th>\n",
       "      <th></th>\n",
       "      <th></th>\n",
       "      <th></th>\n",
       "      <th></th>\n",
       "      <th></th>\n",
       "      <th></th>\n",
       "      <th></th>\n",
       "      <th></th>\n",
       "      <th></th>\n",
       "      <th></th>\n",
       "      <th></th>\n",
       "      <th></th>\n",
       "      <th></th>\n",
       "      <th></th>\n",
       "      <th></th>\n",
       "      <th></th>\n",
       "      <th></th>\n",
       "    </tr>\n",
       "  </thead>\n",
       "  <tbody>\n",
       "    <tr>\n",
       "      <th>42</th>\n",
       "      <td>4.199995e+01</td>\n",
       "      <td>42</td>\n",
       "      <td>0.0</td>\n",
       "      <td>0.0</td>\n",
       "      <td>0.0</td>\n",
       "      <td>0.0</td>\n",
       "      <td>0.0</td>\n",
       "      <td>0.0</td>\n",
       "      <td>0.0</td>\n",
       "      <td>0.0</td>\n",
       "      <td>...</td>\n",
       "      <td>1.0</td>\n",
       "      <td>0.0</td>\n",
       "      <td>0.0</td>\n",
       "      <td>0.0</td>\n",
       "      <td>0.0</td>\n",
       "      <td>0.0</td>\n",
       "      <td>0.0</td>\n",
       "      <td>0.0</td>\n",
       "      <td>0.0</td>\n",
       "      <td>0.0</td>\n",
       "    </tr>\n",
       "    <tr>\n",
       "      <th>404</th>\n",
       "      <td>1.055185e+09</td>\n",
       "      <td>532000000</td>\n",
       "      <td>0.0</td>\n",
       "      <td>0.0</td>\n",
       "      <td>0.0</td>\n",
       "      <td>0.0</td>\n",
       "      <td>0.0</td>\n",
       "      <td>0.0</td>\n",
       "      <td>0.0</td>\n",
       "      <td>0.0</td>\n",
       "      <td>...</td>\n",
       "      <td>1.0</td>\n",
       "      <td>0.0</td>\n",
       "      <td>0.0</td>\n",
       "      <td>0.0</td>\n",
       "      <td>0.0</td>\n",
       "      <td>0.0</td>\n",
       "      <td>0.0</td>\n",
       "      <td>0.0</td>\n",
       "      <td>0.0</td>\n",
       "      <td>0.0</td>\n",
       "    </tr>\n",
       "    <tr>\n",
       "      <th>1337</th>\n",
       "      <td>2.927942e+10</td>\n",
       "      <td>314159265359</td>\n",
       "      <td>0.0</td>\n",
       "      <td>0.0</td>\n",
       "      <td>0.0</td>\n",
       "      <td>0.0</td>\n",
       "      <td>0.0</td>\n",
       "      <td>0.0</td>\n",
       "      <td>0.0</td>\n",
       "      <td>0.0</td>\n",
       "      <td>...</td>\n",
       "      <td>1.0</td>\n",
       "      <td>0.0</td>\n",
       "      <td>0.0</td>\n",
       "      <td>0.0</td>\n",
       "      <td>0.0</td>\n",
       "      <td>0.0</td>\n",
       "      <td>0.0</td>\n",
       "      <td>0.0</td>\n",
       "      <td>0.0</td>\n",
       "      <td>0.0</td>\n",
       "    </tr>\n",
       "    <tr>\n",
       "      <th>BTC</th>\n",
       "      <td>1.792718e+07</td>\n",
       "      <td>21000000</td>\n",
       "      <td>0.0</td>\n",
       "      <td>0.0</td>\n",
       "      <td>0.0</td>\n",
       "      <td>0.0</td>\n",
       "      <td>0.0</td>\n",
       "      <td>0.0</td>\n",
       "      <td>0.0</td>\n",
       "      <td>0.0</td>\n",
       "      <td>...</td>\n",
       "      <td>0.0</td>\n",
       "      <td>0.0</td>\n",
       "      <td>0.0</td>\n",
       "      <td>0.0</td>\n",
       "      <td>0.0</td>\n",
       "      <td>0.0</td>\n",
       "      <td>0.0</td>\n",
       "      <td>0.0</td>\n",
       "      <td>0.0</td>\n",
       "      <td>0.0</td>\n",
       "    </tr>\n",
       "    <tr>\n",
       "      <th>ETH</th>\n",
       "      <td>1.076842e+08</td>\n",
       "      <td>0</td>\n",
       "      <td>0.0</td>\n",
       "      <td>0.0</td>\n",
       "      <td>0.0</td>\n",
       "      <td>0.0</td>\n",
       "      <td>0.0</td>\n",
       "      <td>0.0</td>\n",
       "      <td>0.0</td>\n",
       "      <td>0.0</td>\n",
       "      <td>...</td>\n",
       "      <td>0.0</td>\n",
       "      <td>0.0</td>\n",
       "      <td>0.0</td>\n",
       "      <td>0.0</td>\n",
       "      <td>0.0</td>\n",
       "      <td>0.0</td>\n",
       "      <td>0.0</td>\n",
       "      <td>0.0</td>\n",
       "      <td>0.0</td>\n",
       "      <td>0.0</td>\n",
       "    </tr>\n",
       "    <tr>\n",
       "      <th>...</th>\n",
       "      <td>...</td>\n",
       "      <td>...</td>\n",
       "      <td>...</td>\n",
       "      <td>...</td>\n",
       "      <td>...</td>\n",
       "      <td>...</td>\n",
       "      <td>...</td>\n",
       "      <td>...</td>\n",
       "      <td>...</td>\n",
       "      <td>...</td>\n",
       "      <td>...</td>\n",
       "      <td>...</td>\n",
       "      <td>...</td>\n",
       "      <td>...</td>\n",
       "      <td>...</td>\n",
       "      <td>...</td>\n",
       "      <td>...</td>\n",
       "      <td>...</td>\n",
       "      <td>...</td>\n",
       "      <td>...</td>\n",
       "      <td>...</td>\n",
       "    </tr>\n",
       "    <tr>\n",
       "      <th>ZEPH</th>\n",
       "      <td>2.000000e+09</td>\n",
       "      <td>2000000000</td>\n",
       "      <td>0.0</td>\n",
       "      <td>0.0</td>\n",
       "      <td>0.0</td>\n",
       "      <td>0.0</td>\n",
       "      <td>0.0</td>\n",
       "      <td>0.0</td>\n",
       "      <td>0.0</td>\n",
       "      <td>0.0</td>\n",
       "      <td>...</td>\n",
       "      <td>0.0</td>\n",
       "      <td>0.0</td>\n",
       "      <td>0.0</td>\n",
       "      <td>0.0</td>\n",
       "      <td>0.0</td>\n",
       "      <td>0.0</td>\n",
       "      <td>0.0</td>\n",
       "      <td>0.0</td>\n",
       "      <td>0.0</td>\n",
       "      <td>0.0</td>\n",
       "    </tr>\n",
       "    <tr>\n",
       "      <th>GAP</th>\n",
       "      <td>1.493105e+07</td>\n",
       "      <td>250000000</td>\n",
       "      <td>0.0</td>\n",
       "      <td>0.0</td>\n",
       "      <td>0.0</td>\n",
       "      <td>0.0</td>\n",
       "      <td>0.0</td>\n",
       "      <td>0.0</td>\n",
       "      <td>0.0</td>\n",
       "      <td>0.0</td>\n",
       "      <td>...</td>\n",
       "      <td>1.0</td>\n",
       "      <td>0.0</td>\n",
       "      <td>0.0</td>\n",
       "      <td>0.0</td>\n",
       "      <td>0.0</td>\n",
       "      <td>0.0</td>\n",
       "      <td>0.0</td>\n",
       "      <td>0.0</td>\n",
       "      <td>0.0</td>\n",
       "      <td>0.0</td>\n",
       "    </tr>\n",
       "    <tr>\n",
       "      <th>BDX</th>\n",
       "      <td>9.802226e+08</td>\n",
       "      <td>1400222610</td>\n",
       "      <td>0.0</td>\n",
       "      <td>0.0</td>\n",
       "      <td>0.0</td>\n",
       "      <td>0.0</td>\n",
       "      <td>0.0</td>\n",
       "      <td>0.0</td>\n",
       "      <td>0.0</td>\n",
       "      <td>0.0</td>\n",
       "      <td>...</td>\n",
       "      <td>0.0</td>\n",
       "      <td>0.0</td>\n",
       "      <td>0.0</td>\n",
       "      <td>0.0</td>\n",
       "      <td>0.0</td>\n",
       "      <td>0.0</td>\n",
       "      <td>0.0</td>\n",
       "      <td>0.0</td>\n",
       "      <td>0.0</td>\n",
       "      <td>0.0</td>\n",
       "    </tr>\n",
       "    <tr>\n",
       "      <th>ZEN</th>\n",
       "      <td>7.296538e+06</td>\n",
       "      <td>21000000</td>\n",
       "      <td>0.0</td>\n",
       "      <td>0.0</td>\n",
       "      <td>0.0</td>\n",
       "      <td>0.0</td>\n",
       "      <td>0.0</td>\n",
       "      <td>0.0</td>\n",
       "      <td>0.0</td>\n",
       "      <td>0.0</td>\n",
       "      <td>...</td>\n",
       "      <td>0.0</td>\n",
       "      <td>0.0</td>\n",
       "      <td>0.0</td>\n",
       "      <td>0.0</td>\n",
       "      <td>0.0</td>\n",
       "      <td>0.0</td>\n",
       "      <td>0.0</td>\n",
       "      <td>0.0</td>\n",
       "      <td>0.0</td>\n",
       "      <td>0.0</td>\n",
       "    </tr>\n",
       "    <tr>\n",
       "      <th>XBC</th>\n",
       "      <td>1.283270e+05</td>\n",
       "      <td>1000000</td>\n",
       "      <td>0.0</td>\n",
       "      <td>0.0</td>\n",
       "      <td>0.0</td>\n",
       "      <td>0.0</td>\n",
       "      <td>0.0</td>\n",
       "      <td>0.0</td>\n",
       "      <td>0.0</td>\n",
       "      <td>0.0</td>\n",
       "      <td>...</td>\n",
       "      <td>0.0</td>\n",
       "      <td>0.0</td>\n",
       "      <td>0.0</td>\n",
       "      <td>0.0</td>\n",
       "      <td>0.0</td>\n",
       "      <td>0.0</td>\n",
       "      <td>0.0</td>\n",
       "      <td>0.0</td>\n",
       "      <td>0.0</td>\n",
       "      <td>0.0</td>\n",
       "    </tr>\n",
       "  </tbody>\n",
       "</table>\n",
       "<p>532 rows × 96 columns</p>\n",
       "</div>"
      ],
      "text/plain": [
       "            TotalCoinsMined TotalCoinSupply  Algorithm_536  Algorithm_Argon2d  \\\n",
       "Unnamed: 0                                                                      \n",
       "42             4.199995e+01              42            0.0                0.0   \n",
       "404            1.055185e+09       532000000            0.0                0.0   \n",
       "1337           2.927942e+10    314159265359            0.0                0.0   \n",
       "BTC            1.792718e+07        21000000            0.0                0.0   \n",
       "ETH            1.076842e+08               0            0.0                0.0   \n",
       "...                     ...             ...            ...                ...   \n",
       "ZEPH           2.000000e+09      2000000000            0.0                0.0   \n",
       "GAP            1.493105e+07       250000000            0.0                0.0   \n",
       "BDX            9.802226e+08      1400222610            0.0                0.0   \n",
       "ZEN            7.296538e+06        21000000            0.0                0.0   \n",
       "XBC            1.283270e+05         1000000            0.0                0.0   \n",
       "\n",
       "            Algorithm_BLAKE256  Algorithm_Blake  Algorithm_Blake2S  \\\n",
       "Unnamed: 0                                                           \n",
       "42                         0.0              0.0                0.0   \n",
       "404                        0.0              0.0                0.0   \n",
       "1337                       0.0              0.0                0.0   \n",
       "BTC                        0.0              0.0                0.0   \n",
       "ETH                        0.0              0.0                0.0   \n",
       "...                        ...              ...                ...   \n",
       "ZEPH                       0.0              0.0                0.0   \n",
       "GAP                        0.0              0.0                0.0   \n",
       "BDX                        0.0              0.0                0.0   \n",
       "ZEN                        0.0              0.0                0.0   \n",
       "XBC                        0.0              0.0                0.0   \n",
       "\n",
       "            Algorithm_Blake2b  Algorithm_C11  Algorithm_Cloverhash  ...  \\\n",
       "Unnamed: 0                                                          ...   \n",
       "42                        0.0            0.0                   0.0  ...   \n",
       "404                       0.0            0.0                   0.0  ...   \n",
       "1337                      0.0            0.0                   0.0  ...   \n",
       "BTC                       0.0            0.0                   0.0  ...   \n",
       "ETH                       0.0            0.0                   0.0  ...   \n",
       "...                       ...            ...                   ...  ...   \n",
       "ZEPH                      0.0            0.0                   0.0  ...   \n",
       "GAP                       0.0            0.0                   0.0  ...   \n",
       "BDX                       0.0            0.0                   0.0  ...   \n",
       "ZEN                       0.0            0.0                   0.0  ...   \n",
       "XBC                       0.0            0.0                   0.0  ...   \n",
       "\n",
       "            ProofType_PoW/PoS  ProofType_PoW/PoS   ProofType_PoW/PoW  \\\n",
       "Unnamed: 0                                                             \n",
       "42                        1.0                 0.0                0.0   \n",
       "404                       1.0                 0.0                0.0   \n",
       "1337                      1.0                 0.0                0.0   \n",
       "BTC                       0.0                 0.0                0.0   \n",
       "ETH                       0.0                 0.0                0.0   \n",
       "...                       ...                 ...                ...   \n",
       "ZEPH                      0.0                 0.0                0.0   \n",
       "GAP                       1.0                 0.0                0.0   \n",
       "BDX                       0.0                 0.0                0.0   \n",
       "ZEN                       0.0                 0.0                0.0   \n",
       "XBC                       0.0                 0.0                0.0   \n",
       "\n",
       "            ProofType_PoW/nPoS  ProofType_Pos  ProofType_Proof of Authority  \\\n",
       "Unnamed: 0                                                                    \n",
       "42                         0.0            0.0                           0.0   \n",
       "404                        0.0            0.0                           0.0   \n",
       "1337                       0.0            0.0                           0.0   \n",
       "BTC                        0.0            0.0                           0.0   \n",
       "ETH                        0.0            0.0                           0.0   \n",
       "...                        ...            ...                           ...   \n",
       "ZEPH                       0.0            0.0                           0.0   \n",
       "GAP                        0.0            0.0                           0.0   \n",
       "BDX                        0.0            0.0                           0.0   \n",
       "ZEN                        0.0            0.0                           0.0   \n",
       "XBC                        0.0            0.0                           0.0   \n",
       "\n",
       "            ProofType_Proof of Trust  ProofType_TPoS  \\\n",
       "Unnamed: 0                                             \n",
       "42                               0.0             0.0   \n",
       "404                              0.0             0.0   \n",
       "1337                             0.0             0.0   \n",
       "BTC                              0.0             0.0   \n",
       "ETH                              0.0             0.0   \n",
       "...                              ...             ...   \n",
       "ZEPH                             0.0             0.0   \n",
       "GAP                              0.0             0.0   \n",
       "BDX                              0.0             0.0   \n",
       "ZEN                              0.0             0.0   \n",
       "XBC                              0.0             0.0   \n",
       "\n",
       "            ProofType_Zero-Knowledge Proof  ProofType_dPoW/PoW  \n",
       "Unnamed: 0                                                      \n",
       "42                                     0.0                 0.0  \n",
       "404                                    0.0                 0.0  \n",
       "1337                                   0.0                 0.0  \n",
       "BTC                                    0.0                 0.0  \n",
       "ETH                                    0.0                 0.0  \n",
       "...                                    ...                 ...  \n",
       "ZEPH                                   0.0                 0.0  \n",
       "GAP                                    0.0                 0.0  \n",
       "BDX                                    0.0                 0.0  \n",
       "ZEN                                    0.0                 0.0  \n",
       "XBC                                    0.0                 0.0  \n",
       "\n",
       "[532 rows x 96 columns]"
      ]
     },
     "execution_count": 41,
     "metadata": {},
     "output_type": "execute_result"
    }
   ],
   "source": [
    "# Use get_dummies() to create variables for text features.\n",
    "X = pd.get_dummies(crypto_df, columns=['Algorithm', 'ProofType'], drop_first=True, dtype=float)\n",
    "X"
   ]
  },
  {
   "cell_type": "code",
   "execution_count": 42,
   "metadata": {
    "scrolled": true
   },
   "outputs": [
    {
     "data": {
      "text/plain": [
       "TotalCoinsMined                   float64\n",
       "TotalCoinSupply                    object\n",
       "Algorithm_536                     float64\n",
       "Algorithm_Argon2d                 float64\n",
       "Algorithm_BLAKE256                float64\n",
       "                                   ...   \n",
       "ProofType_Proof of Authority      float64\n",
       "ProofType_Proof of Trust          float64\n",
       "ProofType_TPoS                    float64\n",
       "ProofType_Zero-Knowledge Proof    float64\n",
       "ProofType_dPoW/PoW                float64\n",
       "Length: 96, dtype: object"
      ]
     },
     "execution_count": 42,
     "metadata": {},
     "output_type": "execute_result"
    }
   ],
   "source": [
    "X.dtypes"
   ]
  },
  {
   "cell_type": "code",
   "execution_count": 43,
   "metadata": {},
   "outputs": [
    {
     "name": "stdout",
     "output_type": "stream",
     "text": [
      "TotalCoinsMined                   float64\n",
      "TotalCoinSupply                   float64\n",
      "Algorithm_536                     float64\n",
      "Algorithm_Argon2d                 float64\n",
      "Algorithm_BLAKE256                float64\n",
      "                                   ...   \n",
      "ProofType_Proof of Authority      float64\n",
      "ProofType_Proof of Trust          float64\n",
      "ProofType_TPoS                    float64\n",
      "ProofType_Zero-Knowledge Proof    float64\n",
      "ProofType_dPoW/PoW                float64\n",
      "Length: 96, dtype: object\n"
     ]
    }
   ],
   "source": [
    "X.TotalCoinSupply =X.TotalCoinSupply.astype(float)\n",
    "print(X.dtypes)"
   ]
  },
  {
   "cell_type": "code",
   "execution_count": 44,
   "metadata": {},
   "outputs": [],
   "source": [
    "# Standardize the data with StandardScaler().\n",
    "X = StandardScaler().fit_transform(X)"
   ]
  },
  {
   "cell_type": "markdown",
   "metadata": {},
   "source": [
    "### Deliverable 2: Reducing Data Dimensions Using PCA"
   ]
  },
  {
   "cell_type": "code",
   "execution_count": 45,
   "metadata": {},
   "outputs": [
    {
     "data": {
      "text/plain": [
       "(array([[-0.32693517,  0.89463703, -0.53454836],\n",
       "        [-0.31027445,  0.89476828, -0.53487433],\n",
       "        [ 2.29645475,  1.64618941, -0.55285501],\n",
       "        [-0.14497022, -1.27637256,  0.14976008],\n",
       "        [-0.15930519, -1.96682588,  0.3303919 ],\n",
       "        [-0.16517328, -1.18594269, -0.04393581],\n",
       "        [-0.38816158,  1.21802473, -0.46473632],\n",
       "        [-0.14191359, -2.25440138,  0.28130552],\n",
       "        [-0.15774842, -1.96692544,  0.33037211],\n",
       "        [-0.14173251, -2.13206605,  0.49659609]]),\n",
       " array([0.02851198, 0.02176989, 0.02090795]))"
      ]
     },
     "execution_count": 45,
     "metadata": {},
     "output_type": "execute_result"
    }
   ],
   "source": [
    "# Using PCA to reduce dimension to three principal components.\n",
    "pca = PCA(n_components=3)\n",
    "pca_fitted = pca.fit_transform(X)\n",
    "pca_fitted[:10] , pca.explained_variance_ratio_"
   ]
  },
  {
   "cell_type": "code",
   "execution_count": 46,
   "metadata": {},
   "outputs": [
    {
     "data": {
      "text/html": [
       "<div>\n",
       "<style scoped>\n",
       "    .dataframe tbody tr th:only-of-type {\n",
       "        vertical-align: middle;\n",
       "    }\n",
       "\n",
       "    .dataframe tbody tr th {\n",
       "        vertical-align: top;\n",
       "    }\n",
       "\n",
       "    .dataframe thead th {\n",
       "        text-align: right;\n",
       "    }\n",
       "</style>\n",
       "<table border=\"1\" class=\"dataframe\">\n",
       "  <thead>\n",
       "    <tr style=\"text-align: right;\">\n",
       "      <th></th>\n",
       "      <th>PC 1</th>\n",
       "      <th>PC 2</th>\n",
       "      <th>PC 3</th>\n",
       "    </tr>\n",
       "    <tr>\n",
       "      <th>Unnamed: 0</th>\n",
       "      <th></th>\n",
       "      <th></th>\n",
       "      <th></th>\n",
       "    </tr>\n",
       "  </thead>\n",
       "  <tbody>\n",
       "    <tr>\n",
       "      <th>42</th>\n",
       "      <td>-0.326935</td>\n",
       "      <td>0.894637</td>\n",
       "      <td>-0.534548</td>\n",
       "    </tr>\n",
       "    <tr>\n",
       "      <th>404</th>\n",
       "      <td>-0.310274</td>\n",
       "      <td>0.894768</td>\n",
       "      <td>-0.534874</td>\n",
       "    </tr>\n",
       "    <tr>\n",
       "      <th>1337</th>\n",
       "      <td>2.296455</td>\n",
       "      <td>1.646189</td>\n",
       "      <td>-0.552855</td>\n",
       "    </tr>\n",
       "    <tr>\n",
       "      <th>BTC</th>\n",
       "      <td>-0.144970</td>\n",
       "      <td>-1.276373</td>\n",
       "      <td>0.149760</td>\n",
       "    </tr>\n",
       "    <tr>\n",
       "      <th>ETH</th>\n",
       "      <td>-0.159305</td>\n",
       "      <td>-1.966826</td>\n",
       "      <td>0.330392</td>\n",
       "    </tr>\n",
       "  </tbody>\n",
       "</table>\n",
       "</div>"
      ],
      "text/plain": [
       "                PC 1      PC 2      PC 3\n",
       "Unnamed: 0                              \n",
       "42         -0.326935  0.894637 -0.534548\n",
       "404        -0.310274  0.894768 -0.534874\n",
       "1337        2.296455  1.646189 -0.552855\n",
       "BTC        -0.144970 -1.276373  0.149760\n",
       "ETH        -0.159305 -1.966826  0.330392"
      ]
     },
     "execution_count": 46,
     "metadata": {},
     "output_type": "execute_result"
    }
   ],
   "source": [
    "# Create a DataFrame with the three principal components.\n",
    "pcs_df = pd.DataFrame(\n",
    "    pca_fitted,\n",
    "    columns=[\"PC 1\", \"PC 2\" ,\"PC 3\"],\n",
    "    index = crypto_df.index\n",
    ")\n",
    "pcs_df.head()"
   ]
  },
  {
   "cell_type": "markdown",
   "metadata": {},
   "source": [
    "### Deliverable 3: Clustering Crytocurrencies Using K-Means\n",
    "\n",
    "#### Finding the Best Value for `k` Using the Elbow Curve"
   ]
  },
  {
   "cell_type": "code",
   "execution_count": 47,
   "metadata": {},
   "outputs": [
    {
     "name": "stderr",
     "output_type": "stream",
     "text": [
      "C:\\Users\\sebas\\Downloads\\ANACONDA\\envs\\mlenv\\lib\\site-packages\\sklearn\\cluster\\_kmeans.py:1037: UserWarning: KMeans is known to have a memory leak on Windows with MKL, when there are less chunks than available threads. You can avoid it by setting the environment variable OMP_NUM_THREADS=3.\n",
      "  \"KMeans is known to have a memory leak on Windows \"\n"
     ]
    },
    {
     "data": {},
     "metadata": {},
     "output_type": "display_data"
    },
    {
     "data": {
      "application/vnd.holoviews_exec.v0+json": "",
      "text/html": [
       "<div id='1002'>\n",
       "  <div class=\"bk-root\" id=\"b1f8ee46-9de8-49c9-a201-9bb309f89259\" data-root-id=\"1002\"></div>\n",
       "</div>\n",
       "<script type=\"application/javascript\">(function(root) {\n",
       "  function embed_document(root) {\n",
       "    var docs_json = {\"d3602cb9-7d6b-4e18-ae27-2aa848c59e8d\":{\"defs\":[{\"extends\":null,\"module\":null,\"name\":\"ReactiveHTML1\",\"overrides\":[],\"properties\":[]},{\"extends\":null,\"module\":null,\"name\":\"FlexBox1\",\"overrides\":[],\"properties\":[{\"default\":\"flex-start\",\"kind\":null,\"name\":\"align_content\"},{\"default\":\"flex-start\",\"kind\":null,\"name\":\"align_items\"},{\"default\":\"row\",\"kind\":null,\"name\":\"flex_direction\"},{\"default\":\"wrap\",\"kind\":null,\"name\":\"flex_wrap\"},{\"default\":\"flex-start\",\"kind\":null,\"name\":\"justify_content\"}]},{\"extends\":null,\"module\":null,\"name\":\"GridStack1\",\"overrides\":[],\"properties\":[{\"default\":\"warn\",\"kind\":null,\"name\":\"mode\"},{\"default\":null,\"kind\":null,\"name\":\"ncols\"},{\"default\":null,\"kind\":null,\"name\":\"nrows\"},{\"default\":true,\"kind\":null,\"name\":\"allow_resize\"},{\"default\":true,\"kind\":null,\"name\":\"allow_drag\"},{\"default\":[],\"kind\":null,\"name\":\"state\"}]},{\"extends\":null,\"module\":null,\"name\":\"click1\",\"overrides\":[],\"properties\":[{\"default\":\"\",\"kind\":null,\"name\":\"terminal_output\"},{\"default\":\"\",\"kind\":null,\"name\":\"debug_name\"},{\"default\":0,\"kind\":null,\"name\":\"clears\"}]},{\"extends\":null,\"module\":null,\"name\":\"NotificationAreaBase1\",\"overrides\":[],\"properties\":[{\"default\":\"bottom-right\",\"kind\":null,\"name\":\"position\"},{\"default\":0,\"kind\":null,\"name\":\"_clear\"}]},{\"extends\":null,\"module\":null,\"name\":\"NotificationArea1\",\"overrides\":[],\"properties\":[{\"default\":[],\"kind\":null,\"name\":\"notifications\"},{\"default\":\"bottom-right\",\"kind\":null,\"name\":\"position\"},{\"default\":0,\"kind\":null,\"name\":\"_clear\"},{\"default\":[{\"background\":\"#ffc107\",\"icon\":{\"className\":\"fas fa-exclamation-triangle\",\"color\":\"white\",\"tagName\":\"i\"},\"type\":\"warning\"},{\"background\":\"#007bff\",\"icon\":{\"className\":\"fas fa-info-circle\",\"color\":\"white\",\"tagName\":\"i\"},\"type\":\"info\"}],\"kind\":null,\"name\":\"types\"}]},{\"extends\":null,\"module\":null,\"name\":\"Notification\",\"overrides\":[],\"properties\":[{\"default\":null,\"kind\":null,\"name\":\"background\"},{\"default\":3000,\"kind\":null,\"name\":\"duration\"},{\"default\":null,\"kind\":null,\"name\":\"icon\"},{\"default\":\"\",\"kind\":null,\"name\":\"message\"},{\"default\":null,\"kind\":null,\"name\":\"notification_type\"},{\"default\":false,\"kind\":null,\"name\":\"_destroyed\"}]},{\"extends\":null,\"module\":null,\"name\":\"TemplateActions1\",\"overrides\":[],\"properties\":[{\"default\":0,\"kind\":null,\"name\":\"open_modal\"},{\"default\":0,\"kind\":null,\"name\":\"close_modal\"}]},{\"extends\":null,\"module\":null,\"name\":\"MaterialTemplateActions1\",\"overrides\":[],\"properties\":[{\"default\":0,\"kind\":null,\"name\":\"open_modal\"},{\"default\":0,\"kind\":null,\"name\":\"close_modal\"}]}],\"roots\":{\"references\":[{\"attributes\":{},\"id\":\"1024\",\"type\":\"SaveTool\"},{\"attributes\":{},\"id\":\"1025\",\"type\":\"PanTool\"},{\"attributes\":{},\"id\":\"1061\",\"type\":\"UnionRenderers\"},{\"attributes\":{},\"id\":\"1028\",\"type\":\"ResetTool\"},{\"attributes\":{\"overlay\":{\"id\":\"1029\"}},\"id\":\"1027\",\"type\":\"BoxZoomTool\"},{\"attributes\":{},\"id\":\"1021\",\"type\":\"BasicTicker\"},{\"attributes\":{\"source\":{\"id\":\"1037\"}},\"id\":\"1044\",\"type\":\"CDSView\"},{\"attributes\":{},\"id\":\"1048\",\"type\":\"BasicTickFormatter\"},{\"attributes\":{},\"id\":\"1038\",\"type\":\"Selection\"},{\"attributes\":{\"margin\":[5,5,5,5],\"name\":\"HSpacer00865\",\"sizing_mode\":\"stretch_width\"},\"id\":\"1064\",\"type\":\"Spacer\"},{\"attributes\":{\"coordinates\":null,\"data_source\":{\"id\":\"1037\"},\"glyph\":{\"id\":\"1040\"},\"group\":null,\"hover_glyph\":null,\"muted_glyph\":{\"id\":\"1042\"},\"nonselection_glyph\":{\"id\":\"1041\"},\"selection_glyph\":{\"id\":\"1045\"},\"view\":{\"id\":\"1044\"}},\"id\":\"1043\",\"type\":\"GlyphRenderer\"},{\"attributes\":{\"data\":{\"inertia\":{\"__ndarray__\":\"vKRh0JxnrEAwkCzc10yjQM/faykzbpdA5z6se87Xf0D5PDaawt1zQBUCtwLtZHBAibmdxPmGakCVXnR6yXVkQOL/PxaJmF1ApDKPJmQfV0A=\",\"dtype\":\"float64\",\"order\":\"little\",\"shape\":[10]},\"k\":[1,2,3,4,5,6,7,8,9,10]},\"selected\":{\"id\":\"1038\"},\"selection_policy\":{\"id\":\"1061\"}},\"id\":\"1037\",\"type\":\"ColumnDataSource\"},{\"attributes\":{\"ticks\":[1,2,3,4,5,6,7,8,9,10]},\"id\":\"1046\",\"type\":\"FixedTicker\"},{\"attributes\":{},\"id\":\"1012\",\"type\":\"LinearScale\"},{\"attributes\":{},\"id\":\"1026\",\"type\":\"WheelZoomTool\"},{\"attributes\":{},\"id\":\"1054\",\"type\":\"AllLabels\"},{\"attributes\":{\"coordinates\":null,\"group\":null,\"text\":\"Elbow Curve\",\"text_color\":\"black\",\"text_font_size\":\"12pt\"},\"id\":\"1008\",\"type\":\"Title\"},{\"attributes\":{\"axis\":{\"id\":\"1016\"},\"coordinates\":null,\"grid_line_color\":null,\"group\":null,\"ticker\":null},\"id\":\"1019\",\"type\":\"Grid\"},{\"attributes\":{\"margin\":[5,5,5,5],\"name\":\"HSpacer00864\",\"sizing_mode\":\"stretch_width\"},\"id\":\"1003\",\"type\":\"Spacer\"},{\"attributes\":{},\"id\":\"1053\",\"type\":\"BasicTickFormatter\"},{\"attributes\":{\"bottom_units\":\"screen\",\"coordinates\":null,\"fill_alpha\":0.5,\"fill_color\":\"lightgrey\",\"group\":null,\"left_units\":\"screen\",\"level\":\"overlay\",\"line_alpha\":1.0,\"line_color\":\"black\",\"line_dash\":[4,4],\"line_width\":2,\"right_units\":\"screen\",\"syncable\":false,\"top_units\":\"screen\"},\"id\":\"1029\",\"type\":\"BoxAnnotation\"},{\"attributes\":{\"callback\":null,\"renderers\":[{\"id\":\"1043\"}],\"tags\":[\"hv_created\"],\"tooltips\":[[\"k\",\"@{k}\"],[\"inertia\",\"@{inertia}\"]]},\"id\":\"1006\",\"type\":\"HoverTool\"},{\"attributes\":{},\"id\":\"1049\",\"type\":\"AllLabels\"},{\"attributes\":{},\"id\":\"1014\",\"type\":\"LinearScale\"},{\"attributes\":{\"axis_label\":\"inertia\",\"coordinates\":null,\"formatter\":{\"id\":\"1053\"},\"group\":null,\"major_label_policy\":{\"id\":\"1054\"},\"ticker\":{\"id\":\"1021\"}},\"id\":\"1020\",\"type\":\"LinearAxis\"},{\"attributes\":{\"axis_label\":\"k\",\"coordinates\":null,\"formatter\":{\"id\":\"1048\"},\"group\":null,\"major_label_policy\":{\"id\":\"1049\"},\"ticker\":{\"id\":\"1046\"}},\"id\":\"1016\",\"type\":\"LinearAxis\"},{\"attributes\":{\"tools\":[{\"id\":\"1006\"},{\"id\":\"1024\"},{\"id\":\"1025\"},{\"id\":\"1026\"},{\"id\":\"1027\"},{\"id\":\"1028\"}]},\"id\":\"1030\",\"type\":\"Toolbar\"},{\"attributes\":{\"line_color\":\"#30a2da\",\"line_width\":2,\"x\":{\"field\":\"k\"},\"y\":{\"field\":\"inertia\"}},\"id\":\"1045\",\"type\":\"Line\"},{\"attributes\":{\"axis\":{\"id\":\"1020\"},\"coordinates\":null,\"dimension\":1,\"grid_line_color\":null,\"group\":null,\"ticker\":null},\"id\":\"1023\",\"type\":\"Grid\"},{\"attributes\":{\"children\":[{\"id\":\"1003\"},{\"id\":\"1007\"},{\"id\":\"1064\"}],\"margin\":[0,0,0,0],\"name\":\"Row00860\",\"tags\":[\"embedded\"]},\"id\":\"1002\",\"type\":\"Row\"},{\"attributes\":{\"end\":10.0,\"reset_end\":10.0,\"reset_start\":1.0,\"start\":1.0,\"tags\":[[[\"k\",\"k\",null]]]},\"id\":\"1004\",\"type\":\"Range1d\"},{\"attributes\":{\"end\":3990.1378562855825,\"reset_end\":3990.1378562855825,\"reset_start\":-261.8410912526228,\"start\":-261.8410912526228,\"tags\":[[[\"inertia\",\"inertia\",null]]]},\"id\":\"1005\",\"type\":\"Range1d\"},{\"attributes\":{\"below\":[{\"id\":\"1016\"}],\"center\":[{\"id\":\"1019\"},{\"id\":\"1023\"}],\"height\":300,\"left\":[{\"id\":\"1020\"}],\"margin\":[5,5,5,5],\"min_border_bottom\":10,\"min_border_left\":10,\"min_border_right\":10,\"min_border_top\":10,\"renderers\":[{\"id\":\"1043\"}],\"sizing_mode\":\"fixed\",\"title\":{\"id\":\"1008\"},\"toolbar\":{\"id\":\"1030\"},\"width\":700,\"x_range\":{\"id\":\"1004\"},\"x_scale\":{\"id\":\"1012\"},\"y_range\":{\"id\":\"1005\"},\"y_scale\":{\"id\":\"1014\"}},\"id\":\"1007\",\"subtype\":\"Figure\",\"type\":\"Plot\"},{\"attributes\":{\"line_alpha\":0.2,\"line_color\":\"#30a2da\",\"line_width\":2,\"x\":{\"field\":\"k\"},\"y\":{\"field\":\"inertia\"}},\"id\":\"1042\",\"type\":\"Line\"},{\"attributes\":{\"line_color\":\"#30a2da\",\"line_width\":2,\"x\":{\"field\":\"k\"},\"y\":{\"field\":\"inertia\"}},\"id\":\"1040\",\"type\":\"Line\"},{\"attributes\":{\"line_alpha\":0.1,\"line_color\":\"#30a2da\",\"line_width\":2,\"x\":{\"field\":\"k\"},\"y\":{\"field\":\"inertia\"}},\"id\":\"1041\",\"type\":\"Line\"}],\"root_ids\":[\"1002\"]},\"title\":\"Bokeh Application\",\"version\":\"2.4.3\"}};\n",
       "    var render_items = [{\"docid\":\"d3602cb9-7d6b-4e18-ae27-2aa848c59e8d\",\"root_ids\":[\"1002\"],\"roots\":{\"1002\":\"b1f8ee46-9de8-49c9-a201-9bb309f89259\"}}];\n",
       "    root.Bokeh.embed.embed_items_notebook(docs_json, render_items);\n",
       "  }\n",
       "  if (root.Bokeh !== undefined && root.Bokeh.Panel !== undefined) {\n",
       "    embed_document(root);\n",
       "  } else {\n",
       "    var attempts = 0;\n",
       "    var timer = setInterval(function(root) {\n",
       "      if (root.Bokeh !== undefined && root.Bokeh.Panel !== undefined) {\n",
       "        clearInterval(timer);\n",
       "        embed_document(root);\n",
       "      } else if (document.readyState == \"complete\") {\n",
       "        attempts++;\n",
       "        if (attempts > 200) {\n",
       "          clearInterval(timer);\n",
       "          console.log(\"Bokeh: ERROR: Unable to run BokehJS code because BokehJS library is missing\");\n",
       "        }\n",
       "      }\n",
       "    }, 25, root)\n",
       "  }\n",
       "})(window);</script>"
      ],
      "text/plain": [
       ":Curve   [k]   (inertia)"
      ]
     },
     "execution_count": 47,
     "metadata": {
      "application/vnd.holoviews_exec.v0+json": {
       "id": "1002"
      }
     },
     "output_type": "execute_result"
    }
   ],
   "source": [
    "# Create an elbow curve to find the best value for K.\n",
    "inertia = []\n",
    "k = list(range(1, 11))\n",
    "\n",
    "# Then, we calculate the inertia for the range of k values\n",
    "for i in k:\n",
    "    k_model = KMeans(n_clusters=i, random_state=1)\n",
    "    k_model.fit(pcs_df)\n",
    "    inertia.append(k_model.inertia_)\n",
    "\n",
    "# We create the Elbow Curve using hvPlot\n",
    "elbow_data = {\"k\": k, \"inertia\": inertia}\n",
    "df_elbow = pd.DataFrame(elbow_data)\n",
    "\n",
    "# Finally, we create the Elbow plot\n",
    "df_elbow.hvplot.line(\n",
    "    x=\"k\", \n",
    "    y=\"inertia\", \n",
    "    title=\"Elbow Curve\", \n",
    "    xticks=k\n",
    ")\n"
   ]
  },
  {
   "cell_type": "markdown",
   "metadata": {},
   "source": [
    "Running K-Means with `k=4`"
   ]
  },
  {
   "cell_type": "code",
   "execution_count": 73,
   "metadata": {},
   "outputs": [
    {
     "data": {
      "text/plain": [
       "array([0, 0, 4, 2, 5, 2, 0, 5, 5, 5, 6, 5, 0, 0, 2, 6, 2, 2, 0, 0, 5, 9,\n",
       "       2, 2, 2, 0, 2, 2, 2, 0, 2, 0, 2, 2, 0, 0, 5, 2, 2, 2, 2, 2, 6, 0,\n",
       "       2, 2, 2, 2, 2, 0, 0, 9, 0, 2, 2, 2, 2, 6, 2, 5, 0, 2, 0, 0, 6, 2,\n",
       "       2, 2, 6, 0, 0, 0, 0, 2, 2, 2, 0, 0, 2, 0, 2, 6, 0, 2, 2, 2, 2, 0,\n",
       "       0, 2, 0, 2, 2, 0, 0, 2, 6, 0, 9, 5, 0, 6, 2, 0, 0, 2, 0, 2, 6, 2,\n",
       "       0, 2, 0, 6, 2, 5, 0, 5, 2, 2, 0, 2, 5, 2, 2, 2, 0, 6, 2, 5, 2, 6,\n",
       "       2, 0, 2, 2, 0, 5, 6, 5, 0, 6, 2, 2, 0, 2, 2, 0, 0, 2, 0, 2, 0, 0,\n",
       "       0, 2, 5, 2, 5, 0, 0, 0, 0, 6, 2, 2, 0, 0, 0, 0, 0, 2, 6, 0, 0, 0,\n",
       "       6, 2, 0, 5, 0, 0, 5, 0, 2, 0, 0, 5, 0, 2, 0, 2, 0, 2, 6, 6, 0, 0,\n",
       "       5, 6, 6, 6, 6, 6, 5, 5, 4, 0, 2, 2, 6, 0, 6, 0, 0, 2, 6, 0, 0, 0,\n",
       "       0, 0, 0, 0, 5, 0, 0, 0, 0, 6, 0, 2, 5, 5, 0, 0, 0, 0, 2, 0, 5, 0,\n",
       "       0, 2, 6, 2, 5, 0, 2, 5, 0, 5, 0, 6, 0, 2, 6, 0, 2, 6, 0, 0, 0, 0,\n",
       "       0, 0, 2, 0, 2, 6, 0, 6, 0, 2, 6, 5, 6, 5, 5, 5, 5, 0, 2, 0, 6, 2,\n",
       "       6, 2, 2, 2, 0, 5, 6, 5, 9, 2, 6, 2, 6, 2, 0, 0, 4, 2, 6, 9, 2, 2,\n",
       "       2, 2, 0, 0, 5, 6, 6, 0, 5, 0, 2, 0, 2, 0, 5, 0, 0, 0, 6, 5, 0, 6,\n",
       "       2, 6, 0, 0, 2, 2, 5, 2, 0, 4, 0, 6, 5, 0, 5, 5, 5, 0, 6, 2, 5, 0,\n",
       "       0, 2, 0, 2, 2, 2, 6, 2, 2, 0, 0, 0, 2, 2, 2, 6, 0, 0, 7, 5, 0, 5,\n",
       "       2, 5, 2, 6, 3, 3, 2, 2, 2, 0, 8, 0, 0, 0, 6, 5, 5, 2, 5, 0, 0, 0,\n",
       "       5, 0, 5, 6, 6, 0, 4, 2, 6, 6, 5, 0, 0, 2, 5, 0, 5, 0, 5, 5, 5, 9,\n",
       "       0, 0, 5, 6, 5, 0, 6, 9, 6, 0, 6, 2, 5, 2, 0, 6, 6, 0, 0, 6, 2, 0,\n",
       "       5, 5, 2, 9, 0, 0, 0, 6, 2, 0, 0, 2, 0, 6, 2, 0, 5, 0, 5, 2, 0, 0,\n",
       "       5, 6, 5, 5, 2, 5, 2, 0, 5, 6, 5, 6, 0, 2, 0, 0, 0, 6, 0, 2, 2, 2,\n",
       "       0, 4, 0, 2, 0, 2, 0, 5, 0, 0, 0, 0, 2, 0, 0, 0, 2, 0, 2, 0, 2, 0,\n",
       "       0, 6, 2, 2, 0, 0, 4, 0, 0, 0, 5, 6, 5, 4, 5, 4, 0, 3, 6, 1, 6, 4,\n",
       "       0, 5, 5, 0])"
      ]
     },
     "execution_count": 73,
     "metadata": {},
     "output_type": "execute_result"
    }
   ],
   "source": [
    "# Initialize the K-Means model.\n",
    "model = KMeans(n_clusters = 10, random_state=0)\n",
    "\n",
    "# Fit the model\n",
    "model.fit(pcs_df)\n",
    "\n",
    "# Predict clusters\n",
    "k_10 = model.predict(pcs_df)\n",
    "k_10"
   ]
  },
  {
   "cell_type": "code",
   "execution_count": 75,
   "metadata": {},
   "outputs": [
    {
     "name": "stdout",
     "output_type": "stream",
     "text": [
      "(532, 9)\n"
     ]
    },
    {
     "data": {
      "text/html": [
       "<div>\n",
       "<style scoped>\n",
       "    .dataframe tbody tr th:only-of-type {\n",
       "        vertical-align: middle;\n",
       "    }\n",
       "\n",
       "    .dataframe tbody tr th {\n",
       "        vertical-align: top;\n",
       "    }\n",
       "\n",
       "    .dataframe thead th {\n",
       "        text-align: right;\n",
       "    }\n",
       "</style>\n",
       "<table border=\"1\" class=\"dataframe\">\n",
       "  <thead>\n",
       "    <tr style=\"text-align: right;\">\n",
       "      <th></th>\n",
       "      <th>Algorithm</th>\n",
       "      <th>ProofType</th>\n",
       "      <th>TotalCoinsMined</th>\n",
       "      <th>TotalCoinSupply</th>\n",
       "      <th>PC 1</th>\n",
       "      <th>PC 2</th>\n",
       "      <th>PC 3</th>\n",
       "      <th>CoinName</th>\n",
       "      <th>Class</th>\n",
       "    </tr>\n",
       "    <tr>\n",
       "      <th>Unnamed: 0</th>\n",
       "      <th></th>\n",
       "      <th></th>\n",
       "      <th></th>\n",
       "      <th></th>\n",
       "      <th></th>\n",
       "      <th></th>\n",
       "      <th></th>\n",
       "      <th></th>\n",
       "      <th></th>\n",
       "    </tr>\n",
       "  </thead>\n",
       "  <tbody>\n",
       "    <tr>\n",
       "      <th>42</th>\n",
       "      <td>Scrypt</td>\n",
       "      <td>PoW/PoS</td>\n",
       "      <td>4.199995e+01</td>\n",
       "      <td>42</td>\n",
       "      <td>-0.326935</td>\n",
       "      <td>0.894637</td>\n",
       "      <td>-0.534548</td>\n",
       "      <td>CoinName</td>\n",
       "      <td>k_10</td>\n",
       "    </tr>\n",
       "    <tr>\n",
       "      <th>404</th>\n",
       "      <td>Scrypt</td>\n",
       "      <td>PoW/PoS</td>\n",
       "      <td>1.055185e+09</td>\n",
       "      <td>532000000</td>\n",
       "      <td>-0.310274</td>\n",
       "      <td>0.894768</td>\n",
       "      <td>-0.534874</td>\n",
       "      <td>CoinName</td>\n",
       "      <td>k_10</td>\n",
       "    </tr>\n",
       "    <tr>\n",
       "      <th>1337</th>\n",
       "      <td>X13</td>\n",
       "      <td>PoW/PoS</td>\n",
       "      <td>2.927942e+10</td>\n",
       "      <td>314159265359</td>\n",
       "      <td>2.296455</td>\n",
       "      <td>1.646189</td>\n",
       "      <td>-0.552855</td>\n",
       "      <td>CoinName</td>\n",
       "      <td>k_10</td>\n",
       "    </tr>\n",
       "    <tr>\n",
       "      <th>BTC</th>\n",
       "      <td>SHA-256</td>\n",
       "      <td>PoW</td>\n",
       "      <td>1.792718e+07</td>\n",
       "      <td>21000000</td>\n",
       "      <td>-0.144970</td>\n",
       "      <td>-1.276373</td>\n",
       "      <td>0.149760</td>\n",
       "      <td>CoinName</td>\n",
       "      <td>k_10</td>\n",
       "    </tr>\n",
       "    <tr>\n",
       "      <th>ETH</th>\n",
       "      <td>Ethash</td>\n",
       "      <td>PoW</td>\n",
       "      <td>1.076842e+08</td>\n",
       "      <td>0</td>\n",
       "      <td>-0.159305</td>\n",
       "      <td>-1.966826</td>\n",
       "      <td>0.330392</td>\n",
       "      <td>CoinName</td>\n",
       "      <td>k_10</td>\n",
       "    </tr>\n",
       "    <tr>\n",
       "      <th>LTC</th>\n",
       "      <td>Scrypt</td>\n",
       "      <td>PoW</td>\n",
       "      <td>6.303924e+07</td>\n",
       "      <td>84000000</td>\n",
       "      <td>-0.165173</td>\n",
       "      <td>-1.185943</td>\n",
       "      <td>-0.043936</td>\n",
       "      <td>CoinName</td>\n",
       "      <td>k_10</td>\n",
       "    </tr>\n",
       "    <tr>\n",
       "      <th>DASH</th>\n",
       "      <td>X11</td>\n",
       "      <td>PoW/PoS</td>\n",
       "      <td>9.031294e+06</td>\n",
       "      <td>22000000</td>\n",
       "      <td>-0.388162</td>\n",
       "      <td>1.218025</td>\n",
       "      <td>-0.464736</td>\n",
       "      <td>CoinName</td>\n",
       "      <td>k_10</td>\n",
       "    </tr>\n",
       "    <tr>\n",
       "      <th>XMR</th>\n",
       "      <td>CryptoNight-V7</td>\n",
       "      <td>PoW</td>\n",
       "      <td>1.720114e+07</td>\n",
       "      <td>0</td>\n",
       "      <td>-0.141914</td>\n",
       "      <td>-2.254401</td>\n",
       "      <td>0.281306</td>\n",
       "      <td>CoinName</td>\n",
       "      <td>k_10</td>\n",
       "    </tr>\n",
       "    <tr>\n",
       "      <th>ETC</th>\n",
       "      <td>Ethash</td>\n",
       "      <td>PoW</td>\n",
       "      <td>1.133597e+08</td>\n",
       "      <td>210000000</td>\n",
       "      <td>-0.157748</td>\n",
       "      <td>-1.966925</td>\n",
       "      <td>0.330372</td>\n",
       "      <td>CoinName</td>\n",
       "      <td>k_10</td>\n",
       "    </tr>\n",
       "    <tr>\n",
       "      <th>ZEC</th>\n",
       "      <td>Equihash</td>\n",
       "      <td>PoW</td>\n",
       "      <td>7.383056e+06</td>\n",
       "      <td>21000000</td>\n",
       "      <td>-0.141733</td>\n",
       "      <td>-2.132066</td>\n",
       "      <td>0.496596</td>\n",
       "      <td>CoinName</td>\n",
       "      <td>k_10</td>\n",
       "    </tr>\n",
       "  </tbody>\n",
       "</table>\n",
       "</div>"
      ],
      "text/plain": [
       "                 Algorithm ProofType  TotalCoinsMined TotalCoinSupply  \\\n",
       "Unnamed: 0                                                              \n",
       "42                  Scrypt   PoW/PoS     4.199995e+01              42   \n",
       "404                 Scrypt   PoW/PoS     1.055185e+09       532000000   \n",
       "1337                   X13   PoW/PoS     2.927942e+10    314159265359   \n",
       "BTC                SHA-256       PoW     1.792718e+07        21000000   \n",
       "ETH                 Ethash       PoW     1.076842e+08               0   \n",
       "LTC                 Scrypt       PoW     6.303924e+07        84000000   \n",
       "DASH                   X11   PoW/PoS     9.031294e+06        22000000   \n",
       "XMR         CryptoNight-V7       PoW     1.720114e+07               0   \n",
       "ETC                 Ethash       PoW     1.133597e+08       210000000   \n",
       "ZEC               Equihash       PoW     7.383056e+06        21000000   \n",
       "\n",
       "                PC 1      PC 2      PC 3  CoinName Class  \n",
       "Unnamed: 0                                                \n",
       "42         -0.326935  0.894637 -0.534548  CoinName  k_10  \n",
       "404        -0.310274  0.894768 -0.534874  CoinName  k_10  \n",
       "1337        2.296455  1.646189 -0.552855  CoinName  k_10  \n",
       "BTC        -0.144970 -1.276373  0.149760  CoinName  k_10  \n",
       "ETH        -0.159305 -1.966826  0.330392  CoinName  k_10  \n",
       "LTC        -0.165173 -1.185943 -0.043936  CoinName  k_10  \n",
       "DASH       -0.388162  1.218025 -0.464736  CoinName  k_10  \n",
       "XMR        -0.141914 -2.254401  0.281306  CoinName  k_10  \n",
       "ETC        -0.157748 -1.966925  0.330372  CoinName  k_10  \n",
       "ZEC        -0.141733 -2.132066  0.496596  CoinName  k_10  "
      ]
     },
     "execution_count": 75,
     "metadata": {},
     "output_type": "execute_result"
    }
   ],
   "source": [
    "# Create a new DataFrame including predicted clusters and cryptocurrencies features.\n",
    "# Concatentate the crypto_df and pcs_df DataFrames on the same columns.\n",
    "clustered_df = pd.concat([crypto_df, pcs_df], axis=1)\n",
    "\n",
    "#  Add a new column, \"CoinName\" to the clustered_df DataFrame that holds the names of the cryptocurrencies. \n",
    "clustered_df[\"CoinName\"] = 'CoinName'\n",
    "\n",
    "#  Add a new column, \"Class\" to the clustered_df DataFrame that holds the predictions.\n",
    "clustered_df[\"Class\"] = 'k_10'\n",
    "\n",
    "# Print the shape of the clustered_df\n",
    "print(clustered_df.shape)\n",
    "clustered_df.head(10)"
   ]
  },
  {
   "cell_type": "markdown",
   "metadata": {},
   "source": [
    "### Deliverable 4: Visualizing Cryptocurrencies Results\n",
    "\n",
    "#### 3D-Scatter with Clusters"
   ]
  },
  {
   "cell_type": "code",
   "execution_count": 76,
   "metadata": {},
   "outputs": [
    {
     "data": {
      "application/vnd.plotly.v1+json": {
       "config": {
        "plotlyServerURL": "https://plot.ly"
       },
       "data": [
        {
         "customdata": [
          [
           "Scrypt"
          ],
          [
           "Scrypt"
          ],
          [
           "X13"
          ],
          [
           "SHA-256"
          ],
          [
           "Ethash"
          ],
          [
           "Scrypt"
          ],
          [
           "X11"
          ],
          [
           "CryptoNight-V7"
          ],
          [
           "Ethash"
          ],
          [
           "Equihash"
          ],
          [
           "SHA-512"
          ],
          [
           "Multiple"
          ],
          [
           "SHA-256"
          ],
          [
           "SHA-256"
          ],
          [
           "Scrypt"
          ],
          [
           "X15"
          ],
          [
           "X11"
          ],
          [
           "Scrypt"
          ],
          [
           "Scrypt"
          ],
          [
           "Scrypt"
          ],
          [
           "Multiple"
          ],
          [
           "Scrypt"
          ],
          [
           "SHA-256"
          ],
          [
           "Scrypt"
          ],
          [
           "Scrypt"
          ],
          [
           "Scrypt"
          ],
          [
           "Quark"
          ],
          [
           "Groestl"
          ],
          [
           "Scrypt"
          ],
          [
           "Scrypt"
          ],
          [
           "Scrypt"
          ],
          [
           "Scrypt"
          ],
          [
           "Scrypt"
          ],
          [
           "X11"
          ],
          [
           "Scrypt"
          ],
          [
           "Groestl"
          ],
          [
           "Multiple"
          ],
          [
           "SHA-256"
          ],
          [
           "Scrypt"
          ],
          [
           "Scrypt"
          ],
          [
           "Scrypt"
          ],
          [
           "Scrypt"
          ],
          [
           "PoS"
          ],
          [
           "Scrypt"
          ],
          [
           "Scrypt"
          ],
          [
           "NeoScrypt"
          ],
          [
           "Scrypt"
          ],
          [
           "Scrypt"
          ],
          [
           "Scrypt"
          ],
          [
           "Scrypt"
          ],
          [
           "X11"
          ],
          [
           "Scrypt"
          ],
          [
           "X11"
          ],
          [
           "SHA-256"
          ],
          [
           "Scrypt"
          ],
          [
           "Scrypt"
          ],
          [
           "Scrypt"
          ],
          [
           "SHA3"
          ],
          [
           "Scrypt"
          ],
          [
           "HybridScryptHash256"
          ],
          [
           "Scrypt"
          ],
          [
           "Scrypt"
          ],
          [
           "SHA-256"
          ],
          [
           "Scrypt"
          ],
          [
           "X13"
          ],
          [
           "Scrypt"
          ],
          [
           "SHA-256"
          ],
          [
           "Scrypt"
          ],
          [
           "X13"
          ],
          [
           "NeoScrypt"
          ],
          [
           "Scrypt"
          ],
          [
           "Scrypt"
          ],
          [
           "Scrypt"
          ],
          [
           "Scrypt"
          ],
          [
           "Scrypt"
          ],
          [
           "Scrypt"
          ],
          [
           "X11"
          ],
          [
           "X11"
          ],
          [
           "SHA-256"
          ],
          [
           "Multiple"
          ],
          [
           "SHA-256"
          ],
          [
           "PHI1612"
          ],
          [
           "X11"
          ],
          [
           "SHA-256"
          ],
          [
           "SHA-256"
          ],
          [
           "SHA-256"
          ],
          [
           "X11"
          ],
          [
           "Scrypt"
          ],
          [
           "Scrypt"
          ],
          [
           "Scrypt"
          ],
          [
           "Scrypt"
          ],
          [
           "Lyra2REv2"
          ],
          [
           "Scrypt"
          ],
          [
           "X11"
          ],
          [
           "Multiple"
          ],
          [
           "SHA-256"
          ],
          [
           "X13"
          ],
          [
           "Scrypt"
          ],
          [
           "CryptoNight"
          ],
          [
           "CryptoNight"
          ],
          [
           "Shabal256"
          ],
          [
           "Counterparty"
          ],
          [
           "Scrypt"
          ],
          [
           "SHA-256"
          ],
          [
           "Groestl"
          ],
          [
           "Scrypt"
          ],
          [
           "Scrypt"
          ],
          [
           "Scrypt"
          ],
          [
           "X13"
          ],
          [
           "Scrypt"
          ],
          [
           "Scrypt"
          ],
          [
           "Scrypt"
          ],
          [
           "Scrypt"
          ],
          [
           "X13"
          ],
          [
           "Scrypt"
          ],
          [
           "Stanford Folding"
          ],
          [
           "X11"
          ],
          [
           "Multiple"
          ],
          [
           "QuBit"
          ],
          [
           "Scrypt"
          ],
          [
           "Scrypt"
          ],
          [
           "Scrypt"
          ],
          [
           "M7 POW"
          ],
          [
           "Scrypt"
          ],
          [
           "SHA-256"
          ],
          [
           "Scrypt"
          ],
          [
           "X11"
          ],
          [
           "SHA3"
          ],
          [
           "X11"
          ],
          [
           "Lyra2RE"
          ],
          [
           "SHA-256"
          ],
          [
           "QUAIT"
          ],
          [
           "X11"
          ],
          [
           "X11"
          ],
          [
           "Scrypt"
          ],
          [
           "Scrypt"
          ],
          [
           "Scrypt"
          ],
          [
           "Ethash"
          ],
          [
           "X13"
          ],
          [
           "Blake2b"
          ],
          [
           "SHA-256"
          ],
          [
           "X15"
          ],
          [
           "X11"
          ],
          [
           "SHA-256"
          ],
          [
           "BLAKE256"
          ],
          [
           "Scrypt"
          ],
          [
           "1GB AES Pattern Search"
          ],
          [
           "SHA-256"
          ],
          [
           "X11"
          ],
          [
           "Scrypt"
          ],
          [
           "SHA-256"
          ],
          [
           "SHA-256"
          ],
          [
           "NIST5"
          ],
          [
           "Scrypt"
          ],
          [
           "Scrypt"
          ],
          [
           "X11"
          ],
          [
           "Dagger"
          ],
          [
           "Scrypt"
          ],
          [
           "X11GOST"
          ],
          [
           "X11"
          ],
          [
           "Scrypt"
          ],
          [
           "SHA-256"
          ],
          [
           "Scrypt"
          ],
          [
           "PoS"
          ],
          [
           "Scrypt"
          ],
          [
           "X11"
          ],
          [
           "X11"
          ],
          [
           "SHA-256"
          ],
          [
           "SHA-256"
          ],
          [
           "NIST5"
          ],
          [
           "X11"
          ],
          [
           "Scrypt"
          ],
          [
           "POS 3.0"
          ],
          [
           "Scrypt"
          ],
          [
           "Scrypt"
          ],
          [
           "Scrypt"
          ],
          [
           "X13"
          ],
          [
           "X11"
          ],
          [
           "X11"
          ],
          [
           "Equihash"
          ],
          [
           "X11"
          ],
          [
           "Scrypt"
          ],
          [
           "CryptoNight"
          ],
          [
           "SHA-256"
          ],
          [
           "SHA-256"
          ],
          [
           "X11"
          ],
          [
           "Scrypt"
          ],
          [
           "Multiple"
          ],
          [
           "Scrypt"
          ],
          [
           "Scrypt"
          ],
          [
           "Scrypt"
          ],
          [
           "SHA-256"
          ],
          [
           "Scrypt"
          ],
          [
           "Scrypt"
          ],
          [
           "SHA-256D"
          ],
          [
           "PoS"
          ],
          [
           "Scrypt"
          ],
          [
           "X11"
          ],
          [
           "Lyra2Z"
          ],
          [
           "PoS"
          ],
          [
           "X13"
          ],
          [
           "X14"
          ],
          [
           "PoS"
          ],
          [
           "SHA-256D"
          ],
          [
           "Ethash"
          ],
          [
           "Equihash"
          ],
          [
           "DPoS"
          ],
          [
           "X11"
          ],
          [
           "Scrypt"
          ],
          [
           "X11"
          ],
          [
           "X13"
          ],
          [
           "X11"
          ],
          [
           "PoS"
          ],
          [
           "Scrypt"
          ],
          [
           "Scrypt"
          ],
          [
           "X11"
          ],
          [
           "PoS"
          ],
          [
           "X11"
          ],
          [
           "SHA-256"
          ],
          [
           "Scrypt"
          ],
          [
           "X11"
          ],
          [
           "Scrypt"
          ],
          [
           "Scrypt"
          ],
          [
           "X11"
          ],
          [
           "CryptoNight"
          ],
          [
           "Scrypt"
          ],
          [
           "Scrypt"
          ],
          [
           "Scrypt"
          ],
          [
           "Scrypt"
          ],
          [
           "Quark"
          ],
          [
           "QuBit"
          ],
          [
           "Scrypt"
          ],
          [
           "CryptoNight"
          ],
          [
           "Lyra2RE"
          ],
          [
           "Scrypt"
          ],
          [
           "SHA-256"
          ],
          [
           "X11"
          ],
          [
           "Scrypt"
          ],
          [
           "X11"
          ],
          [
           "Scrypt"
          ],
          [
           "CryptoNight-V7"
          ],
          [
           "Scrypt"
          ],
          [
           "Scrypt"
          ],
          [
           "Scrypt"
          ],
          [
           "X13"
          ],
          [
           "X11"
          ],
          [
           "Equihash"
          ],
          [
           "Scrypt"
          ],
          [
           "Scrypt"
          ],
          [
           "Lyra2RE"
          ],
          [
           "Scrypt"
          ],
          [
           "Dagger-Hashimoto"
          ],
          [
           "X11"
          ],
          [
           "Blake2S"
          ],
          [
           "X11"
          ],
          [
           "Scrypt"
          ],
          [
           "PoS"
          ],
          [
           "X11"
          ],
          [
           "NIST5"
          ],
          [
           "PoS"
          ],
          [
           "X11"
          ],
          [
           "Scrypt"
          ],
          [
           "Scrypt"
          ],
          [
           "Scrypt"
          ],
          [
           "SHA-256"
          ],
          [
           "X11"
          ],
          [
           "Scrypt"
          ],
          [
           "Scrypt"
          ],
          [
           "SHA-256"
          ],
          [
           "PoS"
          ],
          [
           "Scrypt"
          ],
          [
           "X15"
          ],
          [
           "SHA-256"
          ],
          [
           "Scrypt"
          ],
          [
           "POS 3.0"
          ],
          [
           "CryptoNight-V7"
          ],
          [
           "536"
          ],
          [
           "Argon2d"
          ],
          [
           "Blake2b"
          ],
          [
           "Cloverhash"
          ],
          [
           "CryptoNight"
          ],
          [
           "NIST5"
          ],
          [
           "X11"
          ],
          [
           "NIST5"
          ],
          [
           "Skein"
          ],
          [
           "Scrypt"
          ],
          [
           "X13"
          ],
          [
           "Scrypt"
          ],
          [
           "X11"
          ],
          [
           "X11"
          ],
          [
           "Scrypt"
          ],
          [
           "CryptoNight"
          ],
          [
           "X13"
          ],
          [
           "Time Travel"
          ],
          [
           "Scrypt"
          ],
          [
           "Keccak"
          ],
          [
           "SkunkHash v2 Raptor"
          ],
          [
           "X11"
          ],
          [
           "Skein"
          ],
          [
           "SHA-256"
          ],
          [
           "X11"
          ],
          [
           "Scrypt"
          ],
          [
           "VeChainThor Authority"
          ],
          [
           "Scrypt"
          ],
          [
           "PoS"
          ],
          [
           "Scrypt"
          ],
          [
           "Scrypt"
          ],
          [
           "Scrypt"
          ],
          [
           "Scrypt"
          ],
          [
           "Scrypt"
          ],
          [
           "Scrypt"
          ],
          [
           "Scrypt"
          ],
          [
           "CryptoNight"
          ],
          [
           "SHA-512"
          ],
          [
           "Ouroboros"
          ],
          [
           "X11"
          ],
          [
           "Equihash"
          ],
          [
           "NeoScrypt"
          ],
          [
           "X11"
          ],
          [
           "Scrypt"
          ],
          [
           "NeoScrypt"
          ],
          [
           "Lyra2REv2"
          ],
          [
           "Equihash"
          ],
          [
           "Scrypt"
          ],
          [
           "SHA-256"
          ],
          [
           "NIST5"
          ],
          [
           "PHI1612"
          ],
          [
           "Dagger"
          ],
          [
           "Scrypt"
          ],
          [
           "Quark"
          ],
          [
           "Scrypt"
          ],
          [
           "POS 2.0"
          ],
          [
           "Scrypt"
          ],
          [
           "SHA-256"
          ],
          [
           "X11"
          ],
          [
           "NeoScrypt"
          ],
          [
           "Ethash"
          ],
          [
           "NeoScrypt"
          ],
          [
           "X11"
          ],
          [
           "DPoS"
          ],
          [
           "NIST5"
          ],
          [
           "X13"
          ],
          [
           "Multiple"
          ],
          [
           "Scrypt"
          ],
          [
           "CryptoNight"
          ],
          [
           "CryptoNight"
          ],
          [
           "Ethash"
          ],
          [
           "NIST5"
          ],
          [
           "Quark"
          ],
          [
           "X11"
          ],
          [
           "CryptoNight-V7"
          ],
          [
           "Scrypt"
          ],
          [
           "Scrypt"
          ],
          [
           "Scrypt"
          ],
          [
           "X11"
          ],
          [
           "BLAKE256"
          ],
          [
           "X11"
          ],
          [
           "NeoScrypt"
          ],
          [
           "Quark"
          ],
          [
           "NeoScrypt"
          ],
          [
           "Scrypt"
          ],
          [
           "Scrypt"
          ],
          [
           "Scrypt"
          ],
          [
           "X11"
          ],
          [
           "X11"
          ],
          [
           "SHA-256"
          ],
          [
           "C11"
          ],
          [
           "POS 3.0"
          ],
          [
           "Ethash"
          ],
          [
           "Scrypt"
          ],
          [
           "CryptoNight"
          ],
          [
           "SkunkHash"
          ],
          [
           "Scrypt"
          ],
          [
           "CryptoNight"
          ],
          [
           "Scrypt"
          ],
          [
           "Dagger"
          ],
          [
           "Lyra2REv2"
          ],
          [
           "X13"
          ],
          [
           "Proof-of-BibleHash"
          ],
          [
           "SHA-256 + Hive"
          ],
          [
           "Scrypt"
          ],
          [
           "Scrypt"
          ],
          [
           "X11"
          ],
          [
           "C11"
          ],
          [
           "Proof-of-Authority"
          ],
          [
           "X11"
          ],
          [
           "XEVAN"
          ],
          [
           "Scrypt"
          ],
          [
           "VBFT"
          ],
          [
           "Ethash"
          ],
          [
           "CryptoNight"
          ],
          [
           "Scrypt"
          ],
          [
           "IMesh"
          ],
          [
           "NIST5"
          ],
          [
           "Scrypt"
          ],
          [
           "Scrypt"
          ],
          [
           "Equihash"
          ],
          [
           "Scrypt"
          ],
          [
           "Lyra2Z"
          ],
          [
           "Green Protocol"
          ],
          [
           "PoS"
          ],
          [
           "Scrypt"
          ],
          [
           "Semux BFT consensus"
          ],
          [
           "X11"
          ],
          [
           "Quark"
          ],
          [
           "PoS"
          ],
          [
           "CryptoNight"
          ],
          [
           "X16R"
          ],
          [
           "Scrypt"
          ],
          [
           "NIST5"
          ],
          [
           "Lyra2RE"
          ],
          [
           "XEVAN"
          ],
          [
           "Tribus"
          ],
          [
           "Scrypt"
          ],
          [
           "Lyra2Z"
          ],
          [
           "CryptoNight"
          ],
          [
           "CryptoNight Heavy"
          ],
          [
           "CryptoNight"
          ],
          [
           "Scrypt"
          ],
          [
           "Scrypt"
          ],
          [
           "Jump Consistent Hash"
          ],
          [
           "SHA-256D"
          ],
          [
           "CryptoNight"
          ],
          [
           "Scrypt"
          ],
          [
           "X15"
          ],
          [
           "Scrypt"
          ],
          [
           "Quark"
          ],
          [
           "SHA-256"
          ],
          [
           "DPoS"
          ],
          [
           "X16R"
          ],
          [
           "HMQ1725"
          ],
          [
           "X11"
          ],
          [
           "X16R"
          ],
          [
           "Quark"
          ],
          [
           "Quark"
          ],
          [
           "Scrypt"
          ],
          [
           "Lyra2REv2"
          ],
          [
           "Quark"
          ],
          [
           "Scrypt"
          ],
          [
           "Scrypt"
          ],
          [
           "CryptoNight-V7"
          ],
          [
           "Cryptonight-GPU"
          ],
          [
           "XEVAN"
          ],
          [
           "CryptoNight Heavy"
          ],
          [
           "X11"
          ],
          [
           "X11"
          ],
          [
           "Scrypt"
          ],
          [
           "PoS"
          ],
          [
           "SHA-256"
          ],
          [
           "Keccak"
          ],
          [
           "X11"
          ],
          [
           "X11"
          ],
          [
           "Scrypt"
          ],
          [
           "SHA-512"
          ],
          [
           "X16R"
          ],
          [
           "ECC 256K1"
          ],
          [
           "Equihash"
          ],
          [
           "XEVAN"
          ],
          [
           "Lyra2Z"
          ],
          [
           "SHA-256"
          ],
          [
           "XEVAN"
          ],
          [
           "X11"
          ],
          [
           "CryptoNight"
          ],
          [
           "Quark"
          ],
          [
           "Blake"
          ],
          [
           "Blake"
          ],
          [
           "Equihash"
          ],
          [
           "Exosis"
          ],
          [
           "Scrypt"
          ],
          [
           "Scrypt"
          ],
          [
           "Equihash"
          ],
          [
           "Quark"
          ],
          [
           "Equihash"
          ],
          [
           "Quark"
          ],
          [
           "Scrypt"
          ],
          [
           "QuBit"
          ],
          [
           "X11"
          ],
          [
           "Scrypt"
          ],
          [
           "XEVAN"
          ],
          [
           "SHA-256D"
          ],
          [
           "X11"
          ],
          [
           "SHA-256"
          ],
          [
           "X13"
          ],
          [
           "SHA-256"
          ],
          [
           "X11"
          ],
          [
           "DPoS"
          ],
          [
           "Scrypt"
          ],
          [
           "Scrypt"
          ],
          [
           "X11"
          ],
          [
           "NeoScrypt"
          ],
          [
           "Scrypt"
          ],
          [
           "Blake"
          ],
          [
           "Scrypt"
          ],
          [
           "SHA-256"
          ],
          [
           "Scrypt"
          ],
          [
           "X11"
          ],
          [
           "Scrypt"
          ],
          [
           "Scrypt"
          ],
          [
           "SHA-256"
          ],
          [
           "X11"
          ],
          [
           "SHA-256"
          ],
          [
           "Scrypt"
          ],
          [
           "Scrypt"
          ],
          [
           "Scrypt"
          ],
          [
           "Groestl"
          ],
          [
           "X11"
          ],
          [
           "Scrypt"
          ],
          [
           "PoS"
          ],
          [
           "Scrypt"
          ],
          [
           "Scrypt"
          ],
          [
           "X11"
          ],
          [
           "SHA-256"
          ],
          [
           "DPoS"
          ],
          [
           "Scrypt"
          ],
          [
           "Scrypt"
          ],
          [
           "NeoScrypt"
          ],
          [
           "Multiple"
          ],
          [
           "X13"
          ],
          [
           "Equihash+Scrypt"
          ],
          [
           "DPoS"
          ],
          [
           "Ethash"
          ],
          [
           "DPoS"
          ],
          [
           "SHA-256"
          ],
          [
           "Leased POS"
          ],
          [
           "PoS"
          ],
          [
           "TRC10"
          ],
          [
           "PoS"
          ],
          [
           "SHA-256"
          ],
          [
           "Scrypt"
          ],
          [
           "CryptoNight"
          ],
          [
           "Equihash"
          ],
          [
           "Scrypt"
          ]
         ],
         "hovertemplate": "<b>%{hovertext}</b><br><br>Class=k_10<br>PC 1=%{x}<br>PC 2=%{y}<br>PC 3=%{z}<br>Algorithm=%{customdata[0]}<extra></extra>",
         "hovertext": [
          "CoinName",
          "CoinName",
          "CoinName",
          "CoinName",
          "CoinName",
          "CoinName",
          "CoinName",
          "CoinName",
          "CoinName",
          "CoinName",
          "CoinName",
          "CoinName",
          "CoinName",
          "CoinName",
          "CoinName",
          "CoinName",
          "CoinName",
          "CoinName",
          "CoinName",
          "CoinName",
          "CoinName",
          "CoinName",
          "CoinName",
          "CoinName",
          "CoinName",
          "CoinName",
          "CoinName",
          "CoinName",
          "CoinName",
          "CoinName",
          "CoinName",
          "CoinName",
          "CoinName",
          "CoinName",
          "CoinName",
          "CoinName",
          "CoinName",
          "CoinName",
          "CoinName",
          "CoinName",
          "CoinName",
          "CoinName",
          "CoinName",
          "CoinName",
          "CoinName",
          "CoinName",
          "CoinName",
          "CoinName",
          "CoinName",
          "CoinName",
          "CoinName",
          "CoinName",
          "CoinName",
          "CoinName",
          "CoinName",
          "CoinName",
          "CoinName",
          "CoinName",
          "CoinName",
          "CoinName",
          "CoinName",
          "CoinName",
          "CoinName",
          "CoinName",
          "CoinName",
          "CoinName",
          "CoinName",
          "CoinName",
          "CoinName",
          "CoinName",
          "CoinName",
          "CoinName",
          "CoinName",
          "CoinName",
          "CoinName",
          "CoinName",
          "CoinName",
          "CoinName",
          "CoinName",
          "CoinName",
          "CoinName",
          "CoinName",
          "CoinName",
          "CoinName",
          "CoinName",
          "CoinName",
          "CoinName",
          "CoinName",
          "CoinName",
          "CoinName",
          "CoinName",
          "CoinName",
          "CoinName",
          "CoinName",
          "CoinName",
          "CoinName",
          "CoinName",
          "CoinName",
          "CoinName",
          "CoinName",
          "CoinName",
          "CoinName",
          "CoinName",
          "CoinName",
          "CoinName",
          "CoinName",
          "CoinName",
          "CoinName",
          "CoinName",
          "CoinName",
          "CoinName",
          "CoinName",
          "CoinName",
          "CoinName",
          "CoinName",
          "CoinName",
          "CoinName",
          "CoinName",
          "CoinName",
          "CoinName",
          "CoinName",
          "CoinName",
          "CoinName",
          "CoinName",
          "CoinName",
          "CoinName",
          "CoinName",
          "CoinName",
          "CoinName",
          "CoinName",
          "CoinName",
          "CoinName",
          "CoinName",
          "CoinName",
          "CoinName",
          "CoinName",
          "CoinName",
          "CoinName",
          "CoinName",
          "CoinName",
          "CoinName",
          "CoinName",
          "CoinName",
          "CoinName",
          "CoinName",
          "CoinName",
          "CoinName",
          "CoinName",
          "CoinName",
          "CoinName",
          "CoinName",
          "CoinName",
          "CoinName",
          "CoinName",
          "CoinName",
          "CoinName",
          "CoinName",
          "CoinName",
          "CoinName",
          "CoinName",
          "CoinName",
          "CoinName",
          "CoinName",
          "CoinName",
          "CoinName",
          "CoinName",
          "CoinName",
          "CoinName",
          "CoinName",
          "CoinName",
          "CoinName",
          "CoinName",
          "CoinName",
          "CoinName",
          "CoinName",
          "CoinName",
          "CoinName",
          "CoinName",
          "CoinName",
          "CoinName",
          "CoinName",
          "CoinName",
          "CoinName",
          "CoinName",
          "CoinName",
          "CoinName",
          "CoinName",
          "CoinName",
          "CoinName",
          "CoinName",
          "CoinName",
          "CoinName",
          "CoinName",
          "CoinName",
          "CoinName",
          "CoinName",
          "CoinName",
          "CoinName",
          "CoinName",
          "CoinName",
          "CoinName",
          "CoinName",
          "CoinName",
          "CoinName",
          "CoinName",
          "CoinName",
          "CoinName",
          "CoinName",
          "CoinName",
          "CoinName",
          "CoinName",
          "CoinName",
          "CoinName",
          "CoinName",
          "CoinName",
          "CoinName",
          "CoinName",
          "CoinName",
          "CoinName",
          "CoinName",
          "CoinName",
          "CoinName",
          "CoinName",
          "CoinName",
          "CoinName",
          "CoinName",
          "CoinName",
          "CoinName",
          "CoinName",
          "CoinName",
          "CoinName",
          "CoinName",
          "CoinName",
          "CoinName",
          "CoinName",
          "CoinName",
          "CoinName",
          "CoinName",
          "CoinName",
          "CoinName",
          "CoinName",
          "CoinName",
          "CoinName",
          "CoinName",
          "CoinName",
          "CoinName",
          "CoinName",
          "CoinName",
          "CoinName",
          "CoinName",
          "CoinName",
          "CoinName",
          "CoinName",
          "CoinName",
          "CoinName",
          "CoinName",
          "CoinName",
          "CoinName",
          "CoinName",
          "CoinName",
          "CoinName",
          "CoinName",
          "CoinName",
          "CoinName",
          "CoinName",
          "CoinName",
          "CoinName",
          "CoinName",
          "CoinName",
          "CoinName",
          "CoinName",
          "CoinName",
          "CoinName",
          "CoinName",
          "CoinName",
          "CoinName",
          "CoinName",
          "CoinName",
          "CoinName",
          "CoinName",
          "CoinName",
          "CoinName",
          "CoinName",
          "CoinName",
          "CoinName",
          "CoinName",
          "CoinName",
          "CoinName",
          "CoinName",
          "CoinName",
          "CoinName",
          "CoinName",
          "CoinName",
          "CoinName",
          "CoinName",
          "CoinName",
          "CoinName",
          "CoinName",
          "CoinName",
          "CoinName",
          "CoinName",
          "CoinName",
          "CoinName",
          "CoinName",
          "CoinName",
          "CoinName",
          "CoinName",
          "CoinName",
          "CoinName",
          "CoinName",
          "CoinName",
          "CoinName",
          "CoinName",
          "CoinName",
          "CoinName",
          "CoinName",
          "CoinName",
          "CoinName",
          "CoinName",
          "CoinName",
          "CoinName",
          "CoinName",
          "CoinName",
          "CoinName",
          "CoinName",
          "CoinName",
          "CoinName",
          "CoinName",
          "CoinName",
          "CoinName",
          "CoinName",
          "CoinName",
          "CoinName",
          "CoinName",
          "CoinName",
          "CoinName",
          "CoinName",
          "CoinName",
          "CoinName",
          "CoinName",
          "CoinName",
          "CoinName",
          "CoinName",
          "CoinName",
          "CoinName",
          "CoinName",
          "CoinName",
          "CoinName",
          "CoinName",
          "CoinName",
          "CoinName",
          "CoinName",
          "CoinName",
          "CoinName",
          "CoinName",
          "CoinName",
          "CoinName",
          "CoinName",
          "CoinName",
          "CoinName",
          "CoinName",
          "CoinName",
          "CoinName",
          "CoinName",
          "CoinName",
          "CoinName",
          "CoinName",
          "CoinName",
          "CoinName",
          "CoinName",
          "CoinName",
          "CoinName",
          "CoinName",
          "CoinName",
          "CoinName",
          "CoinName",
          "CoinName",
          "CoinName",
          "CoinName",
          "CoinName",
          "CoinName",
          "CoinName",
          "CoinName",
          "CoinName",
          "CoinName",
          "CoinName",
          "CoinName",
          "CoinName",
          "CoinName",
          "CoinName",
          "CoinName",
          "CoinName",
          "CoinName",
          "CoinName",
          "CoinName",
          "CoinName",
          "CoinName",
          "CoinName",
          "CoinName",
          "CoinName",
          "CoinName",
          "CoinName",
          "CoinName",
          "CoinName",
          "CoinName",
          "CoinName",
          "CoinName",
          "CoinName",
          "CoinName",
          "CoinName",
          "CoinName",
          "CoinName",
          "CoinName",
          "CoinName",
          "CoinName",
          "CoinName",
          "CoinName",
          "CoinName",
          "CoinName",
          "CoinName",
          "CoinName",
          "CoinName",
          "CoinName",
          "CoinName",
          "CoinName",
          "CoinName",
          "CoinName",
          "CoinName",
          "CoinName",
          "CoinName",
          "CoinName",
          "CoinName",
          "CoinName",
          "CoinName",
          "CoinName",
          "CoinName",
          "CoinName",
          "CoinName",
          "CoinName",
          "CoinName",
          "CoinName",
          "CoinName",
          "CoinName",
          "CoinName",
          "CoinName",
          "CoinName",
          "CoinName",
          "CoinName",
          "CoinName",
          "CoinName",
          "CoinName",
          "CoinName",
          "CoinName",
          "CoinName",
          "CoinName",
          "CoinName",
          "CoinName",
          "CoinName",
          "CoinName",
          "CoinName",
          "CoinName",
          "CoinName",
          "CoinName",
          "CoinName",
          "CoinName",
          "CoinName",
          "CoinName",
          "CoinName",
          "CoinName",
          "CoinName",
          "CoinName",
          "CoinName",
          "CoinName",
          "CoinName",
          "CoinName",
          "CoinName",
          "CoinName",
          "CoinName",
          "CoinName",
          "CoinName",
          "CoinName",
          "CoinName",
          "CoinName",
          "CoinName",
          "CoinName",
          "CoinName",
          "CoinName",
          "CoinName",
          "CoinName",
          "CoinName",
          "CoinName",
          "CoinName",
          "CoinName",
          "CoinName",
          "CoinName",
          "CoinName",
          "CoinName",
          "CoinName",
          "CoinName",
          "CoinName",
          "CoinName",
          "CoinName",
          "CoinName",
          "CoinName",
          "CoinName",
          "CoinName",
          "CoinName",
          "CoinName",
          "CoinName",
          "CoinName",
          "CoinName",
          "CoinName",
          "CoinName",
          "CoinName",
          "CoinName",
          "CoinName",
          "CoinName",
          "CoinName",
          "CoinName",
          "CoinName",
          "CoinName",
          "CoinName",
          "CoinName",
          "CoinName",
          "CoinName",
          "CoinName",
          "CoinName",
          "CoinName",
          "CoinName",
          "CoinName",
          "CoinName",
          "CoinName"
         ],
         "legendgroup": "k_10",
         "marker": {
          "color": "#636efa",
          "symbol": "circle"
         },
         "mode": "markers",
         "name": "k_10",
         "scene": "scene",
         "showlegend": true,
         "type": "scatter3d",
         "x": [
          -0.3269351700463582,
          -0.31027445099933854,
          2.296454753303468,
          -0.14497021826973533,
          -0.1593051851732734,
          -0.16517327634782636,
          -0.3881615787445458,
          -0.1419135931810731,
          -0.15774841561526193,
          -0.14173251202390352,
          -0.3097549940653325,
          0.14232099327164888,
          -0.3055631189053978,
          -0.2725614443332305,
          -0.16631925784381213,
          -0.2251344048108762,
          -0.227753169409828,
          -0.16593603471559112,
          -0.3265948191054715,
          -0.3191713641520447,
          -0.11099264949921196,
          2.5533239684824243,
          -0.1420557324828743,
          -0.16319229492793766,
          -0.16574028198997853,
          -0.3254315513039332,
          -0.23917586736210517,
          -0.19482593163490747,
          -0.16578870392013964,
          -0.32693110912017254,
          -0.16630152117390493,
          -0.32691539163168143,
          -0.16638793557072823,
          -0.2278425115449151,
          0.6918264297377943,
          -0.35635159440031994,
          0.1661043949872494,
          0.2327893030106906,
          0.08228726959481104,
          -0.16613424611903163,
          -0.16174081194554396,
          -0.16607360632699575,
          -0.35338098423100656,
          -0.26327635583351444,
          -0.16644493408526484,
          -0.17251406644698838,
          -0.1456738129300489,
          -0.16524026135695125,
          -0.16551776652093353,
          -0.32499452270178375,
          -0.3349809233700834,
          1.5821061349581635,
          -0.3880562615532428,
          -0.14493158184498542,
          -0.1628080759462191,
          -0.166160684849279,
          -0.16651542408833647,
          -0.4510193954444492,
          -0.16577484137681378,
          -0.1474719075945062,
          -0.03382122362110645,
          -0.1663967319952534,
          -0.26888120759734385,
          -0.2936847282282138,
          -0.2856651451185589,
          -0.031384518984329285,
          -0.14500920415040197,
          -0.16006193538698132,
          -0.2862874326303069,
          -0.3377741681465827,
          -0.3212395817486182,
          -0.325337381890594,
          0.031251540324940534,
          -0.1663762459096693,
          -0.16447186692877308,
          -0.16586311876449567,
          -0.35487004156484536,
          -0.3884277298949756,
          -0.13216529768422422,
          -0.27155581379700267,
          -0.14447306978959948,
          -0.33714954037007017,
          -0.3883394268071366,
          -0.14476028379140565,
          -0.14474352738884436,
          -0.14533377499685315,
          -0.22801630853884894,
          -0.302175066322755,
          -0.3256130839216132,
          -0.16609270610199656,
          -0.2846185144188222,
          -0.23470046264206862,
          -0.16319711562268152,
          -0.3883038675810159,
          -0.27202292751986046,
          -0.1445403609369993,
          -0.28606826837753724,
          -0.3180440050111606,
          3.8521066541454574,
          0.4517592220433965,
          0.06553582443569662,
          -0.36963659933473975,
          -0.16496069324797097,
          -0.3047750487496803,
          -0.35577305432948986,
          -0.14956808601841026,
          -0.29366487448179285,
          -0.16367973798398094,
          -0.2863629109943692,
          -0.16651764252130413,
          -0.2883216549722581,
          -0.16354471299611822,
          -0.3269172363194616,
          -0.28631507672563544,
          -0.14977203775674094,
          -0.13950492199625392,
          -0.35531507907497617,
          -0.14499064033031517,
          -0.16385791042569658,
          -0.16639070601507536,
          -0.3266517212543468,
          -0.039378153228066946,
          -0.15537174229808187,
          -0.1665265226037791,
          -0.14503698590115077,
          0.48509630968451395,
          -0.3884092564529592,
          -0.5142046258765655,
          -0.2274036284327713,
          -0.1626903284377303,
          -0.1447770339276559,
          -0.40691597250515243,
          -0.22768848805293354,
          -0.3580428723529382,
          -0.16465146167924516,
          -0.16384385408277466,
          -0.2920668944415943,
          -0.16037292231719677,
          -0.285836927346836,
          0.37225727465806235,
          -0.29812559899662966,
          -0.2275739441186394,
          -0.22772385579640816,
          -0.14493270436727304,
          -0.08917470886452669,
          -0.1624852092805669,
          -0.09908378701940816,
          -0.30553402918637146,
          -0.06601832960157579,
          -0.16509023024014943,
          -0.30559765294861174,
          0.2734661366552442,
          -0.21434378092221568,
          -0.3265277364601033,
          -0.2919367516617717,
          -0.2268849179581704,
          -0.16363600073397566,
          -0.16533827475880458,
          -0.15950975269470286,
          -0.3855807296552357,
          0.8589435669861265,
          -0.3053978925261747,
          -0.03877577855535645,
          -0.3530643549134017,
          -0.16631653565314075,
          -0.22768715562586073,
          -0.38625249413305024,
          -0.30414252914457035,
          -0.30181253862199076,
          -0.3357183481367886,
          -0.3871452410191344,
          -0.16652658108667542,
          -0.3688370208779887,
          -0.3028346057053711,
          -0.32656585492886575,
          -0.32500504226405547,
          -0.25205678339957516,
          -0.22783714963145438,
          -0.34280865868068977,
          -0.2011105840672607,
          -0.3878834383651287,
          -0.3257702936008844,
          0.29670904344622123,
          -0.30557867446043796,
          -0.14519275151980768,
          -0.38839846722826954,
          -0.32675488106750367,
          -0.12506833393793446,
          -0.3269114686902813,
          -0.1636942329893195,
          -0.2919248144316762,
          -0.14515138108118558,
          -0.2509655497987719,
          -0.16619013223059798,
          0.018629976356250175,
          -0.3520216724112747,
          -0.32652557694919015,
          -0.37456936500882404,
          -0.15181814309500274,
          -0.3513499940693395,
          -0.25348621436977115,
          -0.41366734753977913,
          -0.3511006909234783,
          -0.2958500050500988,
          -0.16011510387398656,
          -0.1417541324012423,
          3.7393678276551436,
          -0.38799114391492623,
          -0.09331029848813983,
          -0.214421684161106,
          0.845988473340775,
          -0.3883533771969979,
          -0.3524853163355139,
          -0.3264533869514431,
          -0.3266077562036963,
          -0.2256663671420198,
          -0.3530643549134017,
          -0.3879286140331379,
          -0.30544132325621054,
          -0.3264540849051549,
          -0.36734625208556854,
          -0.32660145984363087,
          -0.3221932076957759,
          -0.3883823825798097,
          0.29670333053788434,
          -0.32581285898326817,
          0.34944482504571206,
          -0.3268006581947096,
          -0.32687117186544484,
          -0.3713205019961235,
          -0.3234046551826018,
          -0.1665083306180347,
          0.296834038968187,
          -0.163230470956042,
          -0.32310086693244294,
          -0.30555508518508817,
          -0.3882923526040979,
          -0.32664906980759173,
          0.48682746622078676,
          -0.3267760521782348,
          -0.14067938515368997,
          -0.2935717499970745,
          -0.24600469092189484,
          -0.1664766173388845,
          -0.2532541216664022,
          -0.2205768247341838,
          -0.14176648148171228,
          -0.30763388492741006,
          -0.1646102640186904,
          -0.16294888373368643,
          -0.29331270697260825,
          -0.1578937016865138,
          -0.38755862728731555,
          -0.42971620009567923,
          -0.3862969076319592,
          -0.13742343335408647,
          -0.35131130689632567,
          -0.3874564996454183,
          -0.17651329120786569,
          -0.3457124991409511,
          -0.38339971749528295,
          -0.32671932662737563,
          -0.3267185671889953,
          -0.3198460865799116,
          0.2596550890382422,
          -0.3879346270717573,
          -0.16603914953492713,
          -0.2762250159327084,
          -0.11152991421775603,
          -0.3530987220572168,
          -0.32593049045221284,
          0.9063267717157821,
          -0.27125297747191757,
          -0.1658614391874264,
          -0.3676156742279016,
          -0.14053654619587275,
          0.5969335959264792,
          -0.15669292644130095,
          -0.02810971891051266,
          -0.16994030466068108,
          0.3328172189739712,
          -0.33725364186564905,
          -0.2268934233974792,
          -0.3357564360087919,
          -0.39701799083761186,
          -0.16618038521850778,
          -0.2860002683884185,
          -0.16594411471052137,
          -0.22728788761827967,
          -0.22786514436150856,
          0.13772736272858674,
          0.2970981507479296,
          -0.2860709734691386,
          -0.18325656652553052,
          3.242314405082651,
          -0.13733324977056452,
          -0.4279927513133738,
          -0.21874334177755744,
          -0.3965228139736099,
          -0.1449693823583141,
          -0.3882068364386441,
          -0.29364570357252473,
          4.395051292887493,
          -0.09216131205246861,
          -0.35296519636916995,
          1.5807614591816421,
          -0.16627825282210112,
          -0.16573025408057684,
          -0.16543129390662387,
          -0.16541822281958324,
          -0.32635466238220157,
          -0.3268541054561118,
          0.2972815475500476,
          -0.36780233631544273,
          0.6565975131509786,
          -0.38814777674524753,
          0.07044739207665844,
          -0.33277549866814526,
          -0.18225737397765585,
          -0.3268097941970329,
          -0.17720138850731915,
          -0.36291600186154127,
          -0.1416125367054628,
          0.4422321032156028,
          -0.3039016892778933,
          -0.32202673306315976,
          -0.40567415921318767,
          -0.162395779198131,
          -0.3267601628233363,
          -0.40270156556764364,
          -0.16460847289768393,
          -0.3567127454090284,
          -0.3266305032057585,
          -0.09908497100784729,
          -0.22341117671133912,
          -0.1770469011453438,
          -0.158481810184303,
          -0.17714703037525592,
          -0.3869410806372679,
          3.7442218767278703,
          0.2221034587141126,
          -0.28274271726492994,
          -0.135225517523584,
          -0.3240917948803667,
          1.1341868090978249,
          0.29668615636836027,
          -0.08342673559283674,
          -0.3040791202917735,
          -0.3712064257312901,
          -0.22315409513069703,
          -0.12965312688638014,
          0.08722382205277206,
          -0.32576985371438616,
          -0.08268776076056858,
          -0.38752165001434474,
          1.0760593166450023,
          -0.22783914518896448,
          -0.1771989052606755,
          -0.37037174304948267,
          -0.17023901779207373,
          -0.16552944288467014,
          -0.3133391936178793,
          -0.32687623836538504,
          -0.35528701188414064,
          -0.22776456328598696,
          -0.144948770811291,
          -0.18126894587799597,
          -0.3691189145518566,
          -0.28804821806635944,
          -0.27928775469989414,
          8.028796781403933,
          -0.19622085360064825,
          -0.3224224959613793,
          0.30055894494012886,
          0.02647437997027574,
          -0.16189852841229366,
          -0.2202633178371549,
          -0.2450542260362178,
          -0.17660313292323618,
          -0.3923213409409188,
          -0.1661030900027361,
          0.14089341906419728,
          -0.2219078720466448,
          -0.34169968507213944,
          -0.36764226727513777,
          -0.38822418979557444,
          -0.31910982737263033,
          -0.2928063117516207,
          -0.33250557803626213,
          -0.11155616027344979,
          0.30460367647723374,
          -0.1663400057311341,
          -0.14669511205489486,
          -0.336852825809339,
          -0.32690358966601524,
          -0.3268853120625219,
          -0.14060381132308253,
          -0.28718960938628735,
          -0.14960324309186426,
          -0.3691941461083446,
          -0.35255978388369796,
          -0.3266019585544485,
          3.883236613005255,
          -0.2269342021785747,
          -0.4013694270151143,
          -0.3527484217254732,
          0.2968686625454627,
          -0.32957634636953137,
          -0.27350008467298653,
          -0.17657257302882345,
          -0.16307579829705823,
          -0.2888770892730267,
          -0.12284093847101556,
          -0.2933399338529461,
          -0.1519024571334029,
          0.3007934555263059,
          0.5473665097563702,
          2.1043593394045796,
          -0.130062054375035,
          -0.2935921464175475,
          -0.17520173671197523,
          -0.3611226037676913,
          0.3104689161480257,
          -0.32607629350142553,
          -0.1939798954348893,
          2.24988218290395,
          -0.366918134040745,
          -0.2713800367701113,
          1.0228029683473292,
          -0.20223469756006943,
          -0.2040163263405648,
          -0.22782131094918096,
          -0.36185122164667105,
          -0.3713199786919848,
          -0.4043845932910815,
          -0.17442367134824255,
          -0.39578262228253325,
          -0.37003989172021595,
          -0.1663645990682461,
          -0.31978617039687623,
          -0.1295381919136896,
          -0.20942829910838845,
          -0.15747563932829825,
          3.0690373054940068,
          -0.3548645990431847,
          -0.38769763142173236,
          -0.2908387570708325,
          -0.3518489940636374,
          -0.10480530009117514,
          -0.3578767040979138,
          -0.35472626694489146,
          -0.22779269985203515,
          -0.186490770269552,
          -0.3925229098789457,
          -0.20166287163298918,
          -0.16803971712567198,
          -0.0363949433905017,
          -0.28616470151222234,
          -0.15130062562985416,
          -0.14496941992961984,
          0.48879894782478805,
          -0.14521340644339892,
          0.37658533250124154,
          -0.40367946794444953,
          -0.16366704311299626,
          -0.16405857427137072,
          -0.26852164131944345,
          -0.14146323122377472,
          -0.16525740266997985,
          -0.32660587168798444,
          -0.13967401590412737,
          -0.40413540477006565,
          -0.14144539806908654,
          -0.3714369178755173,
          0.579509473900904,
          -0.16306945461921493,
          -0.3553413247770439,
          -0.32608915707914904,
          -0.31356775307660895,
          -0.3158701207840105,
          -0.38526449258946077,
          -0.1442457477863024,
          -0.12604675302392754,
          -0.1431142315686815,
          -0.38792476003229626,
          3.756461695002161,
          0.10813988198954579,
          0.528980291486389,
          -0.385463905547328,
          -0.10238043921649619,
          -0.3254753578346019,
          -0.11456468302619413,
          -0.3262994656526144,
          -0.27259413579815855,
          -0.32681749386204734,
          -0.3795547595918736,
          -0.1499226473758302,
          -0.2405810372206632,
          -0.08519579038919951,
          -0.37530599016575866,
          -0.14475965414415104,
          -0.3260958275817164,
          0.5490766532444514,
          -0.3191619164453647,
          -0.19438700893394312,
          -0.38449416059545466,
          -0.3245358105480368,
          -0.35333994468775554,
          -0.16644133075157305,
          -0.164397951518605,
          -0.33833228307059493,
          -0.3040785643153447,
          3.7397594527484985,
          -0.10091859160741663,
          -0.3217311960118796,
          -0.3374003627671144,
          -0.145725659878536,
          -0.28647004777705676,
          -0.17327324788850842,
          3.749629739248758,
          -0.16014825566502217,
          3.7508740246560563,
          -0.2534952583225123,
          -0.38821444059436294,
          -0.35327580097324673,
          34.0655424170324,
          -0.2751435732833959,
          2.4805138526401938,
          -0.3249819949139863,
          0.31843704301881787,
          -0.1417335691368816,
          -0.29398837212030676
         ],
         "y": [
          0.8946370344687753,
          0.8947682835383489,
          1.6461894057329531,
          -1.2763725637570276,
          -1.9668258800631953,
          -1.18594268784457,
          1.2180247336569925,
          -2.254401379104981,
          -1.966925439960005,
          -2.1320660536155374,
          2.0725994272452843,
          -1.6716735338590039,
          0.8041831097629376,
          0.7386028640948847,
          -1.1859332930572926,
          1.7107645103772287,
          -0.8625358054088824,
          -1.1859517355144036,
          0.8946355991723227,
          0.8948711454960719,
          -1.6660569622060029,
          -1.3718012395464065,
          -1.2763884846417142,
          -1.18599876013212,
          -1.1859709475507016,
          0.8946823748490799,
          -0.38023816440845576,
          -1.127198554326007,
          -1.1859362465553065,
          0.8946368081352815,
          -1.185932758223018,
          0.8946369332662637,
          -1.1859298805793257,
          -0.8625371041790358,
          0.2585850006563347,
          0.9533852357272726,
          -1.667855386062343,
          -1.279617191277154,
          -1.1878401710592983,
          -1.1859277141852649,
          -1.18598972876116,
          -1.1859335596085112,
          1.7421277993813225,
          0.0824950088932901,
          -1.1859302708972936,
          -1.6009629102252254,
          -1.1862871612251689,
          -1.1859349408564677,
          -1.185944875464708,
          0.8946118370964263,
          1.1530616884967713,
          -1.196401919533014,
          1.2180279094077893,
          -1.2763713987083205,
          -1.1859979323953909,
          -1.1859278137896365,
          -1.1859254997926356,
          2.4403795900843614,
          -1.1859315269359147,
          -2.0739491038586633,
          0.8368936267987341,
          -1.185927955259911,
          0.8036168555278704,
          0.8290463749760436,
          1.787495689017838,
          -1.1923142974242213,
          -1.276373739343266,
          -1.1859650608744599,
          1.7874769244644213,
          0.4796845000966618,
          0.8945157742129316,
          0.8946168463974103,
          0.9054378516973096,
          -1.1859350114842022,
          -1.186037344543194,
          -1.1859406070910148,
          1.1524619489652486,
          1.218032055326339,
          -1.2765912901690013,
          0.34924379788605864,
          -1.276375719476917,
          1.9370041971996854,
          1.2180277423971757,
          -1.2763808836570139,
          -1.27640688844233,
          -1.276369050614254,
          -0.8625297874832839,
          0.8942674414050948,
          0.894607137569589,
          -1.185927856847537,
          0.12477409686972338,
          -1.0295498586695455,
          -1.1860096635576785,
          1.2180319540048183,
          0.34929947578395276,
          -1.27637634496892,
          1.7874835331770353,
          0.8942075068871904,
          -2.2728922424630023,
          -2.253712568604325,
          0.6295088165217412,
          1.7336435809529065,
          -1.1859510115936052,
          0.8041747822259009,
          0.9534057367469058,
          -1.186585549072549,
          0.8290582613536587,
          -1.1859551266651907,
          1.787466276880174,
          -1.1859264582627962,
          0.8288705650322431,
          -1.1859466000154997,
          0.8946375752744341,
          1.7874691145484163,
          -1.1861173085090966,
          -2.2557979941344333,
          1.1524345765722657,
          -1.665686876514848,
          -1.6416168147353034,
          -1.1859231491763962,
          0.894631628993179,
          -1.1890671728519115,
          -1.7949938428177385,
          -1.1859253248226,
          -1.2763745770784543,
          -1.2304580091019623,
          1.2180326130749866,
          3.383080414203469,
          -0.8625343345276658,
          -2.045255311516202,
          -1.2763895929092792,
          1.7724888317581067,
          -0.8625345526304603,
          0.8844649514536242,
          -1.1860150221761077,
          -1.1860184073471673,
          0.829036683772769,
          -1.966869871236719,
          1.7874556274115867,
          -2.1391701940467502,
          0.8037250966428954,
          1.710916773385809,
          -0.8625321309489914,
          -1.2763714325570301,
          0.9012031028470548,
          -1.1859495332358718,
          -1.125124482702486,
          0.8041839869388028,
          1.209231878045929,
          -1.1859401836594576,
          0.8041900911995369,
          -1.2788275294758358,
          1.3320193851831408,
          0.8946200197200104,
          0.828956157786792,
          -0.862554272543838,
          -2.208833601773144,
          -1.1860065094968621,
          -2.074139875340418,
          1.2178500137701724,
          0.7947485098908147,
          0.8041755346275501,
          0.26296148018166915,
          1.7421233944071037,
          -1.1859325133387661,
          -0.8625373029849291,
          1.218045325930219,
          0.8040859140272152,
          0.8039452958536364,
          1.3282966508152023,
          1.2179737573803218,
          -1.1859253244722745,
          1.7702324518246164,
          0.8939685002850516,
          0.8946172424793385,
          0.894625472551325,
          1.7217875833382912,
          -0.8625418259272618,
          1.1523673047686576,
          -1.9847110130394454,
          1.2180135870160473,
          0.894609373376421,
          -2.2514186201884256,
          0.8041833383315066,
          -1.2763714159188695,
          1.2180308455154183,
          0.894627820663124,
          -1.665923296025242,
          0.8946377491924126,
          -1.1859790139911879,
          0.829110731392253,
          -1.2763707979013093,
          0.18316606362825716,
          -1.1859356780822055,
          2.0374874878084164,
          1.7421171634245927,
          0.8946493854313726,
          1.2174034935370093,
          -2.166423392828815,
          1.7421611369156416,
          1.721882262521346,
          1.9720177593837098,
          1.7419865721125611,
          2.036720838867362,
          -1.9668685843296088,
          -2.132066705559724,
          1.7070782158098567,
          1.2180242919097188,
          -1.1906934510617107,
          -0.8624686696721879,
          1.8210267582267514,
          1.2180316098580977,
          1.7421199258304125,
          0.8946246754773071,
          0.8946176067923446,
          -0.862617987351432,
          1.7421233944071037,
          1.2180052484503008,
          0.8041881776740307,
          0.8946285193188648,
          0.8361930771815663,
          0.8946275635181343,
          0.8943261024788569,
          1.2180299352680442,
          -2.2514264664212127,
          0.8945704176621513,
          0.8257672056792196,
          0.8946320213579435,
          0.8946366511046804,
          1.6347558802740014,
          0.4389161043127441,
          -1.1859262376662074,
          -2.2514253155517654,
          -2.0452326787294637,
          0.8944038380794005,
          0.8041840496461461,
          1.2180296125509678,
          0.8946317089453124,
          -0.910737595259914,
          0.8946265311421329,
          -2.254493224742585,
          0.8290226996193585,
          -0.047898996418112884,
          -1.1859257318506113,
          1.7218808722316976,
          -0.8630030893134457,
          -2.1320642874031175,
          0.8945214152505969,
          -1.1859368728148552,
          -2.0452318616705836,
          0.8290448636523317,
          -2.1266038000563876,
          1.2179884997607873,
          1.9757897652514194,
          1.2180195695177887,
          -1.187837846300992,
          1.7421132667670087,
          1.2179915793334217,
          -0.7522724448011047,
          1.7420799827931368,
          1.2178348548988476,
          0.8946287447945388,
          0.8946236136653145,
          0.8941531666421769,
          0.7023376360334187,
          1.2180190197956078,
          -1.185934976540911,
          0.8281888791929242,
          -1.2770936323095594,
          1.7421153817632598,
          0.8945940782783578,
          1.6823399511712078,
          0.7385114548459515,
          -1.1859550672147245,
          1.7702228878937005,
          -2.254433106901069,
          1.8194674033416967,
          -1.8360205895858415,
          -2.1514803142645804,
          -2.080482001119937,
          -2.2517180987137233,
          1.3283061659853754,
          -0.8625656911488834,
          1.3282745733125492,
          1.8138864153989578,
          -1.1859279033092944,
          1.787464654664075,
          -1.1859596531246837,
          -0.8625496805569184,
          -0.8625384145223244,
          0.873766881538262,
          -2.2514375828464335,
          1.7874702676047494,
          -2.012300621232169,
          -1.222660812596542,
          -1.1176167644653248,
          2.1429519688960355,
          -0.863017565503143,
          1.8139013470383358,
          -1.2763725385508178,
          1.2180320842916506,
          0.8290466965091562,
          3.9327578282192284,
          -1.191007620932843,
          1.7420973629336571,
          -1.133236901896183,
          -1.1859313589523863,
          -1.1859594830368583,
          -1.1859616302764744,
          -1.1859612361289038,
          0.8946208770198177,
          0.8946365488728916,
          -2.2514563923165647,
          2.0732971802048383,
          1.5914246086105228,
          1.218021661678753,
          -2.14030359439933,
          0.47955880755461794,
          -0.8624057052328823,
          0.8946298390057578,
          -1.6008886838066263,
          0.9854426716556066,
          -2.1320624358613185,
          0.9003897936031587,
          0.8041787933804085,
          1.3279351370650052,
          2.003082604354038,
          -2.2088843197083747,
          0.8946276613962457,
          1.7002625594742982,
          -1.185936818805116,
          1.6658859251295837,
          0.8946359046770236,
          0.7375639222594006,
          -0.8626350952387833,
          -1.600896582767992,
          -1.9669963891746245,
          -1.6008903933223597,
          1.2179764254980525,
          1.7069629731140359,
          1.3242510873298612,
          1.7874373093914886,
          -1.6658528553907799,
          0.8945762711048126,
          -2.2854570298460835,
          -2.2514210544118196,
          -1.9715141613142535,
          1.2627121455036505,
          1.6347558319814004,
          -0.862766869795218,
          -2.2547289465754212,
          0.8722439899988516,
          0.894567528650629,
          -1.1868849715735441,
          1.2180244964376659,
          -1.2118315001836075,
          -0.8625382584091263,
          -1.6008844231274049,
          1.634711237814474,
          -1.6010087198977638,
          -1.1859394750817482,
          0.8944191398111367,
          0.8946360210003722,
          1.1524347252814886,
          -0.8625382418810875,
          -1.2763713352009924,
          -1.2194887776156433,
          1.7702298814413286,
          0.0481077573528386,
          0.04345098556602468,
          -2.71589024997402,
          -1.9215638108029656,
          0.8946112594716272,
          -2.2515299580795762,
          -1.1870814454293486,
          -2.208830044087209,
          -1.0298233140834938,
          1.7215801596289428,
          3.015870559253695,
          5.254218241679747,
          -1.1859400297291678,
          -1.1894962241077582,
          -0.8626944093340169,
          0.8610750363015607,
          1.4951016230831118,
          1.2180207527742113,
          1.3544936300630532,
          0.8289976440733072,
          1.8522951772011795,
          -1.9699206642211442,
          -2.251871221047056,
          -1.1859339186922804,
          -2.4763987168906745,
          1.3282903469276353,
          0.8946358938782127,
          0.8946350497575423,
          -2.132066202626195,
          0.8289047009090952,
          -2.1665509649943338,
          1.6544180867637375,
          1.7420911702640438,
          0.8946261532135921,
          1.992159734201977,
          -0.8625669207985256,
          1.7003027289852641,
          1.742091063114887,
          -2.251419667128165,
          0.7734898453439694,
          0.8926750812216169,
          -0.7522552204951117,
          -2.0452393721749997,
          1.020949146153251,
          -2.524873694814236,
          0.8290499212009799,
          -2.166418331045755,
          -2.251707062129503,
          -2.1233508376631614,
          -2.325267981855941,
          0.8934577183987089,
          0.8290297585474251,
          -1.8795329948556563,
          2.039919270135025,
          -2.251694359707203,
          0.8946043320073379,
          1.6453033221145927,
          0.10360517292752112,
          1.6344456328920556,
          0.7385772626151182,
          1.6729750532500578,
          -1.241471185664847,
          -2.042902743552075,
          -0.8625385577925188,
          0.8390724408164892,
          1.6347517102547748,
          1.7003477423227933,
          0.8208778310387184,
          1.0510137347370931,
          1.6347351971739361,
          -1.1859354313516837,
          0.8941549733639828,
          -2.2552490673976595,
          -1.9660646744466048,
          -0.7261359869247611,
          -2.1758997342191915,
          1.1524237432555369,
          1.218019189867219,
          0.8289620959088995,
          1.7420274922829546,
          -1.2766118039921064,
          0.964364680573291,
          1.1523965210502745,
          -0.8625404855817711,
          0.8863146194881232,
          2.7758211649565405,
          -1.2415083053142466,
          0.19914910347324982,
          -2.1341770501516684,
          1.288912028033028,
          -2.16645145936395,
          -1.2763725396837484,
          0.8792138218322277,
          1.1587839674125726,
          -2.254639917954593,
          1.7003349260983147,
          -2.0559965905665596,
          -2.0559526621052653,
          -0.11713097028244789,
          -2.323599384470698,
          -1.1859703393967571,
          0.8946323139148905,
          -2.132172669107176,
          1.7003455697559453,
          -2.1320642927386677,
          1.6347535069937211,
          0.8697871447061833,
          -1.6416628028345444,
          1.1524339944452766,
          0.894603944117035,
          1.3543537880296754,
          2.037865417939766,
          1.2178344348372137,
          -1.2763807161888536,
          -0.29309153264549526,
          -1.276419150124331,
          1.2180262936595336,
          1.7069832378933472,
          0.8833391936389386,
          -1.2333902870964426,
          1.2181214276395644,
          -1.6014042179689245,
          0.894541527266222,
          -2.059326047432109,
          0.8946183527579272,
          0.7385959484294746,
          0.8946405829238485,
          1.2179507963513108,
          -1.1861218500147335,
          0.8899158220271133,
          0.8107108977350037,
          1.2177300978136134,
          -1.2763808646705341,
          0.8946518796624007,
          -1.199228142836172,
          0.8945923771156944,
          -1.127199969279889,
          1.2180055617787648,
          0.894597763846521,
          1.7421227581954963,
          -1.1859258119318241,
          -1.1859876766309823,
          0.6195762279193634,
          0.8041699716974534,
          1.707065664699122,
          0.8278878667048394,
          0.8945846659811583,
          0.4796564266649374,
          -1.6657109937803203,
          1.7874713341431963,
          -1.9377978671650526,
          1.7074748592178821,
          -1.966868385742574,
          1.7075123795915839,
          0.7384888760473353,
          2.705335331675271,
          1.7421249476310088,
          1.5871969228821556,
          1.6617354658746968,
          0.7724950117653395,
          0.8945215225491747,
          -2.251733296151128,
          -2.1320660854918847,
          0.8290478089229019
         ],
         "z": [
          -0.534548357803533,
          -0.5348743275383779,
          -0.552855008442705,
          0.14976007772619568,
          0.3303918957763739,
          -0.0439358080159125,
          -0.4647363159385213,
          0.2813055181165167,
          0.33037210744681794,
          0.496596088775899,
          0.1810809129980749,
          0.33911596444113834,
          -0.34087217017092164,
          -0.05532193789564573,
          -0.04391514456138338,
          -0.5260548361634645,
          0.02589986714772645,
          -0.04392059455772452,
          -0.53455462403353,
          -0.534716760662696,
          0.343345746526393,
          -0.07734573204971465,
          0.14970676527067814,
          -0.04396772679589559,
          -0.04392244415129364,
          -0.5345809724407672,
          0.050432196255649445,
          0.12262486565881006,
          -0.0439248443054266,
          -0.5345484126071272,
          -0.04391552928324731,
          -0.5345487202476322,
          -0.043914178110219006,
          0.02590167191149618,
          -0.5008041408003063,
          -0.3679925165943706,
          0.33830419158289776,
          0.1429627070515415,
          -0.04841034520417469,
          -0.04391915760644641,
          -0.04399589600386068,
          -0.04391974068656601,
          -0.07556569461052892,
          -0.4672908670024836,
          -0.043913068526148,
          0.19896816622805014,
          -0.04426979137843111,
          -0.04393528700587257,
          -0.04392911821698848,
          -0.5345824638170509,
          -0.1796246132029813,
          -0.07581019894460489,
          -0.4647386003485241,
          0.14975923967276072,
          -0.04397503427296465,
          -0.04391865069782819,
          -0.04391219761875319,
          -0.6137163178236424,
          -0.04392555545008082,
          0.2876184129349081,
          -0.2546395262031296,
          -0.043914196331201076,
          -0.3415082529915246,
          -0.24900181202706362,
          -0.5177596775479901,
          -0.04584486629881576,
          0.1497609233596185,
          -0.044029835298574335,
          -0.5177461796584386,
          -0.29158502883359644,
          -0.5346439410765508,
          -0.5345764914266122,
          -0.5423177000543846,
          -0.04391390844687979,
          -0.043939971905728875,
          -0.04392302822487821,
          -0.1791932030981592,
          -0.46473200733722597,
          0.14954004332705037,
          0.13885300479918442,
          0.1497510257505601,
          -0.11068187707145495,
          -0.46473325708939933,
          0.1497569220063102,
          0.14975908811427383,
          0.14976658227144138,
          0.025904243484528564,
          -0.5349789152052905,
          -0.5345703781047022,
          -0.043919925505909015,
          -0.4641923599863816,
          0.251237767003969,
          -0.04396659570640986,
          -0.4647343279500635,
          0.13885648009572057,
          0.14975235141495027,
          -0.5177509334978164,
          -0.5346746463853117,
          0.29570202582516375,
          0.3578442776072916,
          -0.6441034190584469,
          0.039839160278353644,
          -0.04393901319832008,
          -0.3408862019046229,
          -0.36800535713453675,
          -0.04416805464873276,
          -0.2490033197329649,
          -0.04396271976470334,
          -0.517743743664642,
          -0.043912064425919314,
          -0.249085934451714,
          -0.043966073659819034,
          -0.5345487468025061,
          -0.5177449143614318,
          -0.04420889671764351,
          0.36210687396976543,
          -0.17918221854489397,
          0.3439500537027609,
          0.15450338891962012,
          -0.043914768293183276,
          -0.5345531746751697,
          -0.04600431606479414,
          0.5631848973928817,
          -0.043912005512572946,
          0.14976152596692802,
          -0.05192202667815249,
          -0.464732408106805,
          -0.5483752349190701,
          0.025893150716224046,
          0.38568342444830417,
          0.1497580681639532,
          -0.5494047011551076,
          0.025898530727442075,
          -0.0463583873323341,
          -0.04393872308493937,
          -0.043953593982136135,
          -0.2490313243802607,
          0.33041618122484406,
          -0.51775262308303,
          0.40415461286129817,
          -0.34096839256742156,
          -0.5260234687505645,
          0.02589896504293093,
          0.14975926402112308,
          -0.371632022451087,
          -0.04398572672371409,
          0.17896461328528152,
          -0.34087280114905816,
          -0.46995794399727037,
          -0.04393760934916877,
          -0.34087218662813223,
          0.14212208551203587,
          -0.49280006145587857,
          -0.5345543995134755,
          -0.24902608909844803,
          0.025885294436702778,
          0.3748668098152361,
          -0.04392661401506594,
          0.36390578921931765,
          -0.46476819906387457,
          -0.26741408577896164,
          -0.3408745558408008,
          -0.4874765725346581,
          -0.07557123119021533,
          -0.043915270175324775,
          0.025898768096304533,
          -0.464774197355727,
          -0.34088962207114465,
          -0.3409200396305489,
          -0.49016136367411717,
          -0.46475057267307845,
          -0.043912004445734176,
          -0.035105943197729195,
          -0.5349379822723916,
          -0.5345534173706158,
          -0.5345835669908386,
          -0.23220865887574718,
          0.025902021580397717,
          -0.1794110887854197,
          1.0699371633768306,
          -0.4647404851234191,
          -0.5345676337827056,
          0.3605424240669849,
          -0.3408718993266534,
          0.14976415482476182,
          -0.4647324424306326,
          -0.5345508704927856,
          0.34359780478646645,
          -0.5345488719067707,
          -0.043960167755222504,
          -0.24904106295924894,
          0.1497633175322459,
          -0.34132265519826926,
          -0.04391734628617644,
          -0.5290317642590999,
          -0.0755902531189752,
          -0.5345572421922123,
          -0.46493275454906663,
          0.3520529288613449,
          -0.07560708563686314,
          -0.2321908005143477,
          -0.5250668858735326,
          -0.07559511907316334,
          -0.523042149243262,
          0.33041120796781354,
          0.49659655773833217,
          0.1965506261951119,
          -0.46473948025920064,
          -0.04483448680378324,
          0.025642649516711392,
          -0.542249523046488,
          -0.46473336366383683,
          -0.07558179395084476,
          -0.5345562425346213,
          -0.5345526638243601,
          0.025868448870349434,
          -0.07557123119021533,
          -0.4647388395532633,
          -0.3408749451463215,
          -0.5345565961797277,
          -0.36862915724021195,
          -0.5345537323429673,
          -0.5346079017431827,
          -0.4647326581837847,
          0.36054328022741594,
          -0.5345631158592185,
          -0.2607884198655474,
          -0.534550410092509,
          -0.5345495252515923,
          -0.15456593031868343,
          -0.33614636959546706,
          -0.043912260664337475,
          0.36054071133234206,
          0.38569142680641516,
          -0.5345982429805057,
          -0.34087241099598176,
          -0.4647343211673167,
          -0.5345532321870669,
          0.01705549365541423,
          -0.5345503491455919,
          0.2812910622030874,
          -0.2490016784583702,
          -0.4817455214612608,
          -0.04391290556588682,
          -0.23219503432494937,
          0.025809442975838644,
          0.4965965593290633,
          -0.5349004498097049,
          -0.04394695510078216,
          0.38568605120850663,
          -0.24900866683135953,
          0.5638004794158226,
          -0.4647442021450646,
          -0.45954742133005766,
          -0.46477090412872823,
          -0.04427704467721021,
          -0.07560324574886228,
          -0.4647464173713138,
          0.000498275114126276,
          -0.07570540286420965,
          -0.46480778504052794,
          -0.534551627575265,
          -0.5345511522550208,
          -0.5346355578651035,
          -0.06187438488541334,
          -0.46474004047697753,
          -0.04392025373617995,
          -0.24924846842309434,
          0.14919975305911207,
          -0.07556982006517247,
          -0.5345631604778036,
          -0.5446293085820975,
          -0.05533783251580188,
          -0.04392168005104241,
          -0.03512800839334641,
          0.28128263851303853,
          -0.7436702608461359,
          0.5401245302960985,
          0.4128615293068022,
          0.4037351474326336,
          0.35989167970361924,
          -0.4901333873895082,
          0.025886544007029257,
          -0.49015854049255253,
          -0.6612132687610365,
          -0.04391827152348787,
          -0.5177504114426683,
          -0.043919687053384414,
          0.025892437533884906,
          0.025902222745306007,
          -0.5412988639056883,
          0.36053691300599894,
          -0.5177496168161809,
          0.4200929085960143,
          -0.10453888887416905,
          0.16533022030823952,
          -0.06173080058548422,
          0.025776330091120177,
          -0.6612240095239355,
          0.1497600595946527,
          -0.4647361658751284,
          -0.24900257689695504,
          0.6931570263993245,
          -0.0448261254162856,
          -0.07557061280652697,
          -0.081812052370628,
          -0.04391610055905468,
          -0.04392372674515477,
          -0.043929146337892626,
          -0.043929429859714715,
          -0.5345577374415431,
          -0.5345498365752303,
          0.36053525745780163,
          0.18210640637694614,
          -0.009404458721110377,
          -0.4647362824766129,
          0.4933902659669804,
          -0.2916670777152091,
          0.025031518980239396,
          -0.5345500299743737,
          0.19904926843510498,
          0.046165864980359204,
          0.496593486419968,
          -0.5495679922574433,
          -0.34090301557424346,
          -0.49038445523547675,
          -0.3956113333750318,
          0.37484831639694555,
          -0.5345507559274836,
          -0.4401396322736161,
          -0.04394699395155952,
          -0.005561812035123953,
          -0.5345539818425095,
          -0.05848649867999582,
          0.025827653315899524,
          0.19904711570268016,
          0.33039267506180775,
          0.1990484088901294,
          -0.4647546682293073,
          0.19647030101093366,
          -0.5002699074779091,
          -0.5178090880449386,
          0.34378217534618566,
          -0.5345960535903379,
          0.3480344706805051,
          0.3605430869240027,
          0.3294117100266085,
          -0.20458509258657034,
          -0.1545680718818802,
          0.02583539053179769,
          0.28110611231571486,
          -0.5402034036865128,
          -0.5345636492708891,
          -0.04539773550263571,
          -0.4647483325879878,
          0.1031985437225889,
          0.025901718714273235,
          0.1990488151662672,
          -0.15457952002877384,
          0.19892973577091155,
          -0.04392941384386281,
          -0.5347833540792246,
          -0.5345493698091007,
          -0.17918276077606124,
          0.025900313992232898,
          0.14975955699717614,
          0.19328274198423798,
          -0.03510039453370071,
          0.12533553725363894,
          -0.38732996475531756,
          0.25939444778203874,
          0.44816540334488736,
          -0.5346307974676484,
          0.3604806177975379,
          -0.047432707608939334,
          0.3748337824475875,
          0.25099224698540307,
          -0.23232060913944916,
          11.812907818390434,
          13.716395498958512,
          -0.04391856862277029,
          -0.04935491152286338,
          0.025805030627266114,
          -0.29735333348319043,
          21.343771409470925,
          -0.46473475815452764,
          -0.26423408738668736,
          -0.24901368823495926,
          -0.044054134181238686,
          0.32978887220627495,
          0.36043708534976016,
          -0.043914694523922784,
          0.2988017270658703,
          -0.4901394186925081,
          -0.5345488431061367,
          -0.534549106426152,
          0.4965748682091955,
          -0.24911048938170746,
          0.3520234317160053,
          -0.2451086904823801,
          -0.07557764912598806,
          -0.5345535883904404,
          0.47743019734112796,
          0.025887428529814904,
          -0.4401685273722805,
          -0.0755740899681271,
          0.36053952097474823,
          -0.019689087170978177,
          -0.5353664496916244,
          0.0004977468829191358,
          0.3856891555586297,
          0.15414023613656958,
          0.2884662525115302,
          -0.24900863718598637,
          0.3520540321106347,
          0.3604931049534675,
          0.32243950204464433,
          0.333580878340585,
          -0.538139696402562,
          -0.24900196828759605,
          0.5284786617245092,
          -0.5221193362301955,
          0.36030986383916314,
          -0.5345613958173941,
          -0.24048121264228467,
          -0.3847377633540583,
          -0.15461915063154472,
          -0.05534172140908441,
          0.048980638257504594,
          0.18539625013257421,
          0.41865587678025334,
          0.025901411757110297,
          -0.305253217284709,
          -0.1545655422642196,
          -0.44011609674337554,
          -0.250466091819514,
          -0.23938603193866045,
          -0.15458804948766658,
          -0.04391408750107555,
          -0.5346368574926965,
          0.2811535794690437,
          0.3352443291338387,
          0.22638562589513883,
          0.28001227576095955,
          -0.17918965993507974,
          -0.4647445154173792,
          -0.2490473128053997,
          -0.07558494545624947,
          0.14902726404084912,
          -0.32431019508691905,
          -0.1791896649235645,
          0.02590105743086595,
          -0.5363964876975682,
          0.6434863940189718,
          0.18538903402329598,
          0.08751438097488141,
          0.49481575227184654,
          0.021317338189391567,
          0.35204587064274234,
          0.14976006040960282,
          0.28537635200670575,
          -0.18374081501582734,
          0.3593470467567519,
          -0.44012813969010134,
          0.2641861474750798,
          0.26418932192184086,
          0.2915028325637541,
          0.2682434648178572,
          -0.04393158682001148,
          -0.5345541026195901,
          0.496567534463761,
          -0.44012057754154077,
          0.49659051914263685,
          -0.15456351367480747,
          -0.5492305786350401,
          0.15449294346882073,
          -0.17918166922591547,
          -0.5345611167966067,
          -0.2643250094703283,
          -0.5227747159945327,
          -0.46477266205444334,
          0.14974722581511832,
          -0.027106085459803118,
          0.14972960539322833,
          -0.4647409201761181,
          0.19623809381820542,
          -0.5416556022612795,
          -0.052467841544949344,
          -0.4647962950087025,
          0.1976908180182481,
          -0.5345667087328261,
          0.26358005523114064,
          -0.5345585350210795,
          -0.05532066296868432,
          -0.5345509102922891,
          -0.46489118510260735,
          -0.044205629880425173,
          -0.5357224853179269,
          -0.34564092182755846,
          -0.464950060366415,
          0.1497569083487821,
          -0.5345655652696141,
          -0.05610564630712623,
          -0.5346903385687143,
          0.12261674301015503,
          -0.46480348346306566,
          -0.5345897509304504,
          -0.07556598568145043,
          -0.043913561788020965,
          -0.04394610178093626,
          -0.3856083838196573,
          -0.34089884618234456,
          0.1965444559814035,
          -0.25251786953058347,
          -0.5346412656957501,
          -0.2915893826700508,
          0.3439661832251009,
          -0.5177422106088698,
          0.4246639183979352,
          0.1963197165812697,
          0.3304118127192827,
          0.1962927270841627,
          -0.05566976251494432,
          14.860192163220324,
          -0.07556740136182326,
          -0.46230803253124175,
          -0.1189641477001292,
          0.09158129660516677,
          -0.5345740817721724,
          0.3601636709459013,
          0.4965961117054841,
          -0.2489962362555211
         ]
        }
       ],
       "layout": {
        "legend": {
         "title": {
          "text": "Class"
         },
         "tracegroupgap": 0,
         "x": 0,
         "y": 1
        },
        "margin": {
         "t": 60
        },
        "scene": {
         "domain": {
          "x": [
           0,
           1
          ],
          "y": [
           0,
           1
          ]
         },
         "xaxis": {
          "title": {
           "text": "PC 1"
          }
         },
         "yaxis": {
          "title": {
           "text": "PC 2"
          }
         },
         "zaxis": {
          "title": {
           "text": "PC 3"
          }
         }
        },
        "template": {
         "data": {
          "bar": [
           {
            "error_x": {
             "color": "#2a3f5f"
            },
            "error_y": {
             "color": "#2a3f5f"
            },
            "marker": {
             "line": {
              "color": "#E5ECF6",
              "width": 0.5
             },
             "pattern": {
              "fillmode": "overlay",
              "size": 10,
              "solidity": 0.2
             }
            },
            "type": "bar"
           }
          ],
          "barpolar": [
           {
            "marker": {
             "line": {
              "color": "#E5ECF6",
              "width": 0.5
             },
             "pattern": {
              "fillmode": "overlay",
              "size": 10,
              "solidity": 0.2
             }
            },
            "type": "barpolar"
           }
          ],
          "carpet": [
           {
            "aaxis": {
             "endlinecolor": "#2a3f5f",
             "gridcolor": "white",
             "linecolor": "white",
             "minorgridcolor": "white",
             "startlinecolor": "#2a3f5f"
            },
            "baxis": {
             "endlinecolor": "#2a3f5f",
             "gridcolor": "white",
             "linecolor": "white",
             "minorgridcolor": "white",
             "startlinecolor": "#2a3f5f"
            },
            "type": "carpet"
           }
          ],
          "choropleth": [
           {
            "colorbar": {
             "outlinewidth": 0,
             "ticks": ""
            },
            "type": "choropleth"
           }
          ],
          "contour": [
           {
            "colorbar": {
             "outlinewidth": 0,
             "ticks": ""
            },
            "colorscale": [
             [
              0,
              "#0d0887"
             ],
             [
              0.1111111111111111,
              "#46039f"
             ],
             [
              0.2222222222222222,
              "#7201a8"
             ],
             [
              0.3333333333333333,
              "#9c179e"
             ],
             [
              0.4444444444444444,
              "#bd3786"
             ],
             [
              0.5555555555555556,
              "#d8576b"
             ],
             [
              0.6666666666666666,
              "#ed7953"
             ],
             [
              0.7777777777777778,
              "#fb9f3a"
             ],
             [
              0.8888888888888888,
              "#fdca26"
             ],
             [
              1,
              "#f0f921"
             ]
            ],
            "type": "contour"
           }
          ],
          "contourcarpet": [
           {
            "colorbar": {
             "outlinewidth": 0,
             "ticks": ""
            },
            "type": "contourcarpet"
           }
          ],
          "heatmap": [
           {
            "colorbar": {
             "outlinewidth": 0,
             "ticks": ""
            },
            "colorscale": [
             [
              0,
              "#0d0887"
             ],
             [
              0.1111111111111111,
              "#46039f"
             ],
             [
              0.2222222222222222,
              "#7201a8"
             ],
             [
              0.3333333333333333,
              "#9c179e"
             ],
             [
              0.4444444444444444,
              "#bd3786"
             ],
             [
              0.5555555555555556,
              "#d8576b"
             ],
             [
              0.6666666666666666,
              "#ed7953"
             ],
             [
              0.7777777777777778,
              "#fb9f3a"
             ],
             [
              0.8888888888888888,
              "#fdca26"
             ],
             [
              1,
              "#f0f921"
             ]
            ],
            "type": "heatmap"
           }
          ],
          "heatmapgl": [
           {
            "colorbar": {
             "outlinewidth": 0,
             "ticks": ""
            },
            "colorscale": [
             [
              0,
              "#0d0887"
             ],
             [
              0.1111111111111111,
              "#46039f"
             ],
             [
              0.2222222222222222,
              "#7201a8"
             ],
             [
              0.3333333333333333,
              "#9c179e"
             ],
             [
              0.4444444444444444,
              "#bd3786"
             ],
             [
              0.5555555555555556,
              "#d8576b"
             ],
             [
              0.6666666666666666,
              "#ed7953"
             ],
             [
              0.7777777777777778,
              "#fb9f3a"
             ],
             [
              0.8888888888888888,
              "#fdca26"
             ],
             [
              1,
              "#f0f921"
             ]
            ],
            "type": "heatmapgl"
           }
          ],
          "histogram": [
           {
            "marker": {
             "pattern": {
              "fillmode": "overlay",
              "size": 10,
              "solidity": 0.2
             }
            },
            "type": "histogram"
           }
          ],
          "histogram2d": [
           {
            "colorbar": {
             "outlinewidth": 0,
             "ticks": ""
            },
            "colorscale": [
             [
              0,
              "#0d0887"
             ],
             [
              0.1111111111111111,
              "#46039f"
             ],
             [
              0.2222222222222222,
              "#7201a8"
             ],
             [
              0.3333333333333333,
              "#9c179e"
             ],
             [
              0.4444444444444444,
              "#bd3786"
             ],
             [
              0.5555555555555556,
              "#d8576b"
             ],
             [
              0.6666666666666666,
              "#ed7953"
             ],
             [
              0.7777777777777778,
              "#fb9f3a"
             ],
             [
              0.8888888888888888,
              "#fdca26"
             ],
             [
              1,
              "#f0f921"
             ]
            ],
            "type": "histogram2d"
           }
          ],
          "histogram2dcontour": [
           {
            "colorbar": {
             "outlinewidth": 0,
             "ticks": ""
            },
            "colorscale": [
             [
              0,
              "#0d0887"
             ],
             [
              0.1111111111111111,
              "#46039f"
             ],
             [
              0.2222222222222222,
              "#7201a8"
             ],
             [
              0.3333333333333333,
              "#9c179e"
             ],
             [
              0.4444444444444444,
              "#bd3786"
             ],
             [
              0.5555555555555556,
              "#d8576b"
             ],
             [
              0.6666666666666666,
              "#ed7953"
             ],
             [
              0.7777777777777778,
              "#fb9f3a"
             ],
             [
              0.8888888888888888,
              "#fdca26"
             ],
             [
              1,
              "#f0f921"
             ]
            ],
            "type": "histogram2dcontour"
           }
          ],
          "mesh3d": [
           {
            "colorbar": {
             "outlinewidth": 0,
             "ticks": ""
            },
            "type": "mesh3d"
           }
          ],
          "parcoords": [
           {
            "line": {
             "colorbar": {
              "outlinewidth": 0,
              "ticks": ""
             }
            },
            "type": "parcoords"
           }
          ],
          "pie": [
           {
            "automargin": true,
            "type": "pie"
           }
          ],
          "scatter": [
           {
            "fillpattern": {
             "fillmode": "overlay",
             "size": 10,
             "solidity": 0.2
            },
            "type": "scatter"
           }
          ],
          "scatter3d": [
           {
            "line": {
             "colorbar": {
              "outlinewidth": 0,
              "ticks": ""
             }
            },
            "marker": {
             "colorbar": {
              "outlinewidth": 0,
              "ticks": ""
             }
            },
            "type": "scatter3d"
           }
          ],
          "scattercarpet": [
           {
            "marker": {
             "colorbar": {
              "outlinewidth": 0,
              "ticks": ""
             }
            },
            "type": "scattercarpet"
           }
          ],
          "scattergeo": [
           {
            "marker": {
             "colorbar": {
              "outlinewidth": 0,
              "ticks": ""
             }
            },
            "type": "scattergeo"
           }
          ],
          "scattergl": [
           {
            "marker": {
             "colorbar": {
              "outlinewidth": 0,
              "ticks": ""
             }
            },
            "type": "scattergl"
           }
          ],
          "scattermapbox": [
           {
            "marker": {
             "colorbar": {
              "outlinewidth": 0,
              "ticks": ""
             }
            },
            "type": "scattermapbox"
           }
          ],
          "scatterpolar": [
           {
            "marker": {
             "colorbar": {
              "outlinewidth": 0,
              "ticks": ""
             }
            },
            "type": "scatterpolar"
           }
          ],
          "scatterpolargl": [
           {
            "marker": {
             "colorbar": {
              "outlinewidth": 0,
              "ticks": ""
             }
            },
            "type": "scatterpolargl"
           }
          ],
          "scatterternary": [
           {
            "marker": {
             "colorbar": {
              "outlinewidth": 0,
              "ticks": ""
             }
            },
            "type": "scatterternary"
           }
          ],
          "surface": [
           {
            "colorbar": {
             "outlinewidth": 0,
             "ticks": ""
            },
            "colorscale": [
             [
              0,
              "#0d0887"
             ],
             [
              0.1111111111111111,
              "#46039f"
             ],
             [
              0.2222222222222222,
              "#7201a8"
             ],
             [
              0.3333333333333333,
              "#9c179e"
             ],
             [
              0.4444444444444444,
              "#bd3786"
             ],
             [
              0.5555555555555556,
              "#d8576b"
             ],
             [
              0.6666666666666666,
              "#ed7953"
             ],
             [
              0.7777777777777778,
              "#fb9f3a"
             ],
             [
              0.8888888888888888,
              "#fdca26"
             ],
             [
              1,
              "#f0f921"
             ]
            ],
            "type": "surface"
           }
          ],
          "table": [
           {
            "cells": {
             "fill": {
              "color": "#EBF0F8"
             },
             "line": {
              "color": "white"
             }
            },
            "header": {
             "fill": {
              "color": "#C8D4E3"
             },
             "line": {
              "color": "white"
             }
            },
            "type": "table"
           }
          ]
         },
         "layout": {
          "annotationdefaults": {
           "arrowcolor": "#2a3f5f",
           "arrowhead": 0,
           "arrowwidth": 1
          },
          "autotypenumbers": "strict",
          "coloraxis": {
           "colorbar": {
            "outlinewidth": 0,
            "ticks": ""
           }
          },
          "colorscale": {
           "diverging": [
            [
             0,
             "#8e0152"
            ],
            [
             0.1,
             "#c51b7d"
            ],
            [
             0.2,
             "#de77ae"
            ],
            [
             0.3,
             "#f1b6da"
            ],
            [
             0.4,
             "#fde0ef"
            ],
            [
             0.5,
             "#f7f7f7"
            ],
            [
             0.6,
             "#e6f5d0"
            ],
            [
             0.7,
             "#b8e186"
            ],
            [
             0.8,
             "#7fbc41"
            ],
            [
             0.9,
             "#4d9221"
            ],
            [
             1,
             "#276419"
            ]
           ],
           "sequential": [
            [
             0,
             "#0d0887"
            ],
            [
             0.1111111111111111,
             "#46039f"
            ],
            [
             0.2222222222222222,
             "#7201a8"
            ],
            [
             0.3333333333333333,
             "#9c179e"
            ],
            [
             0.4444444444444444,
             "#bd3786"
            ],
            [
             0.5555555555555556,
             "#d8576b"
            ],
            [
             0.6666666666666666,
             "#ed7953"
            ],
            [
             0.7777777777777778,
             "#fb9f3a"
            ],
            [
             0.8888888888888888,
             "#fdca26"
            ],
            [
             1,
             "#f0f921"
            ]
           ],
           "sequentialminus": [
            [
             0,
             "#0d0887"
            ],
            [
             0.1111111111111111,
             "#46039f"
            ],
            [
             0.2222222222222222,
             "#7201a8"
            ],
            [
             0.3333333333333333,
             "#9c179e"
            ],
            [
             0.4444444444444444,
             "#bd3786"
            ],
            [
             0.5555555555555556,
             "#d8576b"
            ],
            [
             0.6666666666666666,
             "#ed7953"
            ],
            [
             0.7777777777777778,
             "#fb9f3a"
            ],
            [
             0.8888888888888888,
             "#fdca26"
            ],
            [
             1,
             "#f0f921"
            ]
           ]
          },
          "colorway": [
           "#636efa",
           "#EF553B",
           "#00cc96",
           "#ab63fa",
           "#FFA15A",
           "#19d3f3",
           "#FF6692",
           "#B6E880",
           "#FF97FF",
           "#FECB52"
          ],
          "font": {
           "color": "#2a3f5f"
          },
          "geo": {
           "bgcolor": "white",
           "lakecolor": "white",
           "landcolor": "#E5ECF6",
           "showlakes": true,
           "showland": true,
           "subunitcolor": "white"
          },
          "hoverlabel": {
           "align": "left"
          },
          "hovermode": "closest",
          "mapbox": {
           "style": "light"
          },
          "paper_bgcolor": "white",
          "plot_bgcolor": "#E5ECF6",
          "polar": {
           "angularaxis": {
            "gridcolor": "white",
            "linecolor": "white",
            "ticks": ""
           },
           "bgcolor": "#E5ECF6",
           "radialaxis": {
            "gridcolor": "white",
            "linecolor": "white",
            "ticks": ""
           }
          },
          "scene": {
           "xaxis": {
            "backgroundcolor": "#E5ECF6",
            "gridcolor": "white",
            "gridwidth": 2,
            "linecolor": "white",
            "showbackground": true,
            "ticks": "",
            "zerolinecolor": "white"
           },
           "yaxis": {
            "backgroundcolor": "#E5ECF6",
            "gridcolor": "white",
            "gridwidth": 2,
            "linecolor": "white",
            "showbackground": true,
            "ticks": "",
            "zerolinecolor": "white"
           },
           "zaxis": {
            "backgroundcolor": "#E5ECF6",
            "gridcolor": "white",
            "gridwidth": 2,
            "linecolor": "white",
            "showbackground": true,
            "ticks": "",
            "zerolinecolor": "white"
           }
          },
          "shapedefaults": {
           "line": {
            "color": "#2a3f5f"
           }
          },
          "ternary": {
           "aaxis": {
            "gridcolor": "white",
            "linecolor": "white",
            "ticks": ""
           },
           "baxis": {
            "gridcolor": "white",
            "linecolor": "white",
            "ticks": ""
           },
           "bgcolor": "#E5ECF6",
           "caxis": {
            "gridcolor": "white",
            "linecolor": "white",
            "ticks": ""
           }
          },
          "title": {
           "x": 0.05
          },
          "xaxis": {
           "automargin": true,
           "gridcolor": "white",
           "linecolor": "white",
           "ticks": "",
           "title": {
            "standoff": 15
           },
           "zerolinecolor": "white",
           "zerolinewidth": 2
          },
          "yaxis": {
           "automargin": true,
           "gridcolor": "white",
           "linecolor": "white",
           "ticks": "",
           "title": {
            "standoff": 15
           },
           "zerolinecolor": "white",
           "zerolinewidth": 2
          }
         }
        },
        "width": 800
       }
      },
      "text/html": [
       "<div>                            <div id=\"7bc81493-2104-4182-ab01-d525e6db0bec\" class=\"plotly-graph-div\" style=\"height:525px; width:800px;\"></div>            <script type=\"text/javascript\">                require([\"plotly\"], function(Plotly) {                    window.PLOTLYENV=window.PLOTLYENV || {};                                    if (document.getElementById(\"7bc81493-2104-4182-ab01-d525e6db0bec\")) {                    Plotly.newPlot(                        \"7bc81493-2104-4182-ab01-d525e6db0bec\",                        [{\"customdata\":[[\"Scrypt\"],[\"Scrypt\"],[\"X13\"],[\"SHA-256\"],[\"Ethash\"],[\"Scrypt\"],[\"X11\"],[\"CryptoNight-V7\"],[\"Ethash\"],[\"Equihash\"],[\"SHA-512\"],[\"Multiple\"],[\"SHA-256\"],[\"SHA-256\"],[\"Scrypt\"],[\"X15\"],[\"X11\"],[\"Scrypt\"],[\"Scrypt\"],[\"Scrypt\"],[\"Multiple\"],[\"Scrypt\"],[\"SHA-256\"],[\"Scrypt\"],[\"Scrypt\"],[\"Scrypt\"],[\"Quark\"],[\"Groestl\"],[\"Scrypt\"],[\"Scrypt\"],[\"Scrypt\"],[\"Scrypt\"],[\"Scrypt\"],[\"X11\"],[\"Scrypt\"],[\"Groestl\"],[\"Multiple\"],[\"SHA-256\"],[\"Scrypt\"],[\"Scrypt\"],[\"Scrypt\"],[\"Scrypt\"],[\"PoS\"],[\"Scrypt\"],[\"Scrypt\"],[\"NeoScrypt\"],[\"Scrypt\"],[\"Scrypt\"],[\"Scrypt\"],[\"Scrypt\"],[\"X11\"],[\"Scrypt\"],[\"X11\"],[\"SHA-256\"],[\"Scrypt\"],[\"Scrypt\"],[\"Scrypt\"],[\"SHA3\"],[\"Scrypt\"],[\"HybridScryptHash256\"],[\"Scrypt\"],[\"Scrypt\"],[\"SHA-256\"],[\"Scrypt\"],[\"X13\"],[\"Scrypt\"],[\"SHA-256\"],[\"Scrypt\"],[\"X13\"],[\"NeoScrypt\"],[\"Scrypt\"],[\"Scrypt\"],[\"Scrypt\"],[\"Scrypt\"],[\"Scrypt\"],[\"Scrypt\"],[\"X11\"],[\"X11\"],[\"SHA-256\"],[\"Multiple\"],[\"SHA-256\"],[\"PHI1612\"],[\"X11\"],[\"SHA-256\"],[\"SHA-256\"],[\"SHA-256\"],[\"X11\"],[\"Scrypt\"],[\"Scrypt\"],[\"Scrypt\"],[\"Scrypt\"],[\"Lyra2REv2\"],[\"Scrypt\"],[\"X11\"],[\"Multiple\"],[\"SHA-256\"],[\"X13\"],[\"Scrypt\"],[\"CryptoNight\"],[\"CryptoNight\"],[\"Shabal256\"],[\"Counterparty\"],[\"Scrypt\"],[\"SHA-256\"],[\"Groestl\"],[\"Scrypt\"],[\"Scrypt\"],[\"Scrypt\"],[\"X13\"],[\"Scrypt\"],[\"Scrypt\"],[\"Scrypt\"],[\"Scrypt\"],[\"X13\"],[\"Scrypt\"],[\"Stanford Folding\"],[\"X11\"],[\"Multiple\"],[\"QuBit\"],[\"Scrypt\"],[\"Scrypt\"],[\"Scrypt\"],[\"M7 POW\"],[\"Scrypt\"],[\"SHA-256\"],[\"Scrypt\"],[\"X11\"],[\"SHA3\"],[\"X11\"],[\"Lyra2RE\"],[\"SHA-256\"],[\"QUAIT\"],[\"X11\"],[\"X11\"],[\"Scrypt\"],[\"Scrypt\"],[\"Scrypt\"],[\"Ethash\"],[\"X13\"],[\"Blake2b\"],[\"SHA-256\"],[\"X15\"],[\"X11\"],[\"SHA-256\"],[\"BLAKE256\"],[\"Scrypt\"],[\"1GB AES Pattern Search\"],[\"SHA-256\"],[\"X11\"],[\"Scrypt\"],[\"SHA-256\"],[\"SHA-256\"],[\"NIST5\"],[\"Scrypt\"],[\"Scrypt\"],[\"X11\"],[\"Dagger\"],[\"Scrypt\"],[\"X11GOST\"],[\"X11\"],[\"Scrypt\"],[\"SHA-256\"],[\"Scrypt\"],[\"PoS\"],[\"Scrypt\"],[\"X11\"],[\"X11\"],[\"SHA-256\"],[\"SHA-256\"],[\"NIST5\"],[\"X11\"],[\"Scrypt\"],[\"POS 3.0\"],[\"Scrypt\"],[\"Scrypt\"],[\"Scrypt\"],[\"X13\"],[\"X11\"],[\"X11\"],[\"Equihash\"],[\"X11\"],[\"Scrypt\"],[\"CryptoNight\"],[\"SHA-256\"],[\"SHA-256\"],[\"X11\"],[\"Scrypt\"],[\"Multiple\"],[\"Scrypt\"],[\"Scrypt\"],[\"Scrypt\"],[\"SHA-256\"],[\"Scrypt\"],[\"Scrypt\"],[\"SHA-256D\"],[\"PoS\"],[\"Scrypt\"],[\"X11\"],[\"Lyra2Z\"],[\"PoS\"],[\"X13\"],[\"X14\"],[\"PoS\"],[\"SHA-256D\"],[\"Ethash\"],[\"Equihash\"],[\"DPoS\"],[\"X11\"],[\"Scrypt\"],[\"X11\"],[\"X13\"],[\"X11\"],[\"PoS\"],[\"Scrypt\"],[\"Scrypt\"],[\"X11\"],[\"PoS\"],[\"X11\"],[\"SHA-256\"],[\"Scrypt\"],[\"X11\"],[\"Scrypt\"],[\"Scrypt\"],[\"X11\"],[\"CryptoNight\"],[\"Scrypt\"],[\"Scrypt\"],[\"Scrypt\"],[\"Scrypt\"],[\"Quark\"],[\"QuBit\"],[\"Scrypt\"],[\"CryptoNight\"],[\"Lyra2RE\"],[\"Scrypt\"],[\"SHA-256\"],[\"X11\"],[\"Scrypt\"],[\"X11\"],[\"Scrypt\"],[\"CryptoNight-V7\"],[\"Scrypt\"],[\"Scrypt\"],[\"Scrypt\"],[\"X13\"],[\"X11\"],[\"Equihash\"],[\"Scrypt\"],[\"Scrypt\"],[\"Lyra2RE\"],[\"Scrypt\"],[\"Dagger-Hashimoto\"],[\"X11\"],[\"Blake2S\"],[\"X11\"],[\"Scrypt\"],[\"PoS\"],[\"X11\"],[\"NIST5\"],[\"PoS\"],[\"X11\"],[\"Scrypt\"],[\"Scrypt\"],[\"Scrypt\"],[\"SHA-256\"],[\"X11\"],[\"Scrypt\"],[\"Scrypt\"],[\"SHA-256\"],[\"PoS\"],[\"Scrypt\"],[\"X15\"],[\"SHA-256\"],[\"Scrypt\"],[\"POS 3.0\"],[\"CryptoNight-V7\"],[\"536\"],[\"Argon2d\"],[\"Blake2b\"],[\"Cloverhash\"],[\"CryptoNight\"],[\"NIST5\"],[\"X11\"],[\"NIST5\"],[\"Skein\"],[\"Scrypt\"],[\"X13\"],[\"Scrypt\"],[\"X11\"],[\"X11\"],[\"Scrypt\"],[\"CryptoNight\"],[\"X13\"],[\"Time Travel\"],[\"Scrypt\"],[\"Keccak\"],[\"SkunkHash v2 Raptor\"],[\"X11\"],[\"Skein\"],[\"SHA-256\"],[\"X11\"],[\"Scrypt\"],[\"VeChainThor Authority\"],[\"Scrypt\"],[\"PoS\"],[\"Scrypt\"],[\"Scrypt\"],[\"Scrypt\"],[\"Scrypt\"],[\"Scrypt\"],[\"Scrypt\"],[\"Scrypt\"],[\"CryptoNight\"],[\"SHA-512\"],[\"Ouroboros\"],[\"X11\"],[\"Equihash\"],[\"NeoScrypt\"],[\"X11\"],[\"Scrypt\"],[\"NeoScrypt\"],[\"Lyra2REv2\"],[\"Equihash\"],[\"Scrypt\"],[\"SHA-256\"],[\"NIST5\"],[\"PHI1612\"],[\"Dagger\"],[\"Scrypt\"],[\"Quark\"],[\"Scrypt\"],[\"POS 2.0\"],[\"Scrypt\"],[\"SHA-256\"],[\"X11\"],[\"NeoScrypt\"],[\"Ethash\"],[\"NeoScrypt\"],[\"X11\"],[\"DPoS\"],[\"NIST5\"],[\"X13\"],[\"Multiple\"],[\"Scrypt\"],[\"CryptoNight\"],[\"CryptoNight\"],[\"Ethash\"],[\"NIST5\"],[\"Quark\"],[\"X11\"],[\"CryptoNight-V7\"],[\"Scrypt\"],[\"Scrypt\"],[\"Scrypt\"],[\"X11\"],[\"BLAKE256\"],[\"X11\"],[\"NeoScrypt\"],[\"Quark\"],[\"NeoScrypt\"],[\"Scrypt\"],[\"Scrypt\"],[\"Scrypt\"],[\"X11\"],[\"X11\"],[\"SHA-256\"],[\"C11\"],[\"POS 3.0\"],[\"Ethash\"],[\"Scrypt\"],[\"CryptoNight\"],[\"SkunkHash\"],[\"Scrypt\"],[\"CryptoNight\"],[\"Scrypt\"],[\"Dagger\"],[\"Lyra2REv2\"],[\"X13\"],[\"Proof-of-BibleHash\"],[\"SHA-256 + Hive\"],[\"Scrypt\"],[\"Scrypt\"],[\"X11\"],[\"C11\"],[\"Proof-of-Authority\"],[\"X11\"],[\"XEVAN\"],[\"Scrypt\"],[\"VBFT\"],[\"Ethash\"],[\"CryptoNight\"],[\"Scrypt\"],[\"IMesh\"],[\"NIST5\"],[\"Scrypt\"],[\"Scrypt\"],[\"Equihash\"],[\"Scrypt\"],[\"Lyra2Z\"],[\"Green Protocol\"],[\"PoS\"],[\"Scrypt\"],[\"Semux BFT consensus\"],[\"X11\"],[\"Quark\"],[\"PoS\"],[\"CryptoNight\"],[\"X16R\"],[\"Scrypt\"],[\"NIST5\"],[\"Lyra2RE\"],[\"XEVAN\"],[\"Tribus\"],[\"Scrypt\"],[\"Lyra2Z\"],[\"CryptoNight\"],[\"CryptoNight Heavy\"],[\"CryptoNight\"],[\"Scrypt\"],[\"Scrypt\"],[\"Jump Consistent Hash\"],[\"SHA-256D\"],[\"CryptoNight\"],[\"Scrypt\"],[\"X15\"],[\"Scrypt\"],[\"Quark\"],[\"SHA-256\"],[\"DPoS\"],[\"X16R\"],[\"HMQ1725\"],[\"X11\"],[\"X16R\"],[\"Quark\"],[\"Quark\"],[\"Scrypt\"],[\"Lyra2REv2\"],[\"Quark\"],[\"Scrypt\"],[\"Scrypt\"],[\"CryptoNight-V7\"],[\"Cryptonight-GPU\"],[\"XEVAN\"],[\"CryptoNight Heavy\"],[\"X11\"],[\"X11\"],[\"Scrypt\"],[\"PoS\"],[\"SHA-256\"],[\"Keccak\"],[\"X11\"],[\"X11\"],[\"Scrypt\"],[\"SHA-512\"],[\"X16R\"],[\"ECC 256K1\"],[\"Equihash\"],[\"XEVAN\"],[\"Lyra2Z\"],[\"SHA-256\"],[\"XEVAN\"],[\"X11\"],[\"CryptoNight\"],[\"Quark\"],[\"Blake\"],[\"Blake\"],[\"Equihash\"],[\"Exosis\"],[\"Scrypt\"],[\"Scrypt\"],[\"Equihash\"],[\"Quark\"],[\"Equihash\"],[\"Quark\"],[\"Scrypt\"],[\"QuBit\"],[\"X11\"],[\"Scrypt\"],[\"XEVAN\"],[\"SHA-256D\"],[\"X11\"],[\"SHA-256\"],[\"X13\"],[\"SHA-256\"],[\"X11\"],[\"DPoS\"],[\"Scrypt\"],[\"Scrypt\"],[\"X11\"],[\"NeoScrypt\"],[\"Scrypt\"],[\"Blake\"],[\"Scrypt\"],[\"SHA-256\"],[\"Scrypt\"],[\"X11\"],[\"Scrypt\"],[\"Scrypt\"],[\"SHA-256\"],[\"X11\"],[\"SHA-256\"],[\"Scrypt\"],[\"Scrypt\"],[\"Scrypt\"],[\"Groestl\"],[\"X11\"],[\"Scrypt\"],[\"PoS\"],[\"Scrypt\"],[\"Scrypt\"],[\"X11\"],[\"SHA-256\"],[\"DPoS\"],[\"Scrypt\"],[\"Scrypt\"],[\"NeoScrypt\"],[\"Multiple\"],[\"X13\"],[\"Equihash+Scrypt\"],[\"DPoS\"],[\"Ethash\"],[\"DPoS\"],[\"SHA-256\"],[\"Leased POS\"],[\"PoS\"],[\"TRC10\"],[\"PoS\"],[\"SHA-256\"],[\"Scrypt\"],[\"CryptoNight\"],[\"Equihash\"],[\"Scrypt\"]],\"hovertemplate\":\"<b>%{hovertext}</b><br><br>Class=k_10<br>PC 1=%{x}<br>PC 2=%{y}<br>PC 3=%{z}<br>Algorithm=%{customdata[0]}<extra></extra>\",\"hovertext\":[\"CoinName\",\"CoinName\",\"CoinName\",\"CoinName\",\"CoinName\",\"CoinName\",\"CoinName\",\"CoinName\",\"CoinName\",\"CoinName\",\"CoinName\",\"CoinName\",\"CoinName\",\"CoinName\",\"CoinName\",\"CoinName\",\"CoinName\",\"CoinName\",\"CoinName\",\"CoinName\",\"CoinName\",\"CoinName\",\"CoinName\",\"CoinName\",\"CoinName\",\"CoinName\",\"CoinName\",\"CoinName\",\"CoinName\",\"CoinName\",\"CoinName\",\"CoinName\",\"CoinName\",\"CoinName\",\"CoinName\",\"CoinName\",\"CoinName\",\"CoinName\",\"CoinName\",\"CoinName\",\"CoinName\",\"CoinName\",\"CoinName\",\"CoinName\",\"CoinName\",\"CoinName\",\"CoinName\",\"CoinName\",\"CoinName\",\"CoinName\",\"CoinName\",\"CoinName\",\"CoinName\",\"CoinName\",\"CoinName\",\"CoinName\",\"CoinName\",\"CoinName\",\"CoinName\",\"CoinName\",\"CoinName\",\"CoinName\",\"CoinName\",\"CoinName\",\"CoinName\",\"CoinName\",\"CoinName\",\"CoinName\",\"CoinName\",\"CoinName\",\"CoinName\",\"CoinName\",\"CoinName\",\"CoinName\",\"CoinName\",\"CoinName\",\"CoinName\",\"CoinName\",\"CoinName\",\"CoinName\",\"CoinName\",\"CoinName\",\"CoinName\",\"CoinName\",\"CoinName\",\"CoinName\",\"CoinName\",\"CoinName\",\"CoinName\",\"CoinName\",\"CoinName\",\"CoinName\",\"CoinName\",\"CoinName\",\"CoinName\",\"CoinName\",\"CoinName\",\"CoinName\",\"CoinName\",\"CoinName\",\"CoinName\",\"CoinName\",\"CoinName\",\"CoinName\",\"CoinName\",\"CoinName\",\"CoinName\",\"CoinName\",\"CoinName\",\"CoinName\",\"CoinName\",\"CoinName\",\"CoinName\",\"CoinName\",\"CoinName\",\"CoinName\",\"CoinName\",\"CoinName\",\"CoinName\",\"CoinName\",\"CoinName\",\"CoinName\",\"CoinName\",\"CoinName\",\"CoinName\",\"CoinName\",\"CoinName\",\"CoinName\",\"CoinName\",\"CoinName\",\"CoinName\",\"CoinName\",\"CoinName\",\"CoinName\",\"CoinName\",\"CoinName\",\"CoinName\",\"CoinName\",\"CoinName\",\"CoinName\",\"CoinName\",\"CoinName\",\"CoinName\",\"CoinName\",\"CoinName\",\"CoinName\",\"CoinName\",\"CoinName\",\"CoinName\",\"CoinName\",\"CoinName\",\"CoinName\",\"CoinName\",\"CoinName\",\"CoinName\",\"CoinName\",\"CoinName\",\"CoinName\",\"CoinName\",\"CoinName\",\"CoinName\",\"CoinName\",\"CoinName\",\"CoinName\",\"CoinName\",\"CoinName\",\"CoinName\",\"CoinName\",\"CoinName\",\"CoinName\",\"CoinName\",\"CoinName\",\"CoinName\",\"CoinName\",\"CoinName\",\"CoinName\",\"CoinName\",\"CoinName\",\"CoinName\",\"CoinName\",\"CoinName\",\"CoinName\",\"CoinName\",\"CoinName\",\"CoinName\",\"CoinName\",\"CoinName\",\"CoinName\",\"CoinName\",\"CoinName\",\"CoinName\",\"CoinName\",\"CoinName\",\"CoinName\",\"CoinName\",\"CoinName\",\"CoinName\",\"CoinName\",\"CoinName\",\"CoinName\",\"CoinName\",\"CoinName\",\"CoinName\",\"CoinName\",\"CoinName\",\"CoinName\",\"CoinName\",\"CoinName\",\"CoinName\",\"CoinName\",\"CoinName\",\"CoinName\",\"CoinName\",\"CoinName\",\"CoinName\",\"CoinName\",\"CoinName\",\"CoinName\",\"CoinName\",\"CoinName\",\"CoinName\",\"CoinName\",\"CoinName\",\"CoinName\",\"CoinName\",\"CoinName\",\"CoinName\",\"CoinName\",\"CoinName\",\"CoinName\",\"CoinName\",\"CoinName\",\"CoinName\",\"CoinName\",\"CoinName\",\"CoinName\",\"CoinName\",\"CoinName\",\"CoinName\",\"CoinName\",\"CoinName\",\"CoinName\",\"CoinName\",\"CoinName\",\"CoinName\",\"CoinName\",\"CoinName\",\"CoinName\",\"CoinName\",\"CoinName\",\"CoinName\",\"CoinName\",\"CoinName\",\"CoinName\",\"CoinName\",\"CoinName\",\"CoinName\",\"CoinName\",\"CoinName\",\"CoinName\",\"CoinName\",\"CoinName\",\"CoinName\",\"CoinName\",\"CoinName\",\"CoinName\",\"CoinName\",\"CoinName\",\"CoinName\",\"CoinName\",\"CoinName\",\"CoinName\",\"CoinName\",\"CoinName\",\"CoinName\",\"CoinName\",\"CoinName\",\"CoinName\",\"CoinName\",\"CoinName\",\"CoinName\",\"CoinName\",\"CoinName\",\"CoinName\",\"CoinName\",\"CoinName\",\"CoinName\",\"CoinName\",\"CoinName\",\"CoinName\",\"CoinName\",\"CoinName\",\"CoinName\",\"CoinName\",\"CoinName\",\"CoinName\",\"CoinName\",\"CoinName\",\"CoinName\",\"CoinName\",\"CoinName\",\"CoinName\",\"CoinName\",\"CoinName\",\"CoinName\",\"CoinName\",\"CoinName\",\"CoinName\",\"CoinName\",\"CoinName\",\"CoinName\",\"CoinName\",\"CoinName\",\"CoinName\",\"CoinName\",\"CoinName\",\"CoinName\",\"CoinName\",\"CoinName\",\"CoinName\",\"CoinName\",\"CoinName\",\"CoinName\",\"CoinName\",\"CoinName\",\"CoinName\",\"CoinName\",\"CoinName\",\"CoinName\",\"CoinName\",\"CoinName\",\"CoinName\",\"CoinName\",\"CoinName\",\"CoinName\",\"CoinName\",\"CoinName\",\"CoinName\",\"CoinName\",\"CoinName\",\"CoinName\",\"CoinName\",\"CoinName\",\"CoinName\",\"CoinName\",\"CoinName\",\"CoinName\",\"CoinName\",\"CoinName\",\"CoinName\",\"CoinName\",\"CoinName\",\"CoinName\",\"CoinName\",\"CoinName\",\"CoinName\",\"CoinName\",\"CoinName\",\"CoinName\",\"CoinName\",\"CoinName\",\"CoinName\",\"CoinName\",\"CoinName\",\"CoinName\",\"CoinName\",\"CoinName\",\"CoinName\",\"CoinName\",\"CoinName\",\"CoinName\",\"CoinName\",\"CoinName\",\"CoinName\",\"CoinName\",\"CoinName\",\"CoinName\",\"CoinName\",\"CoinName\",\"CoinName\",\"CoinName\",\"CoinName\",\"CoinName\",\"CoinName\",\"CoinName\",\"CoinName\",\"CoinName\",\"CoinName\",\"CoinName\",\"CoinName\",\"CoinName\",\"CoinName\",\"CoinName\",\"CoinName\",\"CoinName\",\"CoinName\",\"CoinName\",\"CoinName\",\"CoinName\",\"CoinName\",\"CoinName\",\"CoinName\",\"CoinName\",\"CoinName\",\"CoinName\",\"CoinName\",\"CoinName\",\"CoinName\",\"CoinName\",\"CoinName\",\"CoinName\",\"CoinName\",\"CoinName\",\"CoinName\",\"CoinName\",\"CoinName\",\"CoinName\",\"CoinName\",\"CoinName\",\"CoinName\",\"CoinName\",\"CoinName\",\"CoinName\",\"CoinName\",\"CoinName\",\"CoinName\",\"CoinName\",\"CoinName\",\"CoinName\",\"CoinName\",\"CoinName\",\"CoinName\",\"CoinName\",\"CoinName\",\"CoinName\",\"CoinName\",\"CoinName\",\"CoinName\",\"CoinName\",\"CoinName\",\"CoinName\",\"CoinName\",\"CoinName\",\"CoinName\",\"CoinName\",\"CoinName\",\"CoinName\",\"CoinName\",\"CoinName\",\"CoinName\",\"CoinName\",\"CoinName\",\"CoinName\",\"CoinName\",\"CoinName\",\"CoinName\",\"CoinName\",\"CoinName\",\"CoinName\",\"CoinName\",\"CoinName\",\"CoinName\",\"CoinName\",\"CoinName\",\"CoinName\",\"CoinName\",\"CoinName\",\"CoinName\",\"CoinName\",\"CoinName\",\"CoinName\",\"CoinName\",\"CoinName\",\"CoinName\",\"CoinName\",\"CoinName\",\"CoinName\",\"CoinName\",\"CoinName\",\"CoinName\",\"CoinName\",\"CoinName\",\"CoinName\",\"CoinName\",\"CoinName\",\"CoinName\",\"CoinName\",\"CoinName\",\"CoinName\",\"CoinName\",\"CoinName\",\"CoinName\",\"CoinName\",\"CoinName\",\"CoinName\",\"CoinName\",\"CoinName\",\"CoinName\",\"CoinName\",\"CoinName\",\"CoinName\",\"CoinName\",\"CoinName\",\"CoinName\",\"CoinName\",\"CoinName\",\"CoinName\",\"CoinName\",\"CoinName\",\"CoinName\",\"CoinName\",\"CoinName\",\"CoinName\",\"CoinName\",\"CoinName\",\"CoinName\",\"CoinName\",\"CoinName\",\"CoinName\",\"CoinName\",\"CoinName\",\"CoinName\",\"CoinName\",\"CoinName\",\"CoinName\",\"CoinName\",\"CoinName\",\"CoinName\",\"CoinName\",\"CoinName\",\"CoinName\",\"CoinName\"],\"legendgroup\":\"k_10\",\"marker\":{\"color\":\"#636efa\",\"symbol\":\"circle\"},\"mode\":\"markers\",\"name\":\"k_10\",\"scene\":\"scene\",\"showlegend\":true,\"x\":[-0.3269351700463582,-0.31027445099933854,2.296454753303468,-0.14497021826973533,-0.1593051851732734,-0.16517327634782636,-0.3881615787445458,-0.1419135931810731,-0.15774841561526193,-0.14173251202390352,-0.3097549940653325,0.14232099327164888,-0.3055631189053978,-0.2725614443332305,-0.16631925784381213,-0.2251344048108762,-0.227753169409828,-0.16593603471559112,-0.3265948191054715,-0.3191713641520447,-0.11099264949921196,2.5533239684824243,-0.1420557324828743,-0.16319229492793766,-0.16574028198997853,-0.3254315513039332,-0.23917586736210517,-0.19482593163490747,-0.16578870392013964,-0.32693110912017254,-0.16630152117390493,-0.32691539163168143,-0.16638793557072823,-0.2278425115449151,0.6918264297377943,-0.35635159440031994,0.1661043949872494,0.2327893030106906,0.08228726959481104,-0.16613424611903163,-0.16174081194554396,-0.16607360632699575,-0.35338098423100656,-0.26327635583351444,-0.16644493408526484,-0.17251406644698838,-0.1456738129300489,-0.16524026135695125,-0.16551776652093353,-0.32499452270178375,-0.3349809233700834,1.5821061349581635,-0.3880562615532428,-0.14493158184498542,-0.1628080759462191,-0.166160684849279,-0.16651542408833647,-0.4510193954444492,-0.16577484137681378,-0.1474719075945062,-0.03382122362110645,-0.1663967319952534,-0.26888120759734385,-0.2936847282282138,-0.2856651451185589,-0.031384518984329285,-0.14500920415040197,-0.16006193538698132,-0.2862874326303069,-0.3377741681465827,-0.3212395817486182,-0.325337381890594,0.031251540324940534,-0.1663762459096693,-0.16447186692877308,-0.16586311876449567,-0.35487004156484536,-0.3884277298949756,-0.13216529768422422,-0.27155581379700267,-0.14447306978959948,-0.33714954037007017,-0.3883394268071366,-0.14476028379140565,-0.14474352738884436,-0.14533377499685315,-0.22801630853884894,-0.302175066322755,-0.3256130839216132,-0.16609270610199656,-0.2846185144188222,-0.23470046264206862,-0.16319711562268152,-0.3883038675810159,-0.27202292751986046,-0.1445403609369993,-0.28606826837753724,-0.3180440050111606,3.8521066541454574,0.4517592220433965,0.06553582443569662,-0.36963659933473975,-0.16496069324797097,-0.3047750487496803,-0.35577305432948986,-0.14956808601841026,-0.29366487448179285,-0.16367973798398094,-0.2863629109943692,-0.16651764252130413,-0.2883216549722581,-0.16354471299611822,-0.3269172363194616,-0.28631507672563544,-0.14977203775674094,-0.13950492199625392,-0.35531507907497617,-0.14499064033031517,-0.16385791042569658,-0.16639070601507536,-0.3266517212543468,-0.039378153228066946,-0.15537174229808187,-0.1665265226037791,-0.14503698590115077,0.48509630968451395,-0.3884092564529592,-0.5142046258765655,-0.2274036284327713,-0.1626903284377303,-0.1447770339276559,-0.40691597250515243,-0.22768848805293354,-0.3580428723529382,-0.16465146167924516,-0.16384385408277466,-0.2920668944415943,-0.16037292231719677,-0.285836927346836,0.37225727465806235,-0.29812559899662966,-0.2275739441186394,-0.22772385579640816,-0.14493270436727304,-0.08917470886452669,-0.1624852092805669,-0.09908378701940816,-0.30553402918637146,-0.06601832960157579,-0.16509023024014943,-0.30559765294861174,0.2734661366552442,-0.21434378092221568,-0.3265277364601033,-0.2919367516617717,-0.2268849179581704,-0.16363600073397566,-0.16533827475880458,-0.15950975269470286,-0.3855807296552357,0.8589435669861265,-0.3053978925261747,-0.03877577855535645,-0.3530643549134017,-0.16631653565314075,-0.22768715562586073,-0.38625249413305024,-0.30414252914457035,-0.30181253862199076,-0.3357183481367886,-0.3871452410191344,-0.16652658108667542,-0.3688370208779887,-0.3028346057053711,-0.32656585492886575,-0.32500504226405547,-0.25205678339957516,-0.22783714963145438,-0.34280865868068977,-0.2011105840672607,-0.3878834383651287,-0.3257702936008844,0.29670904344622123,-0.30557867446043796,-0.14519275151980768,-0.38839846722826954,-0.32675488106750367,-0.12506833393793446,-0.3269114686902813,-0.1636942329893195,-0.2919248144316762,-0.14515138108118558,-0.2509655497987719,-0.16619013223059798,0.018629976356250175,-0.3520216724112747,-0.32652557694919015,-0.37456936500882404,-0.15181814309500274,-0.3513499940693395,-0.25348621436977115,-0.41366734753977913,-0.3511006909234783,-0.2958500050500988,-0.16011510387398656,-0.1417541324012423,3.7393678276551436,-0.38799114391492623,-0.09331029848813983,-0.214421684161106,0.845988473340775,-0.3883533771969979,-0.3524853163355139,-0.3264533869514431,-0.3266077562036963,-0.2256663671420198,-0.3530643549134017,-0.3879286140331379,-0.30544132325621054,-0.3264540849051549,-0.36734625208556854,-0.32660145984363087,-0.3221932076957759,-0.3883823825798097,0.29670333053788434,-0.32581285898326817,0.34944482504571206,-0.3268006581947096,-0.32687117186544484,-0.3713205019961235,-0.3234046551826018,-0.1665083306180347,0.296834038968187,-0.163230470956042,-0.32310086693244294,-0.30555508518508817,-0.3882923526040979,-0.32664906980759173,0.48682746622078676,-0.3267760521782348,-0.14067938515368997,-0.2935717499970745,-0.24600469092189484,-0.1664766173388845,-0.2532541216664022,-0.2205768247341838,-0.14176648148171228,-0.30763388492741006,-0.1646102640186904,-0.16294888373368643,-0.29331270697260825,-0.1578937016865138,-0.38755862728731555,-0.42971620009567923,-0.3862969076319592,-0.13742343335408647,-0.35131130689632567,-0.3874564996454183,-0.17651329120786569,-0.3457124991409511,-0.38339971749528295,-0.32671932662737563,-0.3267185671889953,-0.3198460865799116,0.2596550890382422,-0.3879346270717573,-0.16603914953492713,-0.2762250159327084,-0.11152991421775603,-0.3530987220572168,-0.32593049045221284,0.9063267717157821,-0.27125297747191757,-0.1658614391874264,-0.3676156742279016,-0.14053654619587275,0.5969335959264792,-0.15669292644130095,-0.02810971891051266,-0.16994030466068108,0.3328172189739712,-0.33725364186564905,-0.2268934233974792,-0.3357564360087919,-0.39701799083761186,-0.16618038521850778,-0.2860002683884185,-0.16594411471052137,-0.22728788761827967,-0.22786514436150856,0.13772736272858674,0.2970981507479296,-0.2860709734691386,-0.18325656652553052,3.242314405082651,-0.13733324977056452,-0.4279927513133738,-0.21874334177755744,-0.3965228139736099,-0.1449693823583141,-0.3882068364386441,-0.29364570357252473,4.395051292887493,-0.09216131205246861,-0.35296519636916995,1.5807614591816421,-0.16627825282210112,-0.16573025408057684,-0.16543129390662387,-0.16541822281958324,-0.32635466238220157,-0.3268541054561118,0.2972815475500476,-0.36780233631544273,0.6565975131509786,-0.38814777674524753,0.07044739207665844,-0.33277549866814526,-0.18225737397765585,-0.3268097941970329,-0.17720138850731915,-0.36291600186154127,-0.1416125367054628,0.4422321032156028,-0.3039016892778933,-0.32202673306315976,-0.40567415921318767,-0.162395779198131,-0.3267601628233363,-0.40270156556764364,-0.16460847289768393,-0.3567127454090284,-0.3266305032057585,-0.09908497100784729,-0.22341117671133912,-0.1770469011453438,-0.158481810184303,-0.17714703037525592,-0.3869410806372679,3.7442218767278703,0.2221034587141126,-0.28274271726492994,-0.135225517523584,-0.3240917948803667,1.1341868090978249,0.29668615636836027,-0.08342673559283674,-0.3040791202917735,-0.3712064257312901,-0.22315409513069703,-0.12965312688638014,0.08722382205277206,-0.32576985371438616,-0.08268776076056858,-0.38752165001434474,1.0760593166450023,-0.22783914518896448,-0.1771989052606755,-0.37037174304948267,-0.17023901779207373,-0.16552944288467014,-0.3133391936178793,-0.32687623836538504,-0.35528701188414064,-0.22776456328598696,-0.144948770811291,-0.18126894587799597,-0.3691189145518566,-0.28804821806635944,-0.27928775469989414,8.028796781403933,-0.19622085360064825,-0.3224224959613793,0.30055894494012886,0.02647437997027574,-0.16189852841229366,-0.2202633178371549,-0.2450542260362178,-0.17660313292323618,-0.3923213409409188,-0.1661030900027361,0.14089341906419728,-0.2219078720466448,-0.34169968507213944,-0.36764226727513777,-0.38822418979557444,-0.31910982737263033,-0.2928063117516207,-0.33250557803626213,-0.11155616027344979,0.30460367647723374,-0.1663400057311341,-0.14669511205489486,-0.336852825809339,-0.32690358966601524,-0.3268853120625219,-0.14060381132308253,-0.28718960938628735,-0.14960324309186426,-0.3691941461083446,-0.35255978388369796,-0.3266019585544485,3.883236613005255,-0.2269342021785747,-0.4013694270151143,-0.3527484217254732,0.2968686625454627,-0.32957634636953137,-0.27350008467298653,-0.17657257302882345,-0.16307579829705823,-0.2888770892730267,-0.12284093847101556,-0.2933399338529461,-0.1519024571334029,0.3007934555263059,0.5473665097563702,2.1043593394045796,-0.130062054375035,-0.2935921464175475,-0.17520173671197523,-0.3611226037676913,0.3104689161480257,-0.32607629350142553,-0.1939798954348893,2.24988218290395,-0.366918134040745,-0.2713800367701113,1.0228029683473292,-0.20223469756006943,-0.2040163263405648,-0.22782131094918096,-0.36185122164667105,-0.3713199786919848,-0.4043845932910815,-0.17442367134824255,-0.39578262228253325,-0.37003989172021595,-0.1663645990682461,-0.31978617039687623,-0.1295381919136896,-0.20942829910838845,-0.15747563932829825,3.0690373054940068,-0.3548645990431847,-0.38769763142173236,-0.2908387570708325,-0.3518489940636374,-0.10480530009117514,-0.3578767040979138,-0.35472626694489146,-0.22779269985203515,-0.186490770269552,-0.3925229098789457,-0.20166287163298918,-0.16803971712567198,-0.0363949433905017,-0.28616470151222234,-0.15130062562985416,-0.14496941992961984,0.48879894782478805,-0.14521340644339892,0.37658533250124154,-0.40367946794444953,-0.16366704311299626,-0.16405857427137072,-0.26852164131944345,-0.14146323122377472,-0.16525740266997985,-0.32660587168798444,-0.13967401590412737,-0.40413540477006565,-0.14144539806908654,-0.3714369178755173,0.579509473900904,-0.16306945461921493,-0.3553413247770439,-0.32608915707914904,-0.31356775307660895,-0.3158701207840105,-0.38526449258946077,-0.1442457477863024,-0.12604675302392754,-0.1431142315686815,-0.38792476003229626,3.756461695002161,0.10813988198954579,0.528980291486389,-0.385463905547328,-0.10238043921649619,-0.3254753578346019,-0.11456468302619413,-0.3262994656526144,-0.27259413579815855,-0.32681749386204734,-0.3795547595918736,-0.1499226473758302,-0.2405810372206632,-0.08519579038919951,-0.37530599016575866,-0.14475965414415104,-0.3260958275817164,0.5490766532444514,-0.3191619164453647,-0.19438700893394312,-0.38449416059545466,-0.3245358105480368,-0.35333994468775554,-0.16644133075157305,-0.164397951518605,-0.33833228307059493,-0.3040785643153447,3.7397594527484985,-0.10091859160741663,-0.3217311960118796,-0.3374003627671144,-0.145725659878536,-0.28647004777705676,-0.17327324788850842,3.749629739248758,-0.16014825566502217,3.7508740246560563,-0.2534952583225123,-0.38821444059436294,-0.35327580097324673,34.0655424170324,-0.2751435732833959,2.4805138526401938,-0.3249819949139863,0.31843704301881787,-0.1417335691368816,-0.29398837212030676],\"y\":[0.8946370344687753,0.8947682835383489,1.6461894057329531,-1.2763725637570276,-1.9668258800631953,-1.18594268784457,1.2180247336569925,-2.254401379104981,-1.966925439960005,-2.1320660536155374,2.0725994272452843,-1.6716735338590039,0.8041831097629376,0.7386028640948847,-1.1859332930572926,1.7107645103772287,-0.8625358054088824,-1.1859517355144036,0.8946355991723227,0.8948711454960719,-1.6660569622060029,-1.3718012395464065,-1.2763884846417142,-1.18599876013212,-1.1859709475507016,0.8946823748490799,-0.38023816440845576,-1.127198554326007,-1.1859362465553065,0.8946368081352815,-1.185932758223018,0.8946369332662637,-1.1859298805793257,-0.8625371041790358,0.2585850006563347,0.9533852357272726,-1.667855386062343,-1.279617191277154,-1.1878401710592983,-1.1859277141852649,-1.18598972876116,-1.1859335596085112,1.7421277993813225,0.0824950088932901,-1.1859302708972936,-1.6009629102252254,-1.1862871612251689,-1.1859349408564677,-1.185944875464708,0.8946118370964263,1.1530616884967713,-1.196401919533014,1.2180279094077893,-1.2763713987083205,-1.1859979323953909,-1.1859278137896365,-1.1859254997926356,2.4403795900843614,-1.1859315269359147,-2.0739491038586633,0.8368936267987341,-1.185927955259911,0.8036168555278704,0.8290463749760436,1.787495689017838,-1.1923142974242213,-1.276373739343266,-1.1859650608744599,1.7874769244644213,0.4796845000966618,0.8945157742129316,0.8946168463974103,0.9054378516973096,-1.1859350114842022,-1.186037344543194,-1.1859406070910148,1.1524619489652486,1.218032055326339,-1.2765912901690013,0.34924379788605864,-1.276375719476917,1.9370041971996854,1.2180277423971757,-1.2763808836570139,-1.27640688844233,-1.276369050614254,-0.8625297874832839,0.8942674414050948,0.894607137569589,-1.185927856847537,0.12477409686972338,-1.0295498586695455,-1.1860096635576785,1.2180319540048183,0.34929947578395276,-1.27637634496892,1.7874835331770353,0.8942075068871904,-2.2728922424630023,-2.253712568604325,0.6295088165217412,1.7336435809529065,-1.1859510115936052,0.8041747822259009,0.9534057367469058,-1.186585549072549,0.8290582613536587,-1.1859551266651907,1.787466276880174,-1.1859264582627962,0.8288705650322431,-1.1859466000154997,0.8946375752744341,1.7874691145484163,-1.1861173085090966,-2.2557979941344333,1.1524345765722657,-1.665686876514848,-1.6416168147353034,-1.1859231491763962,0.894631628993179,-1.1890671728519115,-1.7949938428177385,-1.1859253248226,-1.2763745770784543,-1.2304580091019623,1.2180326130749866,3.383080414203469,-0.8625343345276658,-2.045255311516202,-1.2763895929092792,1.7724888317581067,-0.8625345526304603,0.8844649514536242,-1.1860150221761077,-1.1860184073471673,0.829036683772769,-1.966869871236719,1.7874556274115867,-2.1391701940467502,0.8037250966428954,1.710916773385809,-0.8625321309489914,-1.2763714325570301,0.9012031028470548,-1.1859495332358718,-1.125124482702486,0.8041839869388028,1.209231878045929,-1.1859401836594576,0.8041900911995369,-1.2788275294758358,1.3320193851831408,0.8946200197200104,0.828956157786792,-0.862554272543838,-2.208833601773144,-1.1860065094968621,-2.074139875340418,1.2178500137701724,0.7947485098908147,0.8041755346275501,0.26296148018166915,1.7421233944071037,-1.1859325133387661,-0.8625373029849291,1.218045325930219,0.8040859140272152,0.8039452958536364,1.3282966508152023,1.2179737573803218,-1.1859253244722745,1.7702324518246164,0.8939685002850516,0.8946172424793385,0.894625472551325,1.7217875833382912,-0.8625418259272618,1.1523673047686576,-1.9847110130394454,1.2180135870160473,0.894609373376421,-2.2514186201884256,0.8041833383315066,-1.2763714159188695,1.2180308455154183,0.894627820663124,-1.665923296025242,0.8946377491924126,-1.1859790139911879,0.829110731392253,-1.2763707979013093,0.18316606362825716,-1.1859356780822055,2.0374874878084164,1.7421171634245927,0.8946493854313726,1.2174034935370093,-2.166423392828815,1.7421611369156416,1.721882262521346,1.9720177593837098,1.7419865721125611,2.036720838867362,-1.9668685843296088,-2.132066705559724,1.7070782158098567,1.2180242919097188,-1.1906934510617107,-0.8624686696721879,1.8210267582267514,1.2180316098580977,1.7421199258304125,0.8946246754773071,0.8946176067923446,-0.862617987351432,1.7421233944071037,1.2180052484503008,0.8041881776740307,0.8946285193188648,0.8361930771815663,0.8946275635181343,0.8943261024788569,1.2180299352680442,-2.2514264664212127,0.8945704176621513,0.8257672056792196,0.8946320213579435,0.8946366511046804,1.6347558802740014,0.4389161043127441,-1.1859262376662074,-2.2514253155517654,-2.0452326787294637,0.8944038380794005,0.8041840496461461,1.2180296125509678,0.8946317089453124,-0.910737595259914,0.8946265311421329,-2.254493224742585,0.8290226996193585,-0.047898996418112884,-1.1859257318506113,1.7218808722316976,-0.8630030893134457,-2.1320642874031175,0.8945214152505969,-1.1859368728148552,-2.0452318616705836,0.8290448636523317,-2.1266038000563876,1.2179884997607873,1.9757897652514194,1.2180195695177887,-1.187837846300992,1.7421132667670087,1.2179915793334217,-0.7522724448011047,1.7420799827931368,1.2178348548988476,0.8946287447945388,0.8946236136653145,0.8941531666421769,0.7023376360334187,1.2180190197956078,-1.185934976540911,0.8281888791929242,-1.2770936323095594,1.7421153817632598,0.8945940782783578,1.6823399511712078,0.7385114548459515,-1.1859550672147245,1.7702228878937005,-2.254433106901069,1.8194674033416967,-1.8360205895858415,-2.1514803142645804,-2.080482001119937,-2.2517180987137233,1.3283061659853754,-0.8625656911488834,1.3282745733125492,1.8138864153989578,-1.1859279033092944,1.787464654664075,-1.1859596531246837,-0.8625496805569184,-0.8625384145223244,0.873766881538262,-2.2514375828464335,1.7874702676047494,-2.012300621232169,-1.222660812596542,-1.1176167644653248,2.1429519688960355,-0.863017565503143,1.8139013470383358,-1.2763725385508178,1.2180320842916506,0.8290466965091562,3.9327578282192284,-1.191007620932843,1.7420973629336571,-1.133236901896183,-1.1859313589523863,-1.1859594830368583,-1.1859616302764744,-1.1859612361289038,0.8946208770198177,0.8946365488728916,-2.2514563923165647,2.0732971802048383,1.5914246086105228,1.218021661678753,-2.14030359439933,0.47955880755461794,-0.8624057052328823,0.8946298390057578,-1.6008886838066263,0.9854426716556066,-2.1320624358613185,0.9003897936031587,0.8041787933804085,1.3279351370650052,2.003082604354038,-2.2088843197083747,0.8946276613962457,1.7002625594742982,-1.185936818805116,1.6658859251295837,0.8946359046770236,0.7375639222594006,-0.8626350952387833,-1.600896582767992,-1.9669963891746245,-1.6008903933223597,1.2179764254980525,1.7069629731140359,1.3242510873298612,1.7874373093914886,-1.6658528553907799,0.8945762711048126,-2.2854570298460835,-2.2514210544118196,-1.9715141613142535,1.2627121455036505,1.6347558319814004,-0.862766869795218,-2.2547289465754212,0.8722439899988516,0.894567528650629,-1.1868849715735441,1.2180244964376659,-1.2118315001836075,-0.8625382584091263,-1.6008844231274049,1.634711237814474,-1.6010087198977638,-1.1859394750817482,0.8944191398111367,0.8946360210003722,1.1524347252814886,-0.8625382418810875,-1.2763713352009924,-1.2194887776156433,1.7702298814413286,0.0481077573528386,0.04345098556602468,-2.71589024997402,-1.9215638108029656,0.8946112594716272,-2.2515299580795762,-1.1870814454293486,-2.208830044087209,-1.0298233140834938,1.7215801596289428,3.015870559253695,5.254218241679747,-1.1859400297291678,-1.1894962241077582,-0.8626944093340169,0.8610750363015607,1.4951016230831118,1.2180207527742113,1.3544936300630532,0.8289976440733072,1.8522951772011795,-1.9699206642211442,-2.251871221047056,-1.1859339186922804,-2.4763987168906745,1.3282903469276353,0.8946358938782127,0.8946350497575423,-2.132066202626195,0.8289047009090952,-2.1665509649943338,1.6544180867637375,1.7420911702640438,0.8946261532135921,1.992159734201977,-0.8625669207985256,1.7003027289852641,1.742091063114887,-2.251419667128165,0.7734898453439694,0.8926750812216169,-0.7522552204951117,-2.0452393721749997,1.020949146153251,-2.524873694814236,0.8290499212009799,-2.166418331045755,-2.251707062129503,-2.1233508376631614,-2.325267981855941,0.8934577183987089,0.8290297585474251,-1.8795329948556563,2.039919270135025,-2.251694359707203,0.8946043320073379,1.6453033221145927,0.10360517292752112,1.6344456328920556,0.7385772626151182,1.6729750532500578,-1.241471185664847,-2.042902743552075,-0.8625385577925188,0.8390724408164892,1.6347517102547748,1.7003477423227933,0.8208778310387184,1.0510137347370931,1.6347351971739361,-1.1859354313516837,0.8941549733639828,-2.2552490673976595,-1.9660646744466048,-0.7261359869247611,-2.1758997342191915,1.1524237432555369,1.218019189867219,0.8289620959088995,1.7420274922829546,-1.2766118039921064,0.964364680573291,1.1523965210502745,-0.8625404855817711,0.8863146194881232,2.7758211649565405,-1.2415083053142466,0.19914910347324982,-2.1341770501516684,1.288912028033028,-2.16645145936395,-1.2763725396837484,0.8792138218322277,1.1587839674125726,-2.254639917954593,1.7003349260983147,-2.0559965905665596,-2.0559526621052653,-0.11713097028244789,-2.323599384470698,-1.1859703393967571,0.8946323139148905,-2.132172669107176,1.7003455697559453,-2.1320642927386677,1.6347535069937211,0.8697871447061833,-1.6416628028345444,1.1524339944452766,0.894603944117035,1.3543537880296754,2.037865417939766,1.2178344348372137,-1.2763807161888536,-0.29309153264549526,-1.276419150124331,1.2180262936595336,1.7069832378933472,0.8833391936389386,-1.2333902870964426,1.2181214276395644,-1.6014042179689245,0.894541527266222,-2.059326047432109,0.8946183527579272,0.7385959484294746,0.8946405829238485,1.2179507963513108,-1.1861218500147335,0.8899158220271133,0.8107108977350037,1.2177300978136134,-1.2763808646705341,0.8946518796624007,-1.199228142836172,0.8945923771156944,-1.127199969279889,1.2180055617787648,0.894597763846521,1.7421227581954963,-1.1859258119318241,-1.1859876766309823,0.6195762279193634,0.8041699716974534,1.707065664699122,0.8278878667048394,0.8945846659811583,0.4796564266649374,-1.6657109937803203,1.7874713341431963,-1.9377978671650526,1.7074748592178821,-1.966868385742574,1.7075123795915839,0.7384888760473353,2.705335331675271,1.7421249476310088,1.5871969228821556,1.6617354658746968,0.7724950117653395,0.8945215225491747,-2.251733296151128,-2.1320660854918847,0.8290478089229019],\"z\":[-0.534548357803533,-0.5348743275383779,-0.552855008442705,0.14976007772619568,0.3303918957763739,-0.0439358080159125,-0.4647363159385213,0.2813055181165167,0.33037210744681794,0.496596088775899,0.1810809129980749,0.33911596444113834,-0.34087217017092164,-0.05532193789564573,-0.04391514456138338,-0.5260548361634645,0.02589986714772645,-0.04392059455772452,-0.53455462403353,-0.534716760662696,0.343345746526393,-0.07734573204971465,0.14970676527067814,-0.04396772679589559,-0.04392244415129364,-0.5345809724407672,0.050432196255649445,0.12262486565881006,-0.0439248443054266,-0.5345484126071272,-0.04391552928324731,-0.5345487202476322,-0.043914178110219006,0.02590167191149618,-0.5008041408003063,-0.3679925165943706,0.33830419158289776,0.1429627070515415,-0.04841034520417469,-0.04391915760644641,-0.04399589600386068,-0.04391974068656601,-0.07556569461052892,-0.4672908670024836,-0.043913068526148,0.19896816622805014,-0.04426979137843111,-0.04393528700587257,-0.04392911821698848,-0.5345824638170509,-0.1796246132029813,-0.07581019894460489,-0.4647386003485241,0.14975923967276072,-0.04397503427296465,-0.04391865069782819,-0.04391219761875319,-0.6137163178236424,-0.04392555545008082,0.2876184129349081,-0.2546395262031296,-0.043914196331201076,-0.3415082529915246,-0.24900181202706362,-0.5177596775479901,-0.04584486629881576,0.1497609233596185,-0.044029835298574335,-0.5177461796584386,-0.29158502883359644,-0.5346439410765508,-0.5345764914266122,-0.5423177000543846,-0.04391390844687979,-0.043939971905728875,-0.04392302822487821,-0.1791932030981592,-0.46473200733722597,0.14954004332705037,0.13885300479918442,0.1497510257505601,-0.11068187707145495,-0.46473325708939933,0.1497569220063102,0.14975908811427383,0.14976658227144138,0.025904243484528564,-0.5349789152052905,-0.5345703781047022,-0.043919925505909015,-0.4641923599863816,0.251237767003969,-0.04396659570640986,-0.4647343279500635,0.13885648009572057,0.14975235141495027,-0.5177509334978164,-0.5346746463853117,0.29570202582516375,0.3578442776072916,-0.6441034190584469,0.039839160278353644,-0.04393901319832008,-0.3408862019046229,-0.36800535713453675,-0.04416805464873276,-0.2490033197329649,-0.04396271976470334,-0.517743743664642,-0.043912064425919314,-0.249085934451714,-0.043966073659819034,-0.5345487468025061,-0.5177449143614318,-0.04420889671764351,0.36210687396976543,-0.17918221854489397,0.3439500537027609,0.15450338891962012,-0.043914768293183276,-0.5345531746751697,-0.04600431606479414,0.5631848973928817,-0.043912005512572946,0.14976152596692802,-0.05192202667815249,-0.464732408106805,-0.5483752349190701,0.025893150716224046,0.38568342444830417,0.1497580681639532,-0.5494047011551076,0.025898530727442075,-0.0463583873323341,-0.04393872308493937,-0.043953593982136135,-0.2490313243802607,0.33041618122484406,-0.51775262308303,0.40415461286129817,-0.34096839256742156,-0.5260234687505645,0.02589896504293093,0.14975926402112308,-0.371632022451087,-0.04398572672371409,0.17896461328528152,-0.34087280114905816,-0.46995794399727037,-0.04393760934916877,-0.34087218662813223,0.14212208551203587,-0.49280006145587857,-0.5345543995134755,-0.24902608909844803,0.025885294436702778,0.3748668098152361,-0.04392661401506594,0.36390578921931765,-0.46476819906387457,-0.26741408577896164,-0.3408745558408008,-0.4874765725346581,-0.07557123119021533,-0.043915270175324775,0.025898768096304533,-0.464774197355727,-0.34088962207114465,-0.3409200396305489,-0.49016136367411717,-0.46475057267307845,-0.043912004445734176,-0.035105943197729195,-0.5349379822723916,-0.5345534173706158,-0.5345835669908386,-0.23220865887574718,0.025902021580397717,-0.1794110887854197,1.0699371633768306,-0.4647404851234191,-0.5345676337827056,0.3605424240669849,-0.3408718993266534,0.14976415482476182,-0.4647324424306326,-0.5345508704927856,0.34359780478646645,-0.5345488719067707,-0.043960167755222504,-0.24904106295924894,0.1497633175322459,-0.34132265519826926,-0.04391734628617644,-0.5290317642590999,-0.0755902531189752,-0.5345572421922123,-0.46493275454906663,0.3520529288613449,-0.07560708563686314,-0.2321908005143477,-0.5250668858735326,-0.07559511907316334,-0.523042149243262,0.33041120796781354,0.49659655773833217,0.1965506261951119,-0.46473948025920064,-0.04483448680378324,0.025642649516711392,-0.542249523046488,-0.46473336366383683,-0.07558179395084476,-0.5345562425346213,-0.5345526638243601,0.025868448870349434,-0.07557123119021533,-0.4647388395532633,-0.3408749451463215,-0.5345565961797277,-0.36862915724021195,-0.5345537323429673,-0.5346079017431827,-0.4647326581837847,0.36054328022741594,-0.5345631158592185,-0.2607884198655474,-0.534550410092509,-0.5345495252515923,-0.15456593031868343,-0.33614636959546706,-0.043912260664337475,0.36054071133234206,0.38569142680641516,-0.5345982429805057,-0.34087241099598176,-0.4647343211673167,-0.5345532321870669,0.01705549365541423,-0.5345503491455919,0.2812910622030874,-0.2490016784583702,-0.4817455214612608,-0.04391290556588682,-0.23219503432494937,0.025809442975838644,0.4965965593290633,-0.5349004498097049,-0.04394695510078216,0.38568605120850663,-0.24900866683135953,0.5638004794158226,-0.4647442021450646,-0.45954742133005766,-0.46477090412872823,-0.04427704467721021,-0.07560324574886228,-0.4647464173713138,0.000498275114126276,-0.07570540286420965,-0.46480778504052794,-0.534551627575265,-0.5345511522550208,-0.5346355578651035,-0.06187438488541334,-0.46474004047697753,-0.04392025373617995,-0.24924846842309434,0.14919975305911207,-0.07556982006517247,-0.5345631604778036,-0.5446293085820975,-0.05533783251580188,-0.04392168005104241,-0.03512800839334641,0.28128263851303853,-0.7436702608461359,0.5401245302960985,0.4128615293068022,0.4037351474326336,0.35989167970361924,-0.4901333873895082,0.025886544007029257,-0.49015854049255253,-0.6612132687610365,-0.04391827152348787,-0.5177504114426683,-0.043919687053384414,0.025892437533884906,0.025902222745306007,-0.5412988639056883,0.36053691300599894,-0.5177496168161809,0.4200929085960143,-0.10453888887416905,0.16533022030823952,-0.06173080058548422,0.025776330091120177,-0.6612240095239355,0.1497600595946527,-0.4647361658751284,-0.24900257689695504,0.6931570263993245,-0.0448261254162856,-0.07557061280652697,-0.081812052370628,-0.04391610055905468,-0.04392372674515477,-0.043929146337892626,-0.043929429859714715,-0.5345577374415431,-0.5345498365752303,0.36053525745780163,0.18210640637694614,-0.009404458721110377,-0.4647362824766129,0.4933902659669804,-0.2916670777152091,0.025031518980239396,-0.5345500299743737,0.19904926843510498,0.046165864980359204,0.496593486419968,-0.5495679922574433,-0.34090301557424346,-0.49038445523547675,-0.3956113333750318,0.37484831639694555,-0.5345507559274836,-0.4401396322736161,-0.04394699395155952,-0.005561812035123953,-0.5345539818425095,-0.05848649867999582,0.025827653315899524,0.19904711570268016,0.33039267506180775,0.1990484088901294,-0.4647546682293073,0.19647030101093366,-0.5002699074779091,-0.5178090880449386,0.34378217534618566,-0.5345960535903379,0.3480344706805051,0.3605430869240027,0.3294117100266085,-0.20458509258657034,-0.1545680718818802,0.02583539053179769,0.28110611231571486,-0.5402034036865128,-0.5345636492708891,-0.04539773550263571,-0.4647483325879878,0.1031985437225889,0.025901718714273235,0.1990488151662672,-0.15457952002877384,0.19892973577091155,-0.04392941384386281,-0.5347833540792246,-0.5345493698091007,-0.17918276077606124,0.025900313992232898,0.14975955699717614,0.19328274198423798,-0.03510039453370071,0.12533553725363894,-0.38732996475531756,0.25939444778203874,0.44816540334488736,-0.5346307974676484,0.3604806177975379,-0.047432707608939334,0.3748337824475875,0.25099224698540307,-0.23232060913944916,11.812907818390434,13.716395498958512,-0.04391856862277029,-0.04935491152286338,0.025805030627266114,-0.29735333348319043,21.343771409470925,-0.46473475815452764,-0.26423408738668736,-0.24901368823495926,-0.044054134181238686,0.32978887220627495,0.36043708534976016,-0.043914694523922784,0.2988017270658703,-0.4901394186925081,-0.5345488431061367,-0.534549106426152,0.4965748682091955,-0.24911048938170746,0.3520234317160053,-0.2451086904823801,-0.07557764912598806,-0.5345535883904404,0.47743019734112796,0.025887428529814904,-0.4401685273722805,-0.0755740899681271,0.36053952097474823,-0.019689087170978177,-0.5353664496916244,0.0004977468829191358,0.3856891555586297,0.15414023613656958,0.2884662525115302,-0.24900863718598637,0.3520540321106347,0.3604931049534675,0.32243950204464433,0.333580878340585,-0.538139696402562,-0.24900196828759605,0.5284786617245092,-0.5221193362301955,0.36030986383916314,-0.5345613958173941,-0.24048121264228467,-0.3847377633540583,-0.15461915063154472,-0.05534172140908441,0.048980638257504594,0.18539625013257421,0.41865587678025334,0.025901411757110297,-0.305253217284709,-0.1545655422642196,-0.44011609674337554,-0.250466091819514,-0.23938603193866045,-0.15458804948766658,-0.04391408750107555,-0.5346368574926965,0.2811535794690437,0.3352443291338387,0.22638562589513883,0.28001227576095955,-0.17918965993507974,-0.4647445154173792,-0.2490473128053997,-0.07558494545624947,0.14902726404084912,-0.32431019508691905,-0.1791896649235645,0.02590105743086595,-0.5363964876975682,0.6434863940189718,0.18538903402329598,0.08751438097488141,0.49481575227184654,0.021317338189391567,0.35204587064274234,0.14976006040960282,0.28537635200670575,-0.18374081501582734,0.3593470467567519,-0.44012813969010134,0.2641861474750798,0.26418932192184086,0.2915028325637541,0.2682434648178572,-0.04393158682001148,-0.5345541026195901,0.496567534463761,-0.44012057754154077,0.49659051914263685,-0.15456351367480747,-0.5492305786350401,0.15449294346882073,-0.17918166922591547,-0.5345611167966067,-0.2643250094703283,-0.5227747159945327,-0.46477266205444334,0.14974722581511832,-0.027106085459803118,0.14972960539322833,-0.4647409201761181,0.19623809381820542,-0.5416556022612795,-0.052467841544949344,-0.4647962950087025,0.1976908180182481,-0.5345667087328261,0.26358005523114064,-0.5345585350210795,-0.05532066296868432,-0.5345509102922891,-0.46489118510260735,-0.044205629880425173,-0.5357224853179269,-0.34564092182755846,-0.464950060366415,0.1497569083487821,-0.5345655652696141,-0.05610564630712623,-0.5346903385687143,0.12261674301015503,-0.46480348346306566,-0.5345897509304504,-0.07556598568145043,-0.043913561788020965,-0.04394610178093626,-0.3856083838196573,-0.34089884618234456,0.1965444559814035,-0.25251786953058347,-0.5346412656957501,-0.2915893826700508,0.3439661832251009,-0.5177422106088698,0.4246639183979352,0.1963197165812697,0.3304118127192827,0.1962927270841627,-0.05566976251494432,14.860192163220324,-0.07556740136182326,-0.46230803253124175,-0.1189641477001292,0.09158129660516677,-0.5345740817721724,0.3601636709459013,0.4965961117054841,-0.2489962362555211],\"type\":\"scatter3d\"}],                        {\"template\":{\"data\":{\"histogram2dcontour\":[{\"type\":\"histogram2dcontour\",\"colorbar\":{\"outlinewidth\":0,\"ticks\":\"\"},\"colorscale\":[[0.0,\"#0d0887\"],[0.1111111111111111,\"#46039f\"],[0.2222222222222222,\"#7201a8\"],[0.3333333333333333,\"#9c179e\"],[0.4444444444444444,\"#bd3786\"],[0.5555555555555556,\"#d8576b\"],[0.6666666666666666,\"#ed7953\"],[0.7777777777777778,\"#fb9f3a\"],[0.8888888888888888,\"#fdca26\"],[1.0,\"#f0f921\"]]}],\"choropleth\":[{\"type\":\"choropleth\",\"colorbar\":{\"outlinewidth\":0,\"ticks\":\"\"}}],\"histogram2d\":[{\"type\":\"histogram2d\",\"colorbar\":{\"outlinewidth\":0,\"ticks\":\"\"},\"colorscale\":[[0.0,\"#0d0887\"],[0.1111111111111111,\"#46039f\"],[0.2222222222222222,\"#7201a8\"],[0.3333333333333333,\"#9c179e\"],[0.4444444444444444,\"#bd3786\"],[0.5555555555555556,\"#d8576b\"],[0.6666666666666666,\"#ed7953\"],[0.7777777777777778,\"#fb9f3a\"],[0.8888888888888888,\"#fdca26\"],[1.0,\"#f0f921\"]]}],\"heatmap\":[{\"type\":\"heatmap\",\"colorbar\":{\"outlinewidth\":0,\"ticks\":\"\"},\"colorscale\":[[0.0,\"#0d0887\"],[0.1111111111111111,\"#46039f\"],[0.2222222222222222,\"#7201a8\"],[0.3333333333333333,\"#9c179e\"],[0.4444444444444444,\"#bd3786\"],[0.5555555555555556,\"#d8576b\"],[0.6666666666666666,\"#ed7953\"],[0.7777777777777778,\"#fb9f3a\"],[0.8888888888888888,\"#fdca26\"],[1.0,\"#f0f921\"]]}],\"heatmapgl\":[{\"type\":\"heatmapgl\",\"colorbar\":{\"outlinewidth\":0,\"ticks\":\"\"},\"colorscale\":[[0.0,\"#0d0887\"],[0.1111111111111111,\"#46039f\"],[0.2222222222222222,\"#7201a8\"],[0.3333333333333333,\"#9c179e\"],[0.4444444444444444,\"#bd3786\"],[0.5555555555555556,\"#d8576b\"],[0.6666666666666666,\"#ed7953\"],[0.7777777777777778,\"#fb9f3a\"],[0.8888888888888888,\"#fdca26\"],[1.0,\"#f0f921\"]]}],\"contourcarpet\":[{\"type\":\"contourcarpet\",\"colorbar\":{\"outlinewidth\":0,\"ticks\":\"\"}}],\"contour\":[{\"type\":\"contour\",\"colorbar\":{\"outlinewidth\":0,\"ticks\":\"\"},\"colorscale\":[[0.0,\"#0d0887\"],[0.1111111111111111,\"#46039f\"],[0.2222222222222222,\"#7201a8\"],[0.3333333333333333,\"#9c179e\"],[0.4444444444444444,\"#bd3786\"],[0.5555555555555556,\"#d8576b\"],[0.6666666666666666,\"#ed7953\"],[0.7777777777777778,\"#fb9f3a\"],[0.8888888888888888,\"#fdca26\"],[1.0,\"#f0f921\"]]}],\"surface\":[{\"type\":\"surface\",\"colorbar\":{\"outlinewidth\":0,\"ticks\":\"\"},\"colorscale\":[[0.0,\"#0d0887\"],[0.1111111111111111,\"#46039f\"],[0.2222222222222222,\"#7201a8\"],[0.3333333333333333,\"#9c179e\"],[0.4444444444444444,\"#bd3786\"],[0.5555555555555556,\"#d8576b\"],[0.6666666666666666,\"#ed7953\"],[0.7777777777777778,\"#fb9f3a\"],[0.8888888888888888,\"#fdca26\"],[1.0,\"#f0f921\"]]}],\"mesh3d\":[{\"type\":\"mesh3d\",\"colorbar\":{\"outlinewidth\":0,\"ticks\":\"\"}}],\"scatter\":[{\"fillpattern\":{\"fillmode\":\"overlay\",\"size\":10,\"solidity\":0.2},\"type\":\"scatter\"}],\"parcoords\":[{\"type\":\"parcoords\",\"line\":{\"colorbar\":{\"outlinewidth\":0,\"ticks\":\"\"}}}],\"scatterpolargl\":[{\"type\":\"scatterpolargl\",\"marker\":{\"colorbar\":{\"outlinewidth\":0,\"ticks\":\"\"}}}],\"bar\":[{\"error_x\":{\"color\":\"#2a3f5f\"},\"error_y\":{\"color\":\"#2a3f5f\"},\"marker\":{\"line\":{\"color\":\"#E5ECF6\",\"width\":0.5},\"pattern\":{\"fillmode\":\"overlay\",\"size\":10,\"solidity\":0.2}},\"type\":\"bar\"}],\"scattergeo\":[{\"type\":\"scattergeo\",\"marker\":{\"colorbar\":{\"outlinewidth\":0,\"ticks\":\"\"}}}],\"scatterpolar\":[{\"type\":\"scatterpolar\",\"marker\":{\"colorbar\":{\"outlinewidth\":0,\"ticks\":\"\"}}}],\"histogram\":[{\"marker\":{\"pattern\":{\"fillmode\":\"overlay\",\"size\":10,\"solidity\":0.2}},\"type\":\"histogram\"}],\"scattergl\":[{\"type\":\"scattergl\",\"marker\":{\"colorbar\":{\"outlinewidth\":0,\"ticks\":\"\"}}}],\"scatter3d\":[{\"type\":\"scatter3d\",\"line\":{\"colorbar\":{\"outlinewidth\":0,\"ticks\":\"\"}},\"marker\":{\"colorbar\":{\"outlinewidth\":0,\"ticks\":\"\"}}}],\"scattermapbox\":[{\"type\":\"scattermapbox\",\"marker\":{\"colorbar\":{\"outlinewidth\":0,\"ticks\":\"\"}}}],\"scatterternary\":[{\"type\":\"scatterternary\",\"marker\":{\"colorbar\":{\"outlinewidth\":0,\"ticks\":\"\"}}}],\"scattercarpet\":[{\"type\":\"scattercarpet\",\"marker\":{\"colorbar\":{\"outlinewidth\":0,\"ticks\":\"\"}}}],\"carpet\":[{\"aaxis\":{\"endlinecolor\":\"#2a3f5f\",\"gridcolor\":\"white\",\"linecolor\":\"white\",\"minorgridcolor\":\"white\",\"startlinecolor\":\"#2a3f5f\"},\"baxis\":{\"endlinecolor\":\"#2a3f5f\",\"gridcolor\":\"white\",\"linecolor\":\"white\",\"minorgridcolor\":\"white\",\"startlinecolor\":\"#2a3f5f\"},\"type\":\"carpet\"}],\"table\":[{\"cells\":{\"fill\":{\"color\":\"#EBF0F8\"},\"line\":{\"color\":\"white\"}},\"header\":{\"fill\":{\"color\":\"#C8D4E3\"},\"line\":{\"color\":\"white\"}},\"type\":\"table\"}],\"barpolar\":[{\"marker\":{\"line\":{\"color\":\"#E5ECF6\",\"width\":0.5},\"pattern\":{\"fillmode\":\"overlay\",\"size\":10,\"solidity\":0.2}},\"type\":\"barpolar\"}],\"pie\":[{\"automargin\":true,\"type\":\"pie\"}]},\"layout\":{\"autotypenumbers\":\"strict\",\"colorway\":[\"#636efa\",\"#EF553B\",\"#00cc96\",\"#ab63fa\",\"#FFA15A\",\"#19d3f3\",\"#FF6692\",\"#B6E880\",\"#FF97FF\",\"#FECB52\"],\"font\":{\"color\":\"#2a3f5f\"},\"hovermode\":\"closest\",\"hoverlabel\":{\"align\":\"left\"},\"paper_bgcolor\":\"white\",\"plot_bgcolor\":\"#E5ECF6\",\"polar\":{\"bgcolor\":\"#E5ECF6\",\"angularaxis\":{\"gridcolor\":\"white\",\"linecolor\":\"white\",\"ticks\":\"\"},\"radialaxis\":{\"gridcolor\":\"white\",\"linecolor\":\"white\",\"ticks\":\"\"}},\"ternary\":{\"bgcolor\":\"#E5ECF6\",\"aaxis\":{\"gridcolor\":\"white\",\"linecolor\":\"white\",\"ticks\":\"\"},\"baxis\":{\"gridcolor\":\"white\",\"linecolor\":\"white\",\"ticks\":\"\"},\"caxis\":{\"gridcolor\":\"white\",\"linecolor\":\"white\",\"ticks\":\"\"}},\"coloraxis\":{\"colorbar\":{\"outlinewidth\":0,\"ticks\":\"\"}},\"colorscale\":{\"sequential\":[[0.0,\"#0d0887\"],[0.1111111111111111,\"#46039f\"],[0.2222222222222222,\"#7201a8\"],[0.3333333333333333,\"#9c179e\"],[0.4444444444444444,\"#bd3786\"],[0.5555555555555556,\"#d8576b\"],[0.6666666666666666,\"#ed7953\"],[0.7777777777777778,\"#fb9f3a\"],[0.8888888888888888,\"#fdca26\"],[1.0,\"#f0f921\"]],\"sequentialminus\":[[0.0,\"#0d0887\"],[0.1111111111111111,\"#46039f\"],[0.2222222222222222,\"#7201a8\"],[0.3333333333333333,\"#9c179e\"],[0.4444444444444444,\"#bd3786\"],[0.5555555555555556,\"#d8576b\"],[0.6666666666666666,\"#ed7953\"],[0.7777777777777778,\"#fb9f3a\"],[0.8888888888888888,\"#fdca26\"],[1.0,\"#f0f921\"]],\"diverging\":[[0,\"#8e0152\"],[0.1,\"#c51b7d\"],[0.2,\"#de77ae\"],[0.3,\"#f1b6da\"],[0.4,\"#fde0ef\"],[0.5,\"#f7f7f7\"],[0.6,\"#e6f5d0\"],[0.7,\"#b8e186\"],[0.8,\"#7fbc41\"],[0.9,\"#4d9221\"],[1,\"#276419\"]]},\"xaxis\":{\"gridcolor\":\"white\",\"linecolor\":\"white\",\"ticks\":\"\",\"title\":{\"standoff\":15},\"zerolinecolor\":\"white\",\"automargin\":true,\"zerolinewidth\":2},\"yaxis\":{\"gridcolor\":\"white\",\"linecolor\":\"white\",\"ticks\":\"\",\"title\":{\"standoff\":15},\"zerolinecolor\":\"white\",\"automargin\":true,\"zerolinewidth\":2},\"scene\":{\"xaxis\":{\"backgroundcolor\":\"#E5ECF6\",\"gridcolor\":\"white\",\"linecolor\":\"white\",\"showbackground\":true,\"ticks\":\"\",\"zerolinecolor\":\"white\",\"gridwidth\":2},\"yaxis\":{\"backgroundcolor\":\"#E5ECF6\",\"gridcolor\":\"white\",\"linecolor\":\"white\",\"showbackground\":true,\"ticks\":\"\",\"zerolinecolor\":\"white\",\"gridwidth\":2},\"zaxis\":{\"backgroundcolor\":\"#E5ECF6\",\"gridcolor\":\"white\",\"linecolor\":\"white\",\"showbackground\":true,\"ticks\":\"\",\"zerolinecolor\":\"white\",\"gridwidth\":2}},\"shapedefaults\":{\"line\":{\"color\":\"#2a3f5f\"}},\"annotationdefaults\":{\"arrowcolor\":\"#2a3f5f\",\"arrowhead\":0,\"arrowwidth\":1},\"geo\":{\"bgcolor\":\"white\",\"landcolor\":\"#E5ECF6\",\"subunitcolor\":\"white\",\"showland\":true,\"showlakes\":true,\"lakecolor\":\"white\"},\"title\":{\"x\":0.05},\"mapbox\":{\"style\":\"light\"}}},\"scene\":{\"domain\":{\"x\":[0.0,1.0],\"y\":[0.0,1.0]},\"xaxis\":{\"title\":{\"text\":\"PC 1\"}},\"yaxis\":{\"title\":{\"text\":\"PC 2\"}},\"zaxis\":{\"title\":{\"text\":\"PC 3\"}}},\"legend\":{\"title\":{\"text\":\"Class\"},\"tracegroupgap\":0,\"x\":0,\"y\":1},\"margin\":{\"t\":60},\"width\":800},                        {\"responsive\": true}                    ).then(function(){\n",
       "                            \n",
       "var gd = document.getElementById('7bc81493-2104-4182-ab01-d525e6db0bec');\n",
       "var x = new MutationObserver(function (mutations, observer) {{\n",
       "        var display = window.getComputedStyle(gd).display;\n",
       "        if (!display || display === 'none') {{\n",
       "            console.log([gd, 'removed!']);\n",
       "            Plotly.purge(gd);\n",
       "            observer.disconnect();\n",
       "        }}\n",
       "}});\n",
       "\n",
       "// Listen for the removal of the full notebook cells\n",
       "var notebookContainer = gd.closest('#notebook-container');\n",
       "if (notebookContainer) {{\n",
       "    x.observe(notebookContainer, {childList: true});\n",
       "}}\n",
       "\n",
       "// Listen for the clearing of the current output cell\n",
       "var outputEl = gd.closest('.output');\n",
       "if (outputEl) {{\n",
       "    x.observe(outputEl, {childList: true});\n",
       "}}\n",
       "\n",
       "                        })                };                });            </script>        </div>"
      ]
     },
     "metadata": {},
     "output_type": "display_data"
    }
   ],
   "source": [
    "# Creating a 3D-Scatter with the PCA data and the clusters\n",
    "fig = px.scatter_3d(clustered_df, x=\"PC 1\", y=\"PC 2\", z=\"PC 3\", color=\"Class\", symbol=\"Class\", width=800, \n",
    "                    hover_name=\"CoinName\", hover_data=[\"Algorithm\"])\n",
    "\n",
    "fig.update_layout(legend=dict(x=0, y=1))\n",
    "fig.show()\n"
   ]
  },
  {
   "cell_type": "code",
   "execution_count": 77,
   "metadata": {},
   "outputs": [
    {
     "data": {},
     "metadata": {},
     "output_type": "display_data"
    },
    {
     "data": {
      "application/vnd.holoviews_exec.v0+json": "",
      "text/html": [
       "<div id='1203'>\n",
       "  <div class=\"bk-root\" id=\"d2e93009-b00b-46ae-8b10-0abcb65a4752\" data-root-id=\"1203\"></div>\n",
       "</div>\n",
       "<script type=\"application/javascript\">(function(root) {\n",
       "  function embed_document(root) {\n",
       "    var docs_json = {\"2da1c73b-50ba-4663-983c-393be3ff2f02\":{\"defs\":[{\"extends\":null,\"module\":null,\"name\":\"ReactiveHTML1\",\"overrides\":[],\"properties\":[]},{\"extends\":null,\"module\":null,\"name\":\"FlexBox1\",\"overrides\":[],\"properties\":[{\"default\":\"flex-start\",\"kind\":null,\"name\":\"align_content\"},{\"default\":\"flex-start\",\"kind\":null,\"name\":\"align_items\"},{\"default\":\"row\",\"kind\":null,\"name\":\"flex_direction\"},{\"default\":\"wrap\",\"kind\":null,\"name\":\"flex_wrap\"},{\"default\":\"flex-start\",\"kind\":null,\"name\":\"justify_content\"}]},{\"extends\":null,\"module\":null,\"name\":\"GridStack1\",\"overrides\":[],\"properties\":[{\"default\":\"warn\",\"kind\":null,\"name\":\"mode\"},{\"default\":null,\"kind\":null,\"name\":\"ncols\"},{\"default\":null,\"kind\":null,\"name\":\"nrows\"},{\"default\":true,\"kind\":null,\"name\":\"allow_resize\"},{\"default\":true,\"kind\":null,\"name\":\"allow_drag\"},{\"default\":[],\"kind\":null,\"name\":\"state\"}]},{\"extends\":null,\"module\":null,\"name\":\"click1\",\"overrides\":[],\"properties\":[{\"default\":\"\",\"kind\":null,\"name\":\"terminal_output\"},{\"default\":\"\",\"kind\":null,\"name\":\"debug_name\"},{\"default\":0,\"kind\":null,\"name\":\"clears\"}]},{\"extends\":null,\"module\":null,\"name\":\"NotificationAreaBase1\",\"overrides\":[],\"properties\":[{\"default\":\"bottom-right\",\"kind\":null,\"name\":\"position\"},{\"default\":0,\"kind\":null,\"name\":\"_clear\"}]},{\"extends\":null,\"module\":null,\"name\":\"NotificationArea1\",\"overrides\":[],\"properties\":[{\"default\":[],\"kind\":null,\"name\":\"notifications\"},{\"default\":\"bottom-right\",\"kind\":null,\"name\":\"position\"},{\"default\":0,\"kind\":null,\"name\":\"_clear\"},{\"default\":[{\"background\":\"#ffc107\",\"icon\":{\"className\":\"fas fa-exclamation-triangle\",\"color\":\"white\",\"tagName\":\"i\"},\"type\":\"warning\"},{\"background\":\"#007bff\",\"icon\":{\"className\":\"fas fa-info-circle\",\"color\":\"white\",\"tagName\":\"i\"},\"type\":\"info\"}],\"kind\":null,\"name\":\"types\"}]},{\"extends\":null,\"module\":null,\"name\":\"Notification\",\"overrides\":[],\"properties\":[{\"default\":null,\"kind\":null,\"name\":\"background\"},{\"default\":3000,\"kind\":null,\"name\":\"duration\"},{\"default\":null,\"kind\":null,\"name\":\"icon\"},{\"default\":\"\",\"kind\":null,\"name\":\"message\"},{\"default\":null,\"kind\":null,\"name\":\"notification_type\"},{\"default\":false,\"kind\":null,\"name\":\"_destroyed\"}]},{\"extends\":null,\"module\":null,\"name\":\"TemplateActions1\",\"overrides\":[],\"properties\":[{\"default\":0,\"kind\":null,\"name\":\"open_modal\"},{\"default\":0,\"kind\":null,\"name\":\"close_modal\"}]},{\"extends\":null,\"module\":null,\"name\":\"MaterialTemplateActions1\",\"overrides\":[],\"properties\":[{\"default\":0,\"kind\":null,\"name\":\"open_modal\"},{\"default\":0,\"kind\":null,\"name\":\"close_modal\"}]}],\"roots\":{\"references\":[{\"attributes\":{\"editor\":{\"id\":\"1223\"},\"field\":\"TotalCoinSupply\",\"formatter\":{\"id\":\"1222\"},\"title\":\"TotalCoinSupply\"},\"id\":\"1224\",\"type\":\"TableColumn\"},{\"attributes\":{},\"id\":\"1218\",\"type\":\"StringEditor\"},{\"attributes\":{\"format\":\"0,0.0[00000]\"},\"id\":\"1227\",\"type\":\"NumberFormatter\"},{\"attributes\":{\"columns\":[{\"id\":\"1209\"},{\"id\":\"1214\"},{\"id\":\"1219\"},{\"id\":\"1224\"},{\"id\":\"1229\"},{\"id\":\"1234\"}],\"height\":300,\"reorderable\":false,\"source\":{\"id\":\"1205\"},\"view\":{\"id\":\"1239\"},\"width\":700},\"id\":\"1237\",\"type\":\"DataTable\"},{\"attributes\":{},\"id\":\"1206\",\"type\":\"Selection\"},{\"attributes\":{\"children\":[{\"id\":\"1204\"},{\"id\":\"1237\"},{\"id\":\"1242\"}],\"margin\":[0,0,0,0],\"name\":\"Row01163\",\"tags\":[\"embedded\"]},\"id\":\"1203\",\"type\":\"Row\"},{\"attributes\":{},\"id\":\"1217\",\"type\":\"StringFormatter\"},{\"attributes\":{},\"id\":\"1208\",\"type\":\"StringEditor\"},{\"attributes\":{},\"id\":\"1232\",\"type\":\"StringFormatter\"},{\"attributes\":{\"editor\":{\"id\":\"1213\"},\"field\":\"Algorithm\",\"formatter\":{\"id\":\"1212\"},\"title\":\"Algorithm\"},\"id\":\"1214\",\"type\":\"TableColumn\"},{\"attributes\":{\"editor\":{\"id\":\"1208\"},\"field\":\"CoinName\",\"formatter\":{\"id\":\"1207\"},\"title\":\"CoinName\"},\"id\":\"1209\",\"type\":\"TableColumn\"},{\"attributes\":{},\"id\":\"1228\",\"type\":\"NumberEditor\"},{\"attributes\":{\"data\":{\"Algorithm\":[\"Scrypt\",\"Scrypt\",\"X13\",\"SHA-256\",\"Ethash\",\"Scrypt\",\"X11\",\"CryptoNight-V7\",\"Ethash\",\"Equihash\",\"SHA-512\",\"Multiple\",\"SHA-256\",\"SHA-256\",\"Scrypt\",\"X15\",\"X11\",\"Scrypt\",\"Scrypt\",\"Scrypt\",\"Multiple\",\"Scrypt\",\"SHA-256\",\"Scrypt\",\"Scrypt\",\"Scrypt\",\"Quark\",\"Groestl\",\"Scrypt\",\"Scrypt\",\"Scrypt\",\"Scrypt\",\"Scrypt\",\"X11\",\"Scrypt\",\"Groestl\",\"Multiple\",\"SHA-256\",\"Scrypt\",\"Scrypt\",\"Scrypt\",\"Scrypt\",\"PoS\",\"Scrypt\",\"Scrypt\",\"NeoScrypt\",\"Scrypt\",\"Scrypt\",\"Scrypt\",\"Scrypt\",\"X11\",\"Scrypt\",\"X11\",\"SHA-256\",\"Scrypt\",\"Scrypt\",\"Scrypt\",\"SHA3\",\"Scrypt\",\"HybridScryptHash256\",\"Scrypt\",\"Scrypt\",\"SHA-256\",\"Scrypt\",\"X13\",\"Scrypt\",\"SHA-256\",\"Scrypt\",\"X13\",\"NeoScrypt\",\"Scrypt\",\"Scrypt\",\"Scrypt\",\"Scrypt\",\"Scrypt\",\"Scrypt\",\"X11\",\"X11\",\"SHA-256\",\"Multiple\",\"SHA-256\",\"PHI1612\",\"X11\",\"SHA-256\",\"SHA-256\",\"SHA-256\",\"X11\",\"Scrypt\",\"Scrypt\",\"Scrypt\",\"Scrypt\",\"Lyra2REv2\",\"Scrypt\",\"X11\",\"Multiple\",\"SHA-256\",\"X13\",\"Scrypt\",\"CryptoNight\",\"CryptoNight\",\"Shabal256\",\"Counterparty\",\"Scrypt\",\"SHA-256\",\"Groestl\",\"Scrypt\",\"Scrypt\",\"Scrypt\",\"X13\",\"Scrypt\",\"Scrypt\",\"Scrypt\",\"Scrypt\",\"X13\",\"Scrypt\",\"Stanford Folding\",\"X11\",\"Multiple\",\"QuBit\",\"Scrypt\",\"Scrypt\",\"Scrypt\",\"M7 POW\",\"Scrypt\",\"SHA-256\",\"Scrypt\",\"X11\",\"SHA3\",\"X11\",\"Lyra2RE\",\"SHA-256\",\"QUAIT\",\"X11\",\"X11\",\"Scrypt\",\"Scrypt\",\"Scrypt\",\"Ethash\",\"X13\",\"Blake2b\",\"SHA-256\",\"X15\",\"X11\",\"SHA-256\",\"BLAKE256\",\"Scrypt\",\"1GB AES Pattern Search\",\"SHA-256\",\"X11\",\"Scrypt\",\"SHA-256\",\"SHA-256\",\"NIST5\",\"Scrypt\",\"Scrypt\",\"X11\",\"Dagger\",\"Scrypt\",\"X11GOST\",\"X11\",\"Scrypt\",\"SHA-256\",\"Scrypt\",\"PoS\",\"Scrypt\",\"X11\",\"X11\",\"SHA-256\",\"SHA-256\",\"NIST5\",\"X11\",\"Scrypt\",\"POS 3.0\",\"Scrypt\",\"Scrypt\",\"Scrypt\",\"X13\",\"X11\",\"X11\",\"Equihash\",\"X11\",\"Scrypt\",\"CryptoNight\",\"SHA-256\",\"SHA-256\",\"X11\",\"Scrypt\",\"Multiple\",\"Scrypt\",\"Scrypt\",\"Scrypt\",\"SHA-256\",\"Scrypt\",\"Scrypt\",\"SHA-256D\",\"PoS\",\"Scrypt\",\"X11\",\"Lyra2Z\",\"PoS\",\"X13\",\"X14\",\"PoS\",\"SHA-256D\",\"Ethash\",\"Equihash\",\"DPoS\",\"X11\",\"Scrypt\",\"X11\",\"X13\",\"X11\",\"PoS\",\"Scrypt\",\"Scrypt\",\"X11\",\"PoS\",\"X11\",\"SHA-256\",\"Scrypt\",\"X11\",\"Scrypt\",\"Scrypt\",\"X11\",\"CryptoNight\",\"Scrypt\",\"Scrypt\",\"Scrypt\",\"Scrypt\",\"Quark\",\"QuBit\",\"Scrypt\",\"CryptoNight\",\"Lyra2RE\",\"Scrypt\",\"SHA-256\",\"X11\",\"Scrypt\",\"X11\",\"Scrypt\",\"CryptoNight-V7\",\"Scrypt\",\"Scrypt\",\"Scrypt\",\"X13\",\"X11\",\"Equihash\",\"Scrypt\",\"Scrypt\",\"Lyra2RE\",\"Scrypt\",\"Dagger-Hashimoto\",\"X11\",\"Blake2S\",\"X11\",\"Scrypt\",\"PoS\",\"X11\",\"NIST5\",\"PoS\",\"X11\",\"Scrypt\",\"Scrypt\",\"Scrypt\",\"SHA-256\",\"X11\",\"Scrypt\",\"Scrypt\",\"SHA-256\",\"PoS\",\"Scrypt\",\"X15\",\"SHA-256\",\"Scrypt\",\"POS 3.0\",\"CryptoNight-V7\",\"536\",\"Argon2d\",\"Blake2b\",\"Cloverhash\",\"CryptoNight\",\"NIST5\",\"X11\",\"NIST5\",\"Skein\",\"Scrypt\",\"X13\",\"Scrypt\",\"X11\",\"X11\",\"Scrypt\",\"CryptoNight\",\"X13\",\"Time Travel\",\"Scrypt\",\"Keccak\",\"SkunkHash v2 Raptor\",\"X11\",\"Skein\",\"SHA-256\",\"X11\",\"Scrypt\",\"VeChainThor Authority\",\"Scrypt\",\"PoS\",\"Scrypt\",\"Scrypt\",\"Scrypt\",\"Scrypt\",\"Scrypt\",\"Scrypt\",\"Scrypt\",\"CryptoNight\",\"SHA-512\",\"Ouroboros\",\"X11\",\"Equihash\",\"NeoScrypt\",\"X11\",\"Scrypt\",\"NeoScrypt\",\"Lyra2REv2\",\"Equihash\",\"Scrypt\",\"SHA-256\",\"NIST5\",\"PHI1612\",\"Dagger\",\"Scrypt\",\"Quark\",\"Scrypt\",\"POS 2.0\",\"Scrypt\",\"SHA-256\",\"X11\",\"NeoScrypt\",\"Ethash\",\"NeoScrypt\",\"X11\",\"DPoS\",\"NIST5\",\"X13\",\"Multiple\",\"Scrypt\",\"CryptoNight\",\"CryptoNight\",\"Ethash\",\"NIST5\",\"Quark\",\"X11\",\"CryptoNight-V7\",\"Scrypt\",\"Scrypt\",\"Scrypt\",\"X11\",\"BLAKE256\",\"X11\",\"NeoScrypt\",\"Quark\",\"NeoScrypt\",\"Scrypt\",\"Scrypt\",\"Scrypt\",\"X11\",\"X11\",\"SHA-256\",\"C11\",\"POS 3.0\",\"Ethash\",\"Scrypt\",\"CryptoNight\",\"SkunkHash\",\"Scrypt\",\"CryptoNight\",\"Scrypt\",\"Dagger\",\"Lyra2REv2\",\"X13\",\"Proof-of-BibleHash\",\"SHA-256 + Hive\",\"Scrypt\",\"Scrypt\",\"X11\",\"C11\",\"Proof-of-Authority\",\"X11\",\"XEVAN\",\"Scrypt\",\"VBFT\",\"Ethash\",\"CryptoNight\",\"Scrypt\",\"IMesh\",\"NIST5\",\"Scrypt\",\"Scrypt\",\"Equihash\",\"Scrypt\",\"Lyra2Z\",\"Green Protocol\",\"PoS\",\"Scrypt\",\"Semux BFT consensus\",\"X11\",\"Quark\",\"PoS\",\"CryptoNight\",\"X16R\",\"Scrypt\",\"NIST5\",\"Lyra2RE\",\"XEVAN\",\"Tribus\",\"Scrypt\",\"Lyra2Z\",\"CryptoNight\",\"CryptoNight Heavy\",\"CryptoNight\",\"Scrypt\",\"Scrypt\",\"Jump Consistent Hash\",\"SHA-256D\",\"CryptoNight\",\"Scrypt\",\"X15\",\"Scrypt\",\"Quark\",\"SHA-256\",\"DPoS\",\"X16R\",\"HMQ1725\",\"X11\",\"X16R\",\"Quark\",\"Quark\",\"Scrypt\",\"Lyra2REv2\",\"Quark\",\"Scrypt\",\"Scrypt\",\"CryptoNight-V7\",\"Cryptonight-GPU\",\"XEVAN\",\"CryptoNight Heavy\",\"X11\",\"X11\",\"Scrypt\",\"PoS\",\"SHA-256\",\"Keccak\",\"X11\",\"X11\",\"Scrypt\",\"SHA-512\",\"X16R\",\"ECC 256K1\",\"Equihash\",\"XEVAN\",\"Lyra2Z\",\"SHA-256\",\"XEVAN\",\"X11\",\"CryptoNight\",\"Quark\",\"Blake\",\"Blake\",\"Equihash\",\"Exosis\",\"Scrypt\",\"Scrypt\",\"Equihash\",\"Quark\",\"Equihash\",\"Quark\",\"Scrypt\",\"QuBit\",\"X11\",\"Scrypt\",\"XEVAN\",\"SHA-256D\",\"X11\",\"SHA-256\",\"X13\",\"SHA-256\",\"X11\",\"DPoS\",\"Scrypt\",\"Scrypt\",\"X11\",\"NeoScrypt\",\"Scrypt\",\"Blake\",\"Scrypt\",\"SHA-256\",\"Scrypt\",\"X11\",\"Scrypt\",\"Scrypt\",\"SHA-256\",\"X11\",\"SHA-256\",\"Scrypt\",\"Scrypt\",\"Scrypt\",\"Groestl\",\"X11\",\"Scrypt\",\"PoS\",\"Scrypt\",\"Scrypt\",\"X11\",\"SHA-256\",\"DPoS\",\"Scrypt\",\"Scrypt\",\"NeoScrypt\",\"Multiple\",\"X13\",\"Equihash+Scrypt\",\"DPoS\",\"Ethash\",\"DPoS\",\"SHA-256\",\"Leased POS\",\"PoS\",\"TRC10\",\"PoS\",\"SHA-256\",\"Scrypt\",\"CryptoNight\",\"Equihash\",\"Scrypt\"],\"Class\":[\"k_10\",\"k_10\",\"k_10\",\"k_10\",\"k_10\",\"k_10\",\"k_10\",\"k_10\",\"k_10\",\"k_10\",\"k_10\",\"k_10\",\"k_10\",\"k_10\",\"k_10\",\"k_10\",\"k_10\",\"k_10\",\"k_10\",\"k_10\",\"k_10\",\"k_10\",\"k_10\",\"k_10\",\"k_10\",\"k_10\",\"k_10\",\"k_10\",\"k_10\",\"k_10\",\"k_10\",\"k_10\",\"k_10\",\"k_10\",\"k_10\",\"k_10\",\"k_10\",\"k_10\",\"k_10\",\"k_10\",\"k_10\",\"k_10\",\"k_10\",\"k_10\",\"k_10\",\"k_10\",\"k_10\",\"k_10\",\"k_10\",\"k_10\",\"k_10\",\"k_10\",\"k_10\",\"k_10\",\"k_10\",\"k_10\",\"k_10\",\"k_10\",\"k_10\",\"k_10\",\"k_10\",\"k_10\",\"k_10\",\"k_10\",\"k_10\",\"k_10\",\"k_10\",\"k_10\",\"k_10\",\"k_10\",\"k_10\",\"k_10\",\"k_10\",\"k_10\",\"k_10\",\"k_10\",\"k_10\",\"k_10\",\"k_10\",\"k_10\",\"k_10\",\"k_10\",\"k_10\",\"k_10\",\"k_10\",\"k_10\",\"k_10\",\"k_10\",\"k_10\",\"k_10\",\"k_10\",\"k_10\",\"k_10\",\"k_10\",\"k_10\",\"k_10\",\"k_10\",\"k_10\",\"k_10\",\"k_10\",\"k_10\",\"k_10\",\"k_10\",\"k_10\",\"k_10\",\"k_10\",\"k_10\",\"k_10\",\"k_10\",\"k_10\",\"k_10\",\"k_10\",\"k_10\",\"k_10\",\"k_10\",\"k_10\",\"k_10\",\"k_10\",\"k_10\",\"k_10\",\"k_10\",\"k_10\",\"k_10\",\"k_10\",\"k_10\",\"k_10\",\"k_10\",\"k_10\",\"k_10\",\"k_10\",\"k_10\",\"k_10\",\"k_10\",\"k_10\",\"k_10\",\"k_10\",\"k_10\",\"k_10\",\"k_10\",\"k_10\",\"k_10\",\"k_10\",\"k_10\",\"k_10\",\"k_10\",\"k_10\",\"k_10\",\"k_10\",\"k_10\",\"k_10\",\"k_10\",\"k_10\",\"k_10\",\"k_10\",\"k_10\",\"k_10\",\"k_10\",\"k_10\",\"k_10\",\"k_10\",\"k_10\",\"k_10\",\"k_10\",\"k_10\",\"k_10\",\"k_10\",\"k_10\",\"k_10\",\"k_10\",\"k_10\",\"k_10\",\"k_10\",\"k_10\",\"k_10\",\"k_10\",\"k_10\",\"k_10\",\"k_10\",\"k_10\",\"k_10\",\"k_10\",\"k_10\",\"k_10\",\"k_10\",\"k_10\",\"k_10\",\"k_10\",\"k_10\",\"k_10\",\"k_10\",\"k_10\",\"k_10\",\"k_10\",\"k_10\",\"k_10\",\"k_10\",\"k_10\",\"k_10\",\"k_10\",\"k_10\",\"k_10\",\"k_10\",\"k_10\",\"k_10\",\"k_10\",\"k_10\",\"k_10\",\"k_10\",\"k_10\",\"k_10\",\"k_10\",\"k_10\",\"k_10\",\"k_10\",\"k_10\",\"k_10\",\"k_10\",\"k_10\",\"k_10\",\"k_10\",\"k_10\",\"k_10\",\"k_10\",\"k_10\",\"k_10\",\"k_10\",\"k_10\",\"k_10\",\"k_10\",\"k_10\",\"k_10\",\"k_10\",\"k_10\",\"k_10\",\"k_10\",\"k_10\",\"k_10\",\"k_10\",\"k_10\",\"k_10\",\"k_10\",\"k_10\",\"k_10\",\"k_10\",\"k_10\",\"k_10\",\"k_10\",\"k_10\",\"k_10\",\"k_10\",\"k_10\",\"k_10\",\"k_10\",\"k_10\",\"k_10\",\"k_10\",\"k_10\",\"k_10\",\"k_10\",\"k_10\",\"k_10\",\"k_10\",\"k_10\",\"k_10\",\"k_10\",\"k_10\",\"k_10\",\"k_10\",\"k_10\",\"k_10\",\"k_10\",\"k_10\",\"k_10\",\"k_10\",\"k_10\",\"k_10\",\"k_10\",\"k_10\",\"k_10\",\"k_10\",\"k_10\",\"k_10\",\"k_10\",\"k_10\",\"k_10\",\"k_10\",\"k_10\",\"k_10\",\"k_10\",\"k_10\",\"k_10\",\"k_10\",\"k_10\",\"k_10\",\"k_10\",\"k_10\",\"k_10\",\"k_10\",\"k_10\",\"k_10\",\"k_10\",\"k_10\",\"k_10\",\"k_10\",\"k_10\",\"k_10\",\"k_10\",\"k_10\",\"k_10\",\"k_10\",\"k_10\",\"k_10\",\"k_10\",\"k_10\",\"k_10\",\"k_10\",\"k_10\",\"k_10\",\"k_10\",\"k_10\",\"k_10\",\"k_10\",\"k_10\",\"k_10\",\"k_10\",\"k_10\",\"k_10\",\"k_10\",\"k_10\",\"k_10\",\"k_10\",\"k_10\",\"k_10\",\"k_10\",\"k_10\",\"k_10\",\"k_10\",\"k_10\",\"k_10\",\"k_10\",\"k_10\",\"k_10\",\"k_10\",\"k_10\",\"k_10\",\"k_10\",\"k_10\",\"k_10\",\"k_10\",\"k_10\",\"k_10\",\"k_10\",\"k_10\",\"k_10\",\"k_10\",\"k_10\",\"k_10\",\"k_10\",\"k_10\",\"k_10\",\"k_10\",\"k_10\",\"k_10\",\"k_10\",\"k_10\",\"k_10\",\"k_10\",\"k_10\",\"k_10\",\"k_10\",\"k_10\",\"k_10\",\"k_10\",\"k_10\",\"k_10\",\"k_10\",\"k_10\",\"k_10\",\"k_10\",\"k_10\",\"k_10\",\"k_10\",\"k_10\",\"k_10\",\"k_10\",\"k_10\",\"k_10\",\"k_10\",\"k_10\",\"k_10\",\"k_10\",\"k_10\",\"k_10\",\"k_10\",\"k_10\",\"k_10\",\"k_10\",\"k_10\",\"k_10\",\"k_10\",\"k_10\",\"k_10\",\"k_10\",\"k_10\",\"k_10\",\"k_10\",\"k_10\",\"k_10\",\"k_10\",\"k_10\",\"k_10\",\"k_10\",\"k_10\",\"k_10\",\"k_10\",\"k_10\",\"k_10\",\"k_10\",\"k_10\",\"k_10\",\"k_10\",\"k_10\",\"k_10\",\"k_10\",\"k_10\",\"k_10\",\"k_10\",\"k_10\",\"k_10\",\"k_10\",\"k_10\",\"k_10\",\"k_10\",\"k_10\",\"k_10\",\"k_10\",\"k_10\",\"k_10\",\"k_10\",\"k_10\",\"k_10\",\"k_10\",\"k_10\",\"k_10\",\"k_10\",\"k_10\",\"k_10\",\"k_10\",\"k_10\",\"k_10\",\"k_10\",\"k_10\",\"k_10\",\"k_10\",\"k_10\",\"k_10\",\"k_10\",\"k_10\",\"k_10\",\"k_10\",\"k_10\",\"k_10\",\"k_10\",\"k_10\",\"k_10\",\"k_10\",\"k_10\",\"k_10\",\"k_10\",\"k_10\",\"k_10\",\"k_10\",\"k_10\",\"k_10\",\"k_10\",\"k_10\",\"k_10\",\"k_10\",\"k_10\",\"k_10\",\"k_10\",\"k_10\",\"k_10\",\"k_10\",\"k_10\",\"k_10\",\"k_10\",\"k_10\",\"k_10\",\"k_10\",\"k_10\",\"k_10\",\"k_10\",\"k_10\",\"k_10\",\"k_10\",\"k_10\",\"k_10\",\"k_10\",\"k_10\",\"k_10\",\"k_10\",\"k_10\",\"k_10\",\"k_10\",\"k_10\",\"k_10\",\"k_10\",\"k_10\",\"k_10\",\"k_10\",\"k_10\",\"k_10\",\"k_10\",\"k_10\",\"k_10\",\"k_10\",\"k_10\",\"k_10\",\"k_10\",\"k_10\",\"k_10\",\"k_10\",\"k_10\",\"k_10\",\"k_10\",\"k_10\",\"k_10\",\"k_10\",\"k_10\",\"k_10\",\"k_10\"],\"CoinName\":[\"CoinName\",\"CoinName\",\"CoinName\",\"CoinName\",\"CoinName\",\"CoinName\",\"CoinName\",\"CoinName\",\"CoinName\",\"CoinName\",\"CoinName\",\"CoinName\",\"CoinName\",\"CoinName\",\"CoinName\",\"CoinName\",\"CoinName\",\"CoinName\",\"CoinName\",\"CoinName\",\"CoinName\",\"CoinName\",\"CoinName\",\"CoinName\",\"CoinName\",\"CoinName\",\"CoinName\",\"CoinName\",\"CoinName\",\"CoinName\",\"CoinName\",\"CoinName\",\"CoinName\",\"CoinName\",\"CoinName\",\"CoinName\",\"CoinName\",\"CoinName\",\"CoinName\",\"CoinName\",\"CoinName\",\"CoinName\",\"CoinName\",\"CoinName\",\"CoinName\",\"CoinName\",\"CoinName\",\"CoinName\",\"CoinName\",\"CoinName\",\"CoinName\",\"CoinName\",\"CoinName\",\"CoinName\",\"CoinName\",\"CoinName\",\"CoinName\",\"CoinName\",\"CoinName\",\"CoinName\",\"CoinName\",\"CoinName\",\"CoinName\",\"CoinName\",\"CoinName\",\"CoinName\",\"CoinName\",\"CoinName\",\"CoinName\",\"CoinName\",\"CoinName\",\"CoinName\",\"CoinName\",\"CoinName\",\"CoinName\",\"CoinName\",\"CoinName\",\"CoinName\",\"CoinName\",\"CoinName\",\"CoinName\",\"CoinName\",\"CoinName\",\"CoinName\",\"CoinName\",\"CoinName\",\"CoinName\",\"CoinName\",\"CoinName\",\"CoinName\",\"CoinName\",\"CoinName\",\"CoinName\",\"CoinName\",\"CoinName\",\"CoinName\",\"CoinName\",\"CoinName\",\"CoinName\",\"CoinName\",\"CoinName\",\"CoinName\",\"CoinName\",\"CoinName\",\"CoinName\",\"CoinName\",\"CoinName\",\"CoinName\",\"CoinName\",\"CoinName\",\"CoinName\",\"CoinName\",\"CoinName\",\"CoinName\",\"CoinName\",\"CoinName\",\"CoinName\",\"CoinName\",\"CoinName\",\"CoinName\",\"CoinName\",\"CoinName\",\"CoinName\",\"CoinName\",\"CoinName\",\"CoinName\",\"CoinName\",\"CoinName\",\"CoinName\",\"CoinName\",\"CoinName\",\"CoinName\",\"CoinName\",\"CoinName\",\"CoinName\",\"CoinName\",\"CoinName\",\"CoinName\",\"CoinName\",\"CoinName\",\"CoinName\",\"CoinName\",\"CoinName\",\"CoinName\",\"CoinName\",\"CoinName\",\"CoinName\",\"CoinName\",\"CoinName\",\"CoinName\",\"CoinName\",\"CoinName\",\"CoinName\",\"CoinName\",\"CoinName\",\"CoinName\",\"CoinName\",\"CoinName\",\"CoinName\",\"CoinName\",\"CoinName\",\"CoinName\",\"CoinName\",\"CoinName\",\"CoinName\",\"CoinName\",\"CoinName\",\"CoinName\",\"CoinName\",\"CoinName\",\"CoinName\",\"CoinName\",\"CoinName\",\"CoinName\",\"CoinName\",\"CoinName\",\"CoinName\",\"CoinName\",\"CoinName\",\"CoinName\",\"CoinName\",\"CoinName\",\"CoinName\",\"CoinName\",\"CoinName\",\"CoinName\",\"CoinName\",\"CoinName\",\"CoinName\",\"CoinName\",\"CoinName\",\"CoinName\",\"CoinName\",\"CoinName\",\"CoinName\",\"CoinName\",\"CoinName\",\"CoinName\",\"CoinName\",\"CoinName\",\"CoinName\",\"CoinName\",\"CoinName\",\"CoinName\",\"CoinName\",\"CoinName\",\"CoinName\",\"CoinName\",\"CoinName\",\"CoinName\",\"CoinName\",\"CoinName\",\"CoinName\",\"CoinName\",\"CoinName\",\"CoinName\",\"CoinName\",\"CoinName\",\"CoinName\",\"CoinName\",\"CoinName\",\"CoinName\",\"CoinName\",\"CoinName\",\"CoinName\",\"CoinName\",\"CoinName\",\"CoinName\",\"CoinName\",\"CoinName\",\"CoinName\",\"CoinName\",\"CoinName\",\"CoinName\",\"CoinName\",\"CoinName\",\"CoinName\",\"CoinName\",\"CoinName\",\"CoinName\",\"CoinName\",\"CoinName\",\"CoinName\",\"CoinName\",\"CoinName\",\"CoinName\",\"CoinName\",\"CoinName\",\"CoinName\",\"CoinName\",\"CoinName\",\"CoinName\",\"CoinName\",\"CoinName\",\"CoinName\",\"CoinName\",\"CoinName\",\"CoinName\",\"CoinName\",\"CoinName\",\"CoinName\",\"CoinName\",\"CoinName\",\"CoinName\",\"CoinName\",\"CoinName\",\"CoinName\",\"CoinName\",\"CoinName\",\"CoinName\",\"CoinName\",\"CoinName\",\"CoinName\",\"CoinName\",\"CoinName\",\"CoinName\",\"CoinName\",\"CoinName\",\"CoinName\",\"CoinName\",\"CoinName\",\"CoinName\",\"CoinName\",\"CoinName\",\"CoinName\",\"CoinName\",\"CoinName\",\"CoinName\",\"CoinName\",\"CoinName\",\"CoinName\",\"CoinName\",\"CoinName\",\"CoinName\",\"CoinName\",\"CoinName\",\"CoinName\",\"CoinName\",\"CoinName\",\"CoinName\",\"CoinName\",\"CoinName\",\"CoinName\",\"CoinName\",\"CoinName\",\"CoinName\",\"CoinName\",\"CoinName\",\"CoinName\",\"CoinName\",\"CoinName\",\"CoinName\",\"CoinName\",\"CoinName\",\"CoinName\",\"CoinName\",\"CoinName\",\"CoinName\",\"CoinName\",\"CoinName\",\"CoinName\",\"CoinName\",\"CoinName\",\"CoinName\",\"CoinName\",\"CoinName\",\"CoinName\",\"CoinName\",\"CoinName\",\"CoinName\",\"CoinName\",\"CoinName\",\"CoinName\",\"CoinName\",\"CoinName\",\"CoinName\",\"CoinName\",\"CoinName\",\"CoinName\",\"CoinName\",\"CoinName\",\"CoinName\",\"CoinName\",\"CoinName\",\"CoinName\",\"CoinName\",\"CoinName\",\"CoinName\",\"CoinName\",\"CoinName\",\"CoinName\",\"CoinName\",\"CoinName\",\"CoinName\",\"CoinName\",\"CoinName\",\"CoinName\",\"CoinName\",\"CoinName\",\"CoinName\",\"CoinName\",\"CoinName\",\"CoinName\",\"CoinName\",\"CoinName\",\"CoinName\",\"CoinName\",\"CoinName\",\"CoinName\",\"CoinName\",\"CoinName\",\"CoinName\",\"CoinName\",\"CoinName\",\"CoinName\",\"CoinName\",\"CoinName\",\"CoinName\",\"CoinName\",\"CoinName\",\"CoinName\",\"CoinName\",\"CoinName\",\"CoinName\",\"CoinName\",\"CoinName\",\"CoinName\",\"CoinName\",\"CoinName\",\"CoinName\",\"CoinName\",\"CoinName\",\"CoinName\",\"CoinName\",\"CoinName\",\"CoinName\",\"CoinName\",\"CoinName\",\"CoinName\",\"CoinName\",\"CoinName\",\"CoinName\",\"CoinName\",\"CoinName\",\"CoinName\",\"CoinName\",\"CoinName\",\"CoinName\",\"CoinName\",\"CoinName\",\"CoinName\",\"CoinName\",\"CoinName\",\"CoinName\",\"CoinName\",\"CoinName\",\"CoinName\",\"CoinName\",\"CoinName\",\"CoinName\",\"CoinName\",\"CoinName\",\"CoinName\",\"CoinName\",\"CoinName\",\"CoinName\",\"CoinName\",\"CoinName\",\"CoinName\",\"CoinName\",\"CoinName\",\"CoinName\",\"CoinName\",\"CoinName\",\"CoinName\",\"CoinName\",\"CoinName\",\"CoinName\",\"CoinName\",\"CoinName\",\"CoinName\",\"CoinName\",\"CoinName\",\"CoinName\",\"CoinName\",\"CoinName\",\"CoinName\",\"CoinName\",\"CoinName\",\"CoinName\",\"CoinName\",\"CoinName\",\"CoinName\",\"CoinName\",\"CoinName\",\"CoinName\",\"CoinName\",\"CoinName\",\"CoinName\",\"CoinName\",\"CoinName\",\"CoinName\",\"CoinName\",\"CoinName\",\"CoinName\",\"CoinName\",\"CoinName\",\"CoinName\",\"CoinName\",\"CoinName\",\"CoinName\",\"CoinName\",\"CoinName\",\"CoinName\",\"CoinName\",\"CoinName\",\"CoinName\",\"CoinName\",\"CoinName\",\"CoinName\",\"CoinName\",\"CoinName\",\"CoinName\",\"CoinName\",\"CoinName\",\"CoinName\",\"CoinName\",\"CoinName\",\"CoinName\",\"CoinName\",\"CoinName\",\"CoinName\",\"CoinName\",\"CoinName\",\"CoinName\",\"CoinName\",\"CoinName\",\"CoinName\",\"CoinName\",\"CoinName\",\"CoinName\",\"CoinName\",\"CoinName\",\"CoinName\",\"CoinName\",\"CoinName\",\"CoinName\",\"CoinName\",\"CoinName\",\"CoinName\",\"CoinName\",\"CoinName\",\"CoinName\",\"CoinName\",\"CoinName\",\"CoinName\",\"CoinName\",\"CoinName\",\"CoinName\",\"CoinName\",\"CoinName\",\"CoinName\",\"CoinName\",\"CoinName\",\"CoinName\",\"CoinName\",\"CoinName\",\"CoinName\",\"CoinName\",\"CoinName\",\"CoinName\",\"CoinName\"],\"ProofType\":[\"PoW/PoS\",\"PoW/PoS\",\"PoW/PoS\",\"PoW\",\"PoW\",\"PoW\",\"PoW/PoS\",\"PoW\",\"PoW\",\"PoW\",\"PoS\",\"PoW\",\"PoW/PoS\",\"PoS\",\"PoW\",\"PoW/PoS\",\"PoW\",\"PoW\",\"PoW/PoS\",\"PoW/PoS\",\"PoW\",\"PoW\",\"PoW\",\"PoW\",\"PoW\",\"PoW/PoS\",\"PoW\",\"PoW\",\"PoW\",\"PoW/PoS\",\"PoW\",\"PoW/PoS\",\"PoW\",\"PoW\",\"PoC\",\"PoW/PoS\",\"PoW\",\"PoW\",\"PoW\",\"PoW\",\"PoW\",\"PoW\",\"PoS\",\"PoS/PoW/PoT\",\"PoW\",\"PoW\",\"PoW\",\"PoW\",\"PoW\",\"PoW/PoS\",\"PoS\",\"PoW\",\"PoW/PoS\",\"PoW\",\"PoW\",\"PoW\",\"PoW\",\"PoW/PoS\",\"PoW\",\"PoW\",\"PoS\",\"PoW\",\"PoW/PoS\",\"PoS\",\"PoW/PoS\",\"PoW\",\"PoW\",\"PoW\",\"PoW/PoS\",\"PoW/PoS\",\"PoW/PoS\",\"PoW/PoS\",\"PoW/PoS\",\"PoW\",\"PoW\",\"PoW\",\"PoS\",\"PoW/PoS\",\"PoW\",\"PoS\",\"PoW\",\"PoS\",\"PoW/PoS\",\"PoW\",\"PoW\",\"PoW\",\"PoW\",\"PoW/PoS\",\"PoW/PoS\",\"PoW\",\"PoST\",\"PoW\",\"PoW\",\"PoW/PoS\",\"PoS\",\"PoW\",\"PoW/PoS\",\"PoW/PoS\",\"PoW\",\"PoW\",\"PoC\",\"PoS\",\"PoW\",\"PoW/PoS\",\"PoW/PoS\",\"PoW\",\"PoS\",\"PoW\",\"PoW/PoS\",\"PoW\",\"PoS\",\"PoW\",\"PoW/PoS\",\"PoW/PoS\",\"PoW\",\"PoW\",\"PoS\",\"PoW\",\"PoW\",\"PoW\",\"PoW/PoS\",\"PoW\",\"PoW\",\"PoW\",\"PoW\",\"PoW\",\"PoW/PoS\",\"PoW/nPoS\",\"PoW\",\"PoW\",\"PoW\",\"PoW/PoS\",\"PoW\",\"PoS/PoW\",\"PoW\",\"PoW\",\"PoS\",\"PoW\",\"PoW/PoS\",\"PoW\",\"PoW/PoS\",\"PoW/PoS\",\"PoW\",\"PoW\",\"PoW/PoS\",\"PoW\",\"PoW\",\"PoW/PoS\",\"PoW/PoS\",\"PoW\",\"PoW/PoS\",\"PoW\",\"PoW/PoS\",\"PoW/PoS\",\"PoS\",\"PoW\",\"PoW\",\"PoW\",\"PoW\",\"PoW/PoS\",\"PoS\",\"PoW/PoS\",\"PoC\",\"PoS\",\"PoW\",\"PoW\",\"PoW/PoS\",\"PoW/PoS\",\"PoW/PoS\",\"PoW/PoS\",\"PoW/PoS\",\"PoW\",\"PoS\",\"PoW/PoS\",\"PoW/PoS\",\"PoW/PoS\",\"PoS\",\"PoW\",\"PoS\",\"dPoW/PoW\",\"PoW/PoS\",\"PoW/PoS\",\"PoW\",\"PoW/PoS\",\"PoW\",\"PoW/PoS\",\"PoW/PoS\",\"PoW\",\"PoW/PoS\",\"PoW\",\"PoS\",\"PoW\",\"PoW/PoW\",\"PoW\",\"PoW/PoS\",\"PoS\",\"PoW/PoS\",\"PoW/PoS\",\"PoW\",\"PoS\",\"PoS\",\"PoW/PoS\",\"PoS\",\"PoW/PoS\",\"PoW\",\"PoW\",\"DPoS\",\"PoW/PoS\",\"PoW\",\"PoW\",\"PoW/PoS\",\"PoW/PoS\",\"PoS\",\"PoW/PoS\",\"PoW/PoS\",\"PoW\",\"PoS\",\"PoW/PoS\",\"PoW/PoS\",\"PoW/PoS\",\"TPoS\",\"PoW/PoS\",\"PoW/PoS\",\"PoW/PoS\",\"PoW\",\"PoW/PoS\",\"PoS\",\"PoW/PoS\",\"PoW/PoS\",\"PoS\",\"PoW/PoS\",\"PoW\",\"PoW\",\"PoW\",\"PoW/PoS\",\"PoW/PoS\",\"PoW/PoS\",\"PoW/PoS\",\"PoW\",\"PoW/PoS\",\"PoW\",\"PoS\",\"PoW/PoS \",\"PoW\",\"PoS\",\"PoW\",\"PoW\",\"PoW/PoS\",\"PoW\",\"PoW\",\"PoS\",\"PoW\",\"PoW/PoS\",\"PoW/PoS\",\"PoW/PoS\",\"PoW\",\"PoS\",\"PoW/PoS\",\"PoW\",\"PoS\",\"PoW/PoS\",\"PoW/PoS\",\"PoW/PoS\",\"PoW/PoS\",\"PoS\",\"PoW/PoS\",\"PoW\",\"PoS\",\"PoW\",\"PoS\",\"PoW/PoS\",\"PoW/PoS\",\"PoS\",\"PoW\",\"PoS\",\"PoW\",\"PoW/PoS\",\"PoW\",\"PoW\",\"PoW\",\"PoW\",\"PoW/PoS\",\"PoW\",\"PoW/PoS\",\"PoW/PoS\",\"PoW\",\"PoW/PoS\",\"PoW\",\"PoW\",\"PoW\",\"PoW/PoS\",\"PoW\",\"PoW/PoS\",\"PoW\",\"PoW\",\"PoW\",\"PoS\",\"PoW\",\"PoW/PoS\",\"PoW\",\"PoW/PoS\",\"PoS\",\"Proof of Authority\",\"PoW\",\"PoS\",\"PoW\",\"PoW\",\"PoW\",\"PoW\",\"PoW\",\"PoW/PoS\",\"PoW/PoS\",\"PoW\",\"PoS\",\"PoS\",\"PoW/PoS\",\"PoW\",\"PoW/PoS\",\"PoW\",\"PoW/PoS\",\"PoW\",\"PoS\",\"PoW\",\"PoW/PoS\",\"PoW/PoS\",\"PoW/PoS\",\"PoW/PoS\",\"PoW\",\"PoW/PoS\",\"PoW/PoS\",\"PoW\",\"PoS\",\"PoW/PoS\",\"PoS\",\"PoW\",\"PoW\",\"PoW\",\"PoW\",\"PoW/PoS\",\"DPoS\",\"PoW/PoS\",\"PoW/PoS\",\"PoW\",\"PoW/PoS\",\"PoW\",\"PoW\",\"PoW\",\"PoS\",\"PoS\",\"PoW\",\"PoW\",\"PoW/PoS\",\"PoW/PoS\",\"PoW\",\"PoW/PoS\",\"PoW\",\"PoW\",\"PoW\",\"PoS\",\"PoW\",\"PoW\",\"PoW/PoS\",\"PoW/PoS\",\"PoS\",\"PoW\",\"PoW\",\"PoW\",\"PoS\",\"PoS\",\"PoW and PoS\",\"PoW\",\"PoW\",\"PoW/PoS\",\"PoW\",\"PoW\",\"PoW\",\"PoW\",\"PoS\",\"POBh\",\"PoW + Hive\",\"PoW\",\"PoW\",\"PoW\",\"PoW/PoS\",\"PoA\",\"PoW/PoS\",\"PoW/PoS\",\"PoS\",\"PoS\",\"PoW\",\"PoW\",\"PoW\",\"PoW\",\"PoW/PoS\",\"PoW/PoS\",\"PoW/PoS\",\"PoW\",\"PoS\",\"PoW\",\"PoS\",\"PoS\",\"PoW/PoS\",\"DPoS\",\"PoW\",\"PoW/PoS\",\"PoS\",\"PoW\",\"PoS\",\"PoW/PoS\",\"PoW\",\"PoW\",\"PoS/PoW\",\"PoW\",\"PoS\",\"PoW\",\"PoW\",\"PoW\",\"PoW\",\"PoW/PoS\",\"PoS\",\"PoW\",\"PoW/PoS\",\"PoW\",\"PoW/PoS\",\"PoS\",\"HPoW\",\"PoS\",\"PoS\",\"PoS\",\"PoW\",\"PoW\",\"PoW\",\"PoW/PoS\",\"PoS\",\"PoW/PoS\",\"PoS\",\"PoW/PoS\",\"PoS\",\"PoW\",\"PoW/PoS\",\"PoW\",\"PoW\",\"PoW\",\"PoW\",\"PoS\",\"PoW/PoS\",\"PoS\",\"PoS\",\"PoW\",\"PoW/PoS\",\"PoS\",\"PoW\",\"PoW/PoS\",\"Zero-Knowledge Proof\",\"PoW\",\"DPOS\",\"PoW\",\"PoS\",\"PoW\",\"PoW\",\"Pos\",\"PoS\",\"PoW\",\"PoW/PoS\",\"PoW\",\"PoW\",\"PoS\",\"PoW\",\"PoW\",\"PoW/PoS\",\"PoW\",\"PoW/PoS\",\"PoW\",\"PoS\",\"PoW/PoS\",\"PoW\",\"PoS\",\"PoW/PoS\",\"PoW/PoS\",\"PoW/PoS\",\"PoW/PoS\",\"PoW\",\"PoW\",\"PoW\",\"PoW/PoS\",\"DPoS\",\"PoW/PoS\",\"PoW\",\"PoW/PoS\",\"PoW\",\"PoW/PoS\",\"PoW\",\"PoW/PoS\",\"PoS\",\"PoW/PoS\",\"PoW/PoS\",\"PoW\",\"PoW/PoS\",\"PoW/PoS\",\"PoW/PoS\",\"PoW\",\"PoW/PoS\",\"PoW\",\"PoW/PoS\",\"PoW\",\"PoW/PoS\",\"PoW/PoS\",\"PoS\",\"PoW\",\"PoW\",\"Proof of Trust\",\"PoW/PoS\",\"DPoS\",\"PoS\",\"PoW/PoS\",\"PoW/PoS\",\"PoW\",\"PoW/PoS\",\"PoW\",\"DPoS\",\"PoW\",\"DPoS\",\"PoS\",\"LPoS\",\"PoS\",\"DPoS\",\"PoS/LPoS\",\"DPoS\",\"PoW/PoS\",\"PoW\",\"PoW\",\"PoS\"],\"TotalCoinSupply\":[\"42\",\"532000000\",\"314159265359\",\"21000000\",\"0\",\"84000000\",\"22000000\",\"0\",\"210000000\",\"21000000\",\"3600570502\",\"21000000000\",\"22000000\",\"12500000\",\"21000000\",\"350000000\",\"20000000\",\"64000000\",\"16768584\",\"0\",\"2000000000\",\"384000000000\",\"169795588\",\"250000000\",\"100000000\",\"0\",\"247000000\",\"84000000\",\"48166000\",\"500000\",\"21000000 \",\"1000000\",\"13140000\",\"18000000\",\"40000000000\",\"4380000\",\"16555000000\",\"21000000000\",\"13500000000\",\"21000000 \",\"299792458\",\"32000000\",\"0\",\"0\",\"11235813\",\"336000000\",\"1420609614\",\"70000000\",\"72245700\",\"120000000\",\"0\",\"90600000000\",\"22000000\",\"21000000\",\"265420800\",\"20000000\",\"1350000\",\"100000000\",\"42000000\",\"200000000\",\"0\",\"10000000\",\"2419200000\",\"16180000\",\"0\",\"15000000000\",\"21000000\",\"337000000\",\"0\",\"3770000\",\"420000000\",\"98000000\",\"0\",\"21000000\",\"250000000\",\"51200000\",\"0\",\"1000\",\"888000000\",\"100000000\",\"47011968\",\"2300000000\",\"10000000\",\"42000000\",\"80000000\",\"250000\",\"0\",\"1600000000\",\"100000000\",\"23000000\",\"0\",\"84000000\",\"265420800\",\"5500000\",\"0\",\"45000000\",\"0\",\"1000000000\",\"184467440735\",\"10000000000\",\"2158812800\",\"500000000\",\"105120000\",\"68000000\",\"0\",\"1680000000\",\"0\",\"166386000\",\"12000000\",\"2628000\",\"500000000\",\"160000000\",\"0\",\"10000000\",\"1000000000\",\"1000000000\",\"20000000\",\"0\",\"0\",\"3371337\",\"20000000\",\"10000000000\",\"1840000000\",\"619478\",\"21000000\",\"92000000000\",\"0\",\"78000000\",\"33000000\",\"65789100\",\"53760000\",\"5060000\",\"21000000\",\"0\",\"210240000\",\"250000000\",\"100000000\",\"16906397\",\"50000000\",\"0\",\"1000000000\",\"26298000\",\"16000000\",\"21000000\",\"21000000\",\"210000000\",\"81962100\",\"22000000\",\"26550000000\",\"84000000\",\"10500000\",\"21626280000 \",\"0\",\"42000000\",\"221052632\",\"84000000\",\"30000000\",\"168351300\",\"24000000\",\"384000000\",\" 99000000000\",\"40000000\",\"2147483647\",\"20000000\",\"20000000\",\"25000000\",\"75000000\",\"222725000\",\"525000000\",\"90000000\",\"139000000\",\"616448\",\"33500000\",\"2000000000\",\"44333333\",\"100000000\",\"200000000\",\"25000000\",\"657000000\",\"200000000\",\"50000000\",\"90000000\",\"10000000\",\"21000000\",\"9736000\",\"3000000\",\"21000000\",\"1200000000\",\"0\",\"200000000\",\"0\",\"10638298\",\"3100000000\",\"30000000\",\"20000000000\",\"74000000\",\"0\",\"1500000000\",\"21400000\",\"39999898\",\"2500124\",\"100000000\",\"301000000\",\"7506000000\",\"26205539\",\"21000000\",\"125000000\",\"30000000\",\"10000000000\",\"500000000\",\"850000000\",\"3853326.77707314\",\"50000000\",\"38540000 \",\"42000000\",\"228000000\",\"20000000\",\"60000000\",\"20000000\",\"33000000\",\"76500000\",\"28000000\",\"650659833\",\"5000000\",\"21000000\",\"144000000\",\"32514916898\",\"13000000\",\"3315789\",\"15000000\",\"78835200\",\"2714286\",\"25000000\",\"9999999\",\"500000000\",\"21000000\",\"9354000\",\"20000000\",\"100000000000\",\"21933333\",\"185000000\",\"55000000\",\"110000000\",\"3360000\",\"14524851.4827\",\"1000000000\",\"17000000\",\"1000000000\",\"100000000 \",\"21000000\",\"34426423\",\"2232901\",\"100000000\",\"36900000\",\"110000000\",\"4000000000\",\"110290030\",\"100000000\",\"48252000\",\"400000000\",\"500000000\",\"21212121\",\"28600000\",\"1000000000\",\"75000000000\",\"40000000\",\"35520400\",\"2000000000\",\"2500000000\",\"30000000\",\"105000000\",\"90000000000\",\"200084200\",\"72000000\",\"100000000\",\"105000000\",\"50000000000\",\"0\",\"340282367\",\"30000000\",\"2000000000\",\"10000000\",\"100000000\",\"120000000\",\"100000000\",\"19276800\",\"30000000\",\" 75000000\",\"60000000\",\"18900000\",\"50000000000\",\"54000000\",\"18898187.6216583\",\"21000000\",\"200000000000\",\"5000000000\",\"137500000\",\"1100000000\",\"100000000\",\"21000000\",\"9507271\",\"17405891.19707116\",\"86712634466\",\"10500000000\",\"61599965\",\"0\",\"20000000\",\"84000000\",\"100000000\",\"100000000\",\"48252000\",\"4200000\",\"88888888\",\"91388946\",\"45000000000\",\"27000000\",\"21000000000\",\"400000000\",\"1800000000\",\"15733333\",\"27000000\",\"24000000\",\"21000000\",\"25000000000\",\"100000000\",\"1200000000\",\"60000000\",\"156306732.71\",\"21000000\",\"200000000\",\"100000000\",\"21000000\",\"14788275.991\",\"9000000000\",\"350000000\",\"45000000\",\"280000000\",\"31800000\",\"144000000\",\"500000000\",\"30000000000\",\"210000000\",\"660000000\",\"210000000\",\"85000000000\",\"12500000\",\"10000000000\",\"27716121\",\"20000000\",\"550000000\",\"999481516\",\"50000000000\",\"150000000\",\"4999999999\",\"50000000\",\" 90000000000\",\"19800000\",\"21000000\",\"120000000\",\"500000000\",\"64000000\",\"900000000\",\"4000000\",\"21000000\",\"23000000\",\"20166000\",\"23000000\",\"25000000\",\"1618033\",\"30000000\",\"1000000000000\",\"16600000\",\"232000000\",\"336000000\",\"10000000000\",\"100000000\",\"1100000000\",\"800000000\",\"5200000000\",\"840000000\",\"40000000\",\"18406979840\",\"500000000\",\"19340594\",\"252460800\",\"25000000\",\"60000000\",\"124000000\",\"1000000000\",\"6500000000\",\"1000000000\",\"21000000\",\"25000000\",\"50000000\",\"3000000\",\"5000000\",\"70000000\",\"500000000\",\"300000000\",\"21000000\",\"88000000\",\"30000000\",\"100000000\",\"100000000\",\"200000000\",\"80000000\",\"18400000\",\"45000000\",\"5121951220\",\"21000000\",\"26280000\",\"21000000\",\"18000000\",\"26000000\",\"10500000\",\"600000518\",\"150000000\",\"184000000000\",\"10200000000\",\"44000000\",\"168000000\",\"100000000\",\"1000000000\",\"84000000\",\"90000000\",\"92000000000\",\"650000000 \",\"100262205\",\"18081806 \",\"22075700\",\"21000000\",\"21000000\",\"82546564\",\"21000000\",\"5151000\",\"16880000000\",\"52500000\",\"100000000\",\"22105263\",\"1000000000\",\"1750000000\",\"88188888\",\"210000000\",\"184470000000\",\"55000000\",\"50000000\",\"260000000\",\"210000000\",\"2100000000\",\"366000000\",\"100000000\",\"25000000\",\"18000000000\",\"1000000000\",\"100000000\",\"1000000000\",\"7600000000\",\"50000000\",\"84000000\",\"21000000\",\"70000000000\",\"0\",\"8080000000\",\"54000000\",\"105120001.44\",\"25228800\",\"105000000\",\"21000000\",\"120000000\",\"21000000\",\"262800000\",\"19035999\",\"30886000\",\"13370000\",\"74800000000\",\"100000000\",\"19700000\",\"84000000\",\"500000000\",\"5000000000\",\"420000000\",\"64000000\",\"2100000\",\"168000000\",\"30000000\",\"1000000000\",\"35000000000\",\"98100000000\",\"0\",\"4000000000\",\"200000000\",\"7000000000\",\"54256119\",\"21000000\",\"0\",\"500000000\",\"1000000000\",\"10500000000\",\"190000000\",\"1000000000\",\"42000000\",\"15000000\",\"50000000000\",\"400000000\",\"105000000\",\"208000000\",\"160000000\",\"9000000\",\"5000000\",\"182000000\",\"16504333\",\"105000000\",\"159918400\",\"10008835635\",\"300000000\",\"60168145\",\"2800000\",\"120000\",\"2100000000\",\"0\",\"24487944\",\"0\",\"1000000000\",\"100000000\",\"8634140\",\"990000000000\",\"1000000000\",\"2000000000\",\"250000000\",\"1400222610\",\"21000000\",\"1000000\"],\"TotalCoinsMined\":{\"__ndarray__\":\"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\",\"dtype\":\"float64\",\"order\":\"little\",\"shape\":[532]}},\"selected\":{\"id\":\"1206\"},\"selection_policy\":{\"id\":\"1240\"}},\"id\":\"1205\",\"type\":\"ColumnDataSource\"},{\"attributes\":{},\"id\":\"1212\",\"type\":\"StringFormatter\"},{\"attributes\":{},\"id\":\"1207\",\"type\":\"StringFormatter\"},{\"attributes\":{},\"id\":\"1223\",\"type\":\"StringEditor\"},{\"attributes\":{},\"id\":\"1233\",\"type\":\"StringEditor\"},{\"attributes\":{\"editor\":{\"id\":\"1218\"},\"field\":\"ProofType\",\"formatter\":{\"id\":\"1217\"},\"title\":\"ProofType\"},\"id\":\"1219\",\"type\":\"TableColumn\"},{\"attributes\":{\"editor\":{\"id\":\"1233\"},\"field\":\"Class\",\"formatter\":{\"id\":\"1232\"},\"title\":\"Class\"},\"id\":\"1234\",\"type\":\"TableColumn\"},{\"attributes\":{},\"id\":\"1222\",\"type\":\"StringFormatter\"},{\"attributes\":{\"editor\":{\"id\":\"1228\"},\"field\":\"TotalCoinsMined\",\"formatter\":{\"id\":\"1227\"},\"title\":\"TotalCoinsMined\"},\"id\":\"1229\",\"type\":\"TableColumn\"},{\"attributes\":{},\"id\":\"1213\",\"type\":\"StringEditor\"},{\"attributes\":{},\"id\":\"1240\",\"type\":\"UnionRenderers\"},{\"attributes\":{\"source\":{\"id\":\"1205\"}},\"id\":\"1239\",\"type\":\"CDSView\"},{\"attributes\":{\"margin\":[5,5,5,5],\"name\":\"HSpacer01168\",\"sizing_mode\":\"stretch_width\"},\"id\":\"1242\",\"type\":\"Spacer\"},{\"attributes\":{\"margin\":[5,5,5,5],\"name\":\"HSpacer01167\",\"sizing_mode\":\"stretch_width\"},\"id\":\"1204\",\"type\":\"Spacer\"}],\"root_ids\":[\"1203\"]},\"title\":\"Bokeh Application\",\"version\":\"2.4.3\"}};\n",
       "    var render_items = [{\"docid\":\"2da1c73b-50ba-4663-983c-393be3ff2f02\",\"root_ids\":[\"1203\"],\"roots\":{\"1203\":\"d2e93009-b00b-46ae-8b10-0abcb65a4752\"}}];\n",
       "    root.Bokeh.embed.embed_items_notebook(docs_json, render_items);\n",
       "  }\n",
       "  if (root.Bokeh !== undefined && root.Bokeh.Panel !== undefined) {\n",
       "    embed_document(root);\n",
       "  } else {\n",
       "    var attempts = 0;\n",
       "    var timer = setInterval(function(root) {\n",
       "      if (root.Bokeh !== undefined && root.Bokeh.Panel !== undefined) {\n",
       "        clearInterval(timer);\n",
       "        embed_document(root);\n",
       "      } else if (document.readyState == \"complete\") {\n",
       "        attempts++;\n",
       "        if (attempts > 200) {\n",
       "          clearInterval(timer);\n",
       "          console.log(\"Bokeh: ERROR: Unable to run BokehJS code because BokehJS library is missing\");\n",
       "        }\n",
       "      }\n",
       "    }, 25, root)\n",
       "  }\n",
       "})(window);</script>"
      ],
      "text/plain": [
       ":Table   [CoinName,Algorithm,ProofType,TotalCoinSupply,TotalCoinsMined,Class]"
      ]
     },
     "execution_count": 77,
     "metadata": {
      "application/vnd.holoviews_exec.v0+json": {
       "id": "1203"
      }
     },
     "output_type": "execute_result"
    }
   ],
   "source": [
    "# Create a table with tradable cryptocurrencies.\n",
    "clustered_df.hvplot.table(columns=[\"CoinName\", \"Algorithm\", \"ProofType\", 'TotalCoinSupply', \"TotalCoinsMined\", \"Class\"], sortable=True, selectable=True)\n"
   ]
  },
  {
   "cell_type": "code",
   "execution_count": 72,
   "metadata": {},
   "outputs": [
    {
     "name": "stdout",
     "output_type": "stream",
     "text": [
      " There are 532 tradable cryptocurrencies.\n"
     ]
    }
   ],
   "source": [
    "# Print the total number of tradable cryptocurrencies.\n",
    "total_cryptos = clustered_df['CoinName'].count()\n",
    "print(f\" There are {total_cryptos} tradable cryptocurrencies.\")"
   ]
  },
  {
   "cell_type": "code",
   "execution_count": 78,
   "metadata": {},
   "outputs": [
    {
     "data": {
      "text/plain": [
       "array([[4.20000000e-11, 0.00000000e+00],\n",
       "       [5.32000000e-04, 1.06585544e-03],\n",
       "       [3.14159265e-01, 2.95755135e-02],\n",
       "       ...,\n",
       "       [1.40022261e-03, 9.90135079e-04],\n",
       "       [2.10000000e-05, 7.37028150e-06],\n",
       "       [1.00000000e-06, 1.29582282e-07]])"
      ]
     },
     "execution_count": 78,
     "metadata": {},
     "output_type": "execute_result"
    }
   ],
   "source": [
    "# Scaling data to create the scatter plot with tradable cryptocurrencies.\n",
    "X_cluster = clustered_df[['TotalCoinSupply', 'TotalCoinsMined']].copy()\n",
    "X_cluster_scaled = MinMaxScaler().fit_transform(X_cluster)\n",
    "X_cluster_scaled"
   ]
  },
  {
   "cell_type": "code",
   "execution_count": 79,
   "metadata": {},
   "outputs": [
    {
     "data": {
      "text/html": [
       "<div>\n",
       "<style scoped>\n",
       "    .dataframe tbody tr th:only-of-type {\n",
       "        vertical-align: middle;\n",
       "    }\n",
       "\n",
       "    .dataframe tbody tr th {\n",
       "        vertical-align: top;\n",
       "    }\n",
       "\n",
       "    .dataframe thead th {\n",
       "        text-align: right;\n",
       "    }\n",
       "</style>\n",
       "<table border=\"1\" class=\"dataframe\">\n",
       "  <thead>\n",
       "    <tr style=\"text-align: right;\">\n",
       "      <th></th>\n",
       "      <th>TotalCoinSupply</th>\n",
       "      <th>TotalCoinsMined</th>\n",
       "      <th>CoinName</th>\n",
       "      <th>Class</th>\n",
       "    </tr>\n",
       "    <tr>\n",
       "      <th>Unnamed: 0</th>\n",
       "      <th></th>\n",
       "      <th></th>\n",
       "      <th></th>\n",
       "      <th></th>\n",
       "    </tr>\n",
       "  </thead>\n",
       "  <tbody>\n",
       "    <tr>\n",
       "      <th>42</th>\n",
       "      <td>4.200000e-11</td>\n",
       "      <td>0.000000</td>\n",
       "      <td>CoinName</td>\n",
       "      <td>k_10</td>\n",
       "    </tr>\n",
       "    <tr>\n",
       "      <th>404</th>\n",
       "      <td>5.320000e-04</td>\n",
       "      <td>0.001066</td>\n",
       "      <td>CoinName</td>\n",
       "      <td>k_10</td>\n",
       "    </tr>\n",
       "    <tr>\n",
       "      <th>1337</th>\n",
       "      <td>3.141593e-01</td>\n",
       "      <td>0.029576</td>\n",
       "      <td>CoinName</td>\n",
       "      <td>k_10</td>\n",
       "    </tr>\n",
       "    <tr>\n",
       "      <th>BTC</th>\n",
       "      <td>2.100000e-05</td>\n",
       "      <td>0.000018</td>\n",
       "      <td>CoinName</td>\n",
       "      <td>k_10</td>\n",
       "    </tr>\n",
       "    <tr>\n",
       "      <th>ETH</th>\n",
       "      <td>0.000000e+00</td>\n",
       "      <td>0.000109</td>\n",
       "      <td>CoinName</td>\n",
       "      <td>k_10</td>\n",
       "    </tr>\n",
       "    <tr>\n",
       "      <th>LTC</th>\n",
       "      <td>8.400000e-05</td>\n",
       "      <td>0.000064</td>\n",
       "      <td>CoinName</td>\n",
       "      <td>k_10</td>\n",
       "    </tr>\n",
       "    <tr>\n",
       "      <th>DASH</th>\n",
       "      <td>2.200000e-05</td>\n",
       "      <td>0.000009</td>\n",
       "      <td>CoinName</td>\n",
       "      <td>k_10</td>\n",
       "    </tr>\n",
       "    <tr>\n",
       "      <th>XMR</th>\n",
       "      <td>0.000000e+00</td>\n",
       "      <td>0.000017</td>\n",
       "      <td>CoinName</td>\n",
       "      <td>k_10</td>\n",
       "    </tr>\n",
       "    <tr>\n",
       "      <th>ETC</th>\n",
       "      <td>2.100000e-04</td>\n",
       "      <td>0.000115</td>\n",
       "      <td>CoinName</td>\n",
       "      <td>k_10</td>\n",
       "    </tr>\n",
       "    <tr>\n",
       "      <th>ZEC</th>\n",
       "      <td>2.100000e-05</td>\n",
       "      <td>0.000007</td>\n",
       "      <td>CoinName</td>\n",
       "      <td>k_10</td>\n",
       "    </tr>\n",
       "  </tbody>\n",
       "</table>\n",
       "</div>"
      ],
      "text/plain": [
       "            TotalCoinSupply  TotalCoinsMined  CoinName Class\n",
       "Unnamed: 0                                                  \n",
       "42             4.200000e-11         0.000000  CoinName  k_10\n",
       "404            5.320000e-04         0.001066  CoinName  k_10\n",
       "1337           3.141593e-01         0.029576  CoinName  k_10\n",
       "BTC            2.100000e-05         0.000018  CoinName  k_10\n",
       "ETH            0.000000e+00         0.000109  CoinName  k_10\n",
       "LTC            8.400000e-05         0.000064  CoinName  k_10\n",
       "DASH           2.200000e-05         0.000009  CoinName  k_10\n",
       "XMR            0.000000e+00         0.000017  CoinName  k_10\n",
       "ETC            2.100000e-04         0.000115  CoinName  k_10\n",
       "ZEC            2.100000e-05         0.000007  CoinName  k_10"
      ]
     },
     "execution_count": 79,
     "metadata": {},
     "output_type": "execute_result"
    }
   ],
   "source": [
    "# Create a new DataFrame that has the scaled data with the clustered_df DataFrame index.\n",
    "clustered_scaled_df = pd.DataFrame(X_cluster_scaled, columns=['TotalCoinSupply', 'TotalCoinsMined'], index=clustered_df.index)\n",
    "\n",
    "# Add the \"CoinName\" column from the clustered_df DataFrame to the new DataFrame.\n",
    "clustered_scaled_df['CoinName'] = clustered_df.CoinName\n",
    "\n",
    "# Add the \"Class\" column from the clustered_df DataFrame to the new DataFrame. \n",
    "clustered_scaled_df['Class'] = clustered_df.Class\n",
    "\n",
    "clustered_scaled_df.head(10)"
   ]
  },
  {
   "cell_type": "code",
   "execution_count": 80,
   "metadata": {},
   "outputs": [
    {
     "data": {},
     "metadata": {},
     "output_type": "display_data"
    },
    {
     "data": {
      "application/vnd.holoviews_exec.v0+json": "",
      "text/html": [
       "<div id='1254'>\n",
       "  <div class=\"bk-root\" id=\"9170270b-5563-403f-91b5-1b3605d3c29a\" data-root-id=\"1254\"></div>\n",
       "</div>\n",
       "<script type=\"application/javascript\">(function(root) {\n",
       "  function embed_document(root) {\n",
       "    var docs_json = {\"e067571b-1629-4a11-968e-dd6425cce396\":{\"defs\":[{\"extends\":null,\"module\":null,\"name\":\"ReactiveHTML1\",\"overrides\":[],\"properties\":[]},{\"extends\":null,\"module\":null,\"name\":\"FlexBox1\",\"overrides\":[],\"properties\":[{\"default\":\"flex-start\",\"kind\":null,\"name\":\"align_content\"},{\"default\":\"flex-start\",\"kind\":null,\"name\":\"align_items\"},{\"default\":\"row\",\"kind\":null,\"name\":\"flex_direction\"},{\"default\":\"wrap\",\"kind\":null,\"name\":\"flex_wrap\"},{\"default\":\"flex-start\",\"kind\":null,\"name\":\"justify_content\"}]},{\"extends\":null,\"module\":null,\"name\":\"GridStack1\",\"overrides\":[],\"properties\":[{\"default\":\"warn\",\"kind\":null,\"name\":\"mode\"},{\"default\":null,\"kind\":null,\"name\":\"ncols\"},{\"default\":null,\"kind\":null,\"name\":\"nrows\"},{\"default\":true,\"kind\":null,\"name\":\"allow_resize\"},{\"default\":true,\"kind\":null,\"name\":\"allow_drag\"},{\"default\":[],\"kind\":null,\"name\":\"state\"}]},{\"extends\":null,\"module\":null,\"name\":\"click1\",\"overrides\":[],\"properties\":[{\"default\":\"\",\"kind\":null,\"name\":\"terminal_output\"},{\"default\":\"\",\"kind\":null,\"name\":\"debug_name\"},{\"default\":0,\"kind\":null,\"name\":\"clears\"}]},{\"extends\":null,\"module\":null,\"name\":\"NotificationAreaBase1\",\"overrides\":[],\"properties\":[{\"default\":\"bottom-right\",\"kind\":null,\"name\":\"position\"},{\"default\":0,\"kind\":null,\"name\":\"_clear\"}]},{\"extends\":null,\"module\":null,\"name\":\"NotificationArea1\",\"overrides\":[],\"properties\":[{\"default\":[],\"kind\":null,\"name\":\"notifications\"},{\"default\":\"bottom-right\",\"kind\":null,\"name\":\"position\"},{\"default\":0,\"kind\":null,\"name\":\"_clear\"},{\"default\":[{\"background\":\"#ffc107\",\"icon\":{\"className\":\"fas fa-exclamation-triangle\",\"color\":\"white\",\"tagName\":\"i\"},\"type\":\"warning\"},{\"background\":\"#007bff\",\"icon\":{\"className\":\"fas fa-info-circle\",\"color\":\"white\",\"tagName\":\"i\"},\"type\":\"info\"}],\"kind\":null,\"name\":\"types\"}]},{\"extends\":null,\"module\":null,\"name\":\"Notification\",\"overrides\":[],\"properties\":[{\"default\":null,\"kind\":null,\"name\":\"background\"},{\"default\":3000,\"kind\":null,\"name\":\"duration\"},{\"default\":null,\"kind\":null,\"name\":\"icon\"},{\"default\":\"\",\"kind\":null,\"name\":\"message\"},{\"default\":null,\"kind\":null,\"name\":\"notification_type\"},{\"default\":false,\"kind\":null,\"name\":\"_destroyed\"}]},{\"extends\":null,\"module\":null,\"name\":\"TemplateActions1\",\"overrides\":[],\"properties\":[{\"default\":0,\"kind\":null,\"name\":\"open_modal\"},{\"default\":0,\"kind\":null,\"name\":\"close_modal\"}]},{\"extends\":null,\"module\":null,\"name\":\"MaterialTemplateActions1\",\"overrides\":[],\"properties\":[{\"default\":0,\"kind\":null,\"name\":\"open_modal\"},{\"default\":0,\"kind\":null,\"name\":\"close_modal\"}]}],\"roots\":{\"references\":[{\"attributes\":{},\"id\":\"1264\",\"type\":\"LinearScale\"},{\"attributes\":{},\"id\":\"1280\",\"type\":\"ResetTool\"},{\"attributes\":{\"coordinates\":null,\"group\":null,\"text_color\":\"black\",\"text_font_size\":\"12pt\"},\"id\":\"1260\",\"type\":\"Title\"},{\"attributes\":{\"axis\":{\"id\":\"1268\"},\"coordinates\":null,\"grid_line_color\":null,\"group\":null,\"ticker\":null},\"id\":\"1271\",\"type\":\"Grid\"},{\"attributes\":{\"coordinates\":null,\"data_source\":{\"id\":\"1295\"},\"glyph\":{\"id\":\"1298\"},\"group\":null,\"hover_glyph\":null,\"muted_glyph\":{\"id\":\"1300\"},\"nonselection_glyph\":{\"id\":\"1299\"},\"selection_glyph\":{\"id\":\"1315\"},\"view\":{\"id\":\"1302\"}},\"id\":\"1301\",\"type\":\"GlyphRenderer\"},{\"attributes\":{\"tools\":[{\"id\":\"1258\"},{\"id\":\"1276\"},{\"id\":\"1277\"},{\"id\":\"1278\"},{\"id\":\"1279\"},{\"id\":\"1280\"}]},\"id\":\"1282\",\"type\":\"Toolbar\"},{\"attributes\":{},\"id\":\"1266\",\"type\":\"LinearScale\"},{\"attributes\":{\"axis_label\":\"TotalCoinSupply\",\"coordinates\":null,\"formatter\":{\"id\":\"1293\"},\"group\":null,\"major_label_policy\":{\"id\":\"1294\"},\"ticker\":{\"id\":\"1273\"}},\"id\":\"1272\",\"type\":\"LinearAxis\"},{\"attributes\":{\"label\":{\"value\":\"k_10\"},\"renderers\":[{\"id\":\"1301\"}]},\"id\":\"1314\",\"type\":\"LegendItem\"},{\"attributes\":{\"axis_label\":\"TotalCoinsMined\",\"coordinates\":null,\"formatter\":{\"id\":\"1290\"},\"group\":null,\"major_label_policy\":{\"id\":\"1291\"},\"ticker\":{\"id\":\"1269\"}},\"id\":\"1268\",\"type\":\"LinearAxis\"},{\"attributes\":{\"bottom_units\":\"screen\",\"coordinates\":null,\"fill_alpha\":0.5,\"fill_color\":\"lightgrey\",\"group\":null,\"left_units\":\"screen\",\"level\":\"overlay\",\"line_alpha\":1.0,\"line_color\":\"black\",\"line_dash\":[4,4],\"line_width\":2,\"right_units\":\"screen\",\"syncable\":false,\"top_units\":\"screen\"},\"id\":\"1281\",\"type\":\"BoxAnnotation\"},{\"attributes\":{\"fill_alpha\":{\"value\":0.1},\"fill_color\":{\"value\":\"#30a2da\"},\"hatch_alpha\":{\"value\":0.1},\"hatch_color\":{\"value\":\"#30a2da\"},\"line_alpha\":{\"value\":0.1},\"line_color\":{\"value\":\"#30a2da\"},\"size\":{\"value\":5.477225575051661},\"x\":{\"field\":\"TotalCoinsMined\"},\"y\":{\"field\":\"TotalCoinSupply\"}},\"id\":\"1299\",\"type\":\"Scatter\"},{\"attributes\":{\"callback\":null,\"renderers\":[{\"id\":\"1301\"}],\"tags\":[\"hv_created\"],\"tooltips\":[[\"Class\",\"@{Class}\"],[\"TotalCoinsMined\",\"@{TotalCoinsMined}\"],[\"TotalCoinSupply\",\"@{TotalCoinSupply}\"],[\"CoinName\",\"@{CoinName}\"]]},\"id\":\"1258\",\"type\":\"HoverTool\"},{\"attributes\":{\"axis\":{\"id\":\"1272\"},\"coordinates\":null,\"dimension\":1,\"grid_line_color\":null,\"group\":null,\"ticker\":null},\"id\":\"1275\",\"type\":\"Grid\"},{\"attributes\":{},\"id\":\"1290\",\"type\":\"BasicTickFormatter\"},{\"attributes\":{\"below\":[{\"id\":\"1268\"}],\"center\":[{\"id\":\"1271\"},{\"id\":\"1275\"}],\"height\":300,\"left\":[{\"id\":\"1272\"}],\"margin\":[5,5,5,5],\"min_border_bottom\":10,\"min_border_left\":10,\"min_border_right\":10,\"min_border_top\":10,\"renderers\":[{\"id\":\"1301\"}],\"right\":[{\"id\":\"1313\"}],\"sizing_mode\":\"fixed\",\"title\":{\"id\":\"1260\"},\"toolbar\":{\"id\":\"1282\"},\"width\":700,\"x_range\":{\"id\":\"1256\"},\"x_scale\":{\"id\":\"1264\"},\"y_range\":{\"id\":\"1257\"},\"y_scale\":{\"id\":\"1266\"}},\"id\":\"1259\",\"subtype\":\"Figure\",\"type\":\"Plot\"},{\"attributes\":{\"fill_alpha\":{\"value\":0.2},\"fill_color\":{\"value\":\"#30a2da\"},\"hatch_alpha\":{\"value\":0.2},\"hatch_color\":{\"value\":\"#30a2da\"},\"line_alpha\":{\"value\":0.2},\"line_color\":{\"value\":\"#30a2da\"},\"size\":{\"value\":5.477225575051661},\"x\":{\"field\":\"TotalCoinsMined\"},\"y\":{\"field\":\"TotalCoinSupply\"}},\"id\":\"1300\",\"type\":\"Scatter\"},{\"attributes\":{},\"id\":\"1294\",\"type\":\"AllLabels\"},{\"attributes\":{\"click_policy\":\"mute\",\"coordinates\":null,\"group\":null,\"items\":[{\"id\":\"1314\"}],\"location\":[0,0],\"title\":\"Class\"},\"id\":\"1313\",\"type\":\"Legend\"},{\"attributes\":{},\"id\":\"1296\",\"type\":\"Selection\"},{\"attributes\":{\"margin\":[5,5,5,5],\"name\":\"HSpacer01283\",\"sizing_mode\":\"stretch_width\"},\"id\":\"1326\",\"type\":\"Spacer\"},{\"attributes\":{\"data\":{\"Class\":[\"k_10\",\"k_10\",\"k_10\",\"k_10\",\"k_10\",\"k_10\",\"k_10\",\"k_10\",\"k_10\",\"k_10\",\"k_10\",\"k_10\",\"k_10\",\"k_10\",\"k_10\",\"k_10\",\"k_10\",\"k_10\",\"k_10\",\"k_10\",\"k_10\",\"k_10\",\"k_10\",\"k_10\",\"k_10\",\"k_10\",\"k_10\",\"k_10\",\"k_10\",\"k_10\",\"k_10\",\"k_10\",\"k_10\",\"k_10\",\"k_10\",\"k_10\",\"k_10\",\"k_10\",\"k_10\",\"k_10\",\"k_10\",\"k_10\",\"k_10\",\"k_10\",\"k_10\",\"k_10\",\"k_10\",\"k_10\",\"k_10\",\"k_10\",\"k_10\",\"k_10\",\"k_10\",\"k_10\",\"k_10\",\"k_10\",\"k_10\",\"k_10\",\"k_10\",\"k_10\",\"k_10\",\"k_10\",\"k_10\",\"k_10\",\"k_10\",\"k_10\",\"k_10\",\"k_10\",\"k_10\",\"k_10\",\"k_10\",\"k_10\",\"k_10\",\"k_10\",\"k_10\",\"k_10\",\"k_10\",\"k_10\",\"k_10\",\"k_10\",\"k_10\",\"k_10\",\"k_10\",\"k_10\",\"k_10\",\"k_10\",\"k_10\",\"k_10\",\"k_10\",\"k_10\",\"k_10\",\"k_10\",\"k_10\",\"k_10\",\"k_10\",\"k_10\",\"k_10\",\"k_10\",\"k_10\",\"k_10\",\"k_10\",\"k_10\",\"k_10\",\"k_10\",\"k_10\",\"k_10\",\"k_10\",\"k_10\",\"k_10\",\"k_10\",\"k_10\",\"k_10\",\"k_10\",\"k_10\",\"k_10\",\"k_10\",\"k_10\",\"k_10\",\"k_10\",\"k_10\",\"k_10\",\"k_10\",\"k_10\",\"k_10\",\"k_10\",\"k_10\",\"k_10\",\"k_10\",\"k_10\",\"k_10\",\"k_10\",\"k_10\",\"k_10\",\"k_10\",\"k_10\",\"k_10\",\"k_10\",\"k_10\",\"k_10\",\"k_10\",\"k_10\",\"k_10\",\"k_10\",\"k_10\",\"k_10\",\"k_10\",\"k_10\",\"k_10\",\"k_10\",\"k_10\",\"k_10\",\"k_10\",\"k_10\",\"k_10\",\"k_10\",\"k_10\",\"k_10\",\"k_10\",\"k_10\",\"k_10\",\"k_10\",\"k_10\",\"k_10\",\"k_10\",\"k_10\",\"k_10\",\"k_10\",\"k_10\",\"k_10\",\"k_10\",\"k_10\",\"k_10\",\"k_10\",\"k_10\",\"k_10\",\"k_10\",\"k_10\",\"k_10\",\"k_10\",\"k_10\",\"k_10\",\"k_10\",\"k_10\",\"k_10\",\"k_10\",\"k_10\",\"k_10\",\"k_10\",\"k_10\",\"k_10\",\"k_10\",\"k_10\",\"k_10\",\"k_10\",\"k_10\",\"k_10\",\"k_10\",\"k_10\",\"k_10\",\"k_10\",\"k_10\",\"k_10\",\"k_10\",\"k_10\",\"k_10\",\"k_10\",\"k_10\",\"k_10\",\"k_10\",\"k_10\",\"k_10\",\"k_10\",\"k_10\",\"k_10\",\"k_10\",\"k_10\",\"k_10\",\"k_10\",\"k_10\",\"k_10\",\"k_10\",\"k_10\",\"k_10\",\"k_10\",\"k_10\",\"k_10\",\"k_10\",\"k_10\",\"k_10\",\"k_10\",\"k_10\",\"k_10\",\"k_10\",\"k_10\",\"k_10\",\"k_10\",\"k_10\",\"k_10\",\"k_10\",\"k_10\",\"k_10\",\"k_10\",\"k_10\",\"k_10\",\"k_10\",\"k_10\",\"k_10\",\"k_10\",\"k_10\",\"k_10\",\"k_10\",\"k_10\",\"k_10\",\"k_10\",\"k_10\",\"k_10\",\"k_10\",\"k_10\",\"k_10\",\"k_10\",\"k_10\",\"k_10\",\"k_10\",\"k_10\",\"k_10\",\"k_10\",\"k_10\",\"k_10\",\"k_10\",\"k_10\",\"k_10\",\"k_10\",\"k_10\",\"k_10\",\"k_10\",\"k_10\",\"k_10\",\"k_10\",\"k_10\",\"k_10\",\"k_10\",\"k_10\",\"k_10\",\"k_10\",\"k_10\",\"k_10\",\"k_10\",\"k_10\",\"k_10\",\"k_10\",\"k_10\",\"k_10\",\"k_10\",\"k_10\",\"k_10\",\"k_10\",\"k_10\",\"k_10\",\"k_10\",\"k_10\",\"k_10\",\"k_10\",\"k_10\",\"k_10\",\"k_10\",\"k_10\",\"k_10\",\"k_10\",\"k_10\",\"k_10\",\"k_10\",\"k_10\",\"k_10\",\"k_10\",\"k_10\",\"k_10\",\"k_10\",\"k_10\",\"k_10\",\"k_10\",\"k_10\",\"k_10\",\"k_10\",\"k_10\",\"k_10\",\"k_10\",\"k_10\",\"k_10\",\"k_10\",\"k_10\",\"k_10\",\"k_10\",\"k_10\",\"k_10\",\"k_10\",\"k_10\",\"k_10\",\"k_10\",\"k_10\",\"k_10\",\"k_10\",\"k_10\",\"k_10\",\"k_10\",\"k_10\",\"k_10\",\"k_10\",\"k_10\",\"k_10\",\"k_10\",\"k_10\",\"k_10\",\"k_10\",\"k_10\",\"k_10\",\"k_10\",\"k_10\",\"k_10\",\"k_10\",\"k_10\",\"k_10\",\"k_10\",\"k_10\",\"k_10\",\"k_10\",\"k_10\",\"k_10\",\"k_10\",\"k_10\",\"k_10\",\"k_10\",\"k_10\",\"k_10\",\"k_10\",\"k_10\",\"k_10\",\"k_10\",\"k_10\",\"k_10\",\"k_10\",\"k_10\",\"k_10\",\"k_10\",\"k_10\",\"k_10\",\"k_10\",\"k_10\",\"k_10\",\"k_10\",\"k_10\",\"k_10\",\"k_10\",\"k_10\",\"k_10\",\"k_10\",\"k_10\",\"k_10\",\"k_10\",\"k_10\",\"k_10\",\"k_10\",\"k_10\",\"k_10\",\"k_10\",\"k_10\",\"k_10\",\"k_10\",\"k_10\",\"k_10\",\"k_10\",\"k_10\",\"k_10\",\"k_10\",\"k_10\",\"k_10\",\"k_10\",\"k_10\",\"k_10\",\"k_10\",\"k_10\",\"k_10\",\"k_10\",\"k_10\",\"k_10\",\"k_10\",\"k_10\",\"k_10\",\"k_10\",\"k_10\",\"k_10\",\"k_10\",\"k_10\",\"k_10\",\"k_10\",\"k_10\",\"k_10\",\"k_10\",\"k_10\",\"k_10\",\"k_10\",\"k_10\",\"k_10\",\"k_10\",\"k_10\",\"k_10\",\"k_10\",\"k_10\",\"k_10\",\"k_10\",\"k_10\",\"k_10\",\"k_10\",\"k_10\",\"k_10\",\"k_10\",\"k_10\",\"k_10\",\"k_10\",\"k_10\",\"k_10\",\"k_10\",\"k_10\",\"k_10\",\"k_10\",\"k_10\",\"k_10\",\"k_10\",\"k_10\",\"k_10\",\"k_10\",\"k_10\",\"k_10\",\"k_10\",\"k_10\",\"k_10\",\"k_10\",\"k_10\",\"k_10\",\"k_10\",\"k_10\",\"k_10\",\"k_10\",\"k_10\",\"k_10\",\"k_10\",\"k_10\",\"k_10\",\"k_10\",\"k_10\",\"k_10\",\"k_10\",\"k_10\",\"k_10\",\"k_10\",\"k_10\",\"k_10\",\"k_10\",\"k_10\",\"k_10\",\"k_10\",\"k_10\",\"k_10\",\"k_10\",\"k_10\",\"k_10\",\"k_10\",\"k_10\",\"k_10\",\"k_10\",\"k_10\",\"k_10\",\"k_10\",\"k_10\",\"k_10\",\"k_10\",\"k_10\",\"k_10\",\"k_10\",\"k_10\",\"k_10\",\"k_10\",\"k_10\",\"k_10\",\"k_10\",\"k_10\",\"k_10\",\"k_10\",\"k_10\",\"k_10\",\"k_10\",\"k_10\",\"k_10\"],\"CoinName\":[\"CoinName\",\"CoinName\",\"CoinName\",\"CoinName\",\"CoinName\",\"CoinName\",\"CoinName\",\"CoinName\",\"CoinName\",\"CoinName\",\"CoinName\",\"CoinName\",\"CoinName\",\"CoinName\",\"CoinName\",\"CoinName\",\"CoinName\",\"CoinName\",\"CoinName\",\"CoinName\",\"CoinName\",\"CoinName\",\"CoinName\",\"CoinName\",\"CoinName\",\"CoinName\",\"CoinName\",\"CoinName\",\"CoinName\",\"CoinName\",\"CoinName\",\"CoinName\",\"CoinName\",\"CoinName\",\"CoinName\",\"CoinName\",\"CoinName\",\"CoinName\",\"CoinName\",\"CoinName\",\"CoinName\",\"CoinName\",\"CoinName\",\"CoinName\",\"CoinName\",\"CoinName\",\"CoinName\",\"CoinName\",\"CoinName\",\"CoinName\",\"CoinName\",\"CoinName\",\"CoinName\",\"CoinName\",\"CoinName\",\"CoinName\",\"CoinName\",\"CoinName\",\"CoinName\",\"CoinName\",\"CoinName\",\"CoinName\",\"CoinName\",\"CoinName\",\"CoinName\",\"CoinName\",\"CoinName\",\"CoinName\",\"CoinName\",\"CoinName\",\"CoinName\",\"CoinName\",\"CoinName\",\"CoinName\",\"CoinName\",\"CoinName\",\"CoinName\",\"CoinName\",\"CoinName\",\"CoinName\",\"CoinName\",\"CoinName\",\"CoinName\",\"CoinName\",\"CoinName\",\"CoinName\",\"CoinName\",\"CoinName\",\"CoinName\",\"CoinName\",\"CoinName\",\"CoinName\",\"CoinName\",\"CoinName\",\"CoinName\",\"CoinName\",\"CoinName\",\"CoinName\",\"CoinName\",\"CoinName\",\"CoinName\",\"CoinName\",\"CoinName\",\"CoinName\",\"CoinName\",\"CoinName\",\"CoinName\",\"CoinName\",\"CoinName\",\"CoinName\",\"CoinName\",\"CoinName\",\"CoinName\",\"CoinName\",\"CoinName\",\"CoinName\",\"CoinName\",\"CoinName\",\"CoinName\",\"CoinName\",\"CoinName\",\"CoinName\",\"CoinName\",\"CoinName\",\"CoinName\",\"CoinName\",\"CoinName\",\"CoinName\",\"CoinName\",\"CoinName\",\"CoinName\",\"CoinName\",\"CoinName\",\"CoinName\",\"CoinName\",\"CoinName\",\"CoinName\",\"CoinName\",\"CoinName\",\"CoinName\",\"CoinName\",\"CoinName\",\"CoinName\",\"CoinName\",\"CoinName\",\"CoinName\",\"CoinName\",\"CoinName\",\"CoinName\",\"CoinName\",\"CoinName\",\"CoinName\",\"CoinName\",\"CoinName\",\"CoinName\",\"CoinName\",\"CoinName\",\"CoinName\",\"CoinName\",\"CoinName\",\"CoinName\",\"CoinName\",\"CoinName\",\"CoinName\",\"CoinName\",\"CoinName\",\"CoinName\",\"CoinName\",\"CoinName\",\"CoinName\",\"CoinName\",\"CoinName\",\"CoinName\",\"CoinName\",\"CoinName\",\"CoinName\",\"CoinName\",\"CoinName\",\"CoinName\",\"CoinName\",\"CoinName\",\"CoinName\",\"CoinName\",\"CoinName\",\"CoinName\",\"CoinName\",\"CoinName\",\"CoinName\",\"CoinName\",\"CoinName\",\"CoinName\",\"CoinName\",\"CoinName\",\"CoinName\",\"CoinName\",\"CoinName\",\"CoinName\",\"CoinName\",\"CoinName\",\"CoinName\",\"CoinName\",\"CoinName\",\"CoinName\",\"CoinName\",\"CoinName\",\"CoinName\",\"CoinName\",\"CoinName\",\"CoinName\",\"CoinName\",\"CoinName\",\"CoinName\",\"CoinName\",\"CoinName\",\"CoinName\",\"CoinName\",\"CoinName\",\"CoinName\",\"CoinName\",\"CoinName\",\"CoinName\",\"CoinName\",\"CoinName\",\"CoinName\",\"CoinName\",\"CoinName\",\"CoinName\",\"CoinName\",\"CoinName\",\"CoinName\",\"CoinName\",\"CoinName\",\"CoinName\",\"CoinName\",\"CoinName\",\"CoinName\",\"CoinName\",\"CoinName\",\"CoinName\",\"CoinName\",\"CoinName\",\"CoinName\",\"CoinName\",\"CoinName\",\"CoinName\",\"CoinName\",\"CoinName\",\"CoinName\",\"CoinName\",\"CoinName\",\"CoinName\",\"CoinName\",\"CoinName\",\"CoinName\",\"CoinName\",\"CoinName\",\"CoinName\",\"CoinName\",\"CoinName\",\"CoinName\",\"CoinName\",\"CoinName\",\"CoinName\",\"CoinName\",\"CoinName\",\"CoinName\",\"CoinName\",\"CoinName\",\"CoinName\",\"CoinName\",\"CoinName\",\"CoinName\",\"CoinName\",\"CoinName\",\"CoinName\",\"CoinName\",\"CoinName\",\"CoinName\",\"CoinName\",\"CoinName\",\"CoinName\",\"CoinName\",\"CoinName\",\"CoinName\",\"CoinName\",\"CoinName\",\"CoinName\",\"CoinName\",\"CoinName\",\"CoinName\",\"CoinName\",\"CoinName\",\"CoinName\",\"CoinName\",\"CoinName\",\"CoinName\",\"CoinName\",\"CoinName\",\"CoinName\",\"CoinName\",\"CoinName\",\"CoinName\",\"CoinName\",\"CoinName\",\"CoinName\",\"CoinName\",\"CoinName\",\"CoinName\",\"CoinName\",\"CoinName\",\"CoinName\",\"CoinName\",\"CoinName\",\"CoinName\",\"CoinName\",\"CoinName\",\"CoinName\",\"CoinName\",\"CoinName\",\"CoinName\",\"CoinName\",\"CoinName\",\"CoinName\",\"CoinName\",\"CoinName\",\"CoinName\",\"CoinName\",\"CoinName\",\"CoinName\",\"CoinName\",\"CoinName\",\"CoinName\",\"CoinName\",\"CoinName\",\"CoinName\",\"CoinName\",\"CoinName\",\"CoinName\",\"CoinName\",\"CoinName\",\"CoinName\",\"CoinName\",\"CoinName\",\"CoinName\",\"CoinName\",\"CoinName\",\"CoinName\",\"CoinName\",\"CoinName\",\"CoinName\",\"CoinName\",\"CoinName\",\"CoinName\",\"CoinName\",\"CoinName\",\"CoinName\",\"CoinName\",\"CoinName\",\"CoinName\",\"CoinName\",\"CoinName\",\"CoinName\",\"CoinName\",\"CoinName\",\"CoinName\",\"CoinName\",\"CoinName\",\"CoinName\",\"CoinName\",\"CoinName\",\"CoinName\",\"CoinName\",\"CoinName\",\"CoinName\",\"CoinName\",\"CoinName\",\"CoinName\",\"CoinName\",\"CoinName\",\"CoinName\",\"CoinName\",\"CoinName\",\"CoinName\",\"CoinName\",\"CoinName\",\"CoinName\",\"CoinName\",\"CoinName\",\"CoinName\",\"CoinName\",\"CoinName\",\"CoinName\",\"CoinName\",\"CoinName\",\"CoinName\",\"CoinName\",\"CoinName\",\"CoinName\",\"CoinName\",\"CoinName\",\"CoinName\",\"CoinName\",\"CoinName\",\"CoinName\",\"CoinName\",\"CoinName\",\"CoinName\",\"CoinName\",\"CoinName\",\"CoinName\",\"CoinName\",\"CoinName\",\"CoinName\",\"CoinName\",\"CoinName\",\"CoinName\",\"CoinName\",\"CoinName\",\"CoinName\",\"CoinName\",\"CoinName\",\"CoinName\",\"CoinName\",\"CoinName\",\"CoinName\",\"CoinName\",\"CoinName\",\"CoinName\",\"CoinName\",\"CoinName\",\"CoinName\",\"CoinName\",\"CoinName\",\"CoinName\",\"CoinName\",\"CoinName\",\"CoinName\",\"CoinName\",\"CoinName\",\"CoinName\",\"CoinName\",\"CoinName\",\"CoinName\",\"CoinName\",\"CoinName\",\"CoinName\",\"CoinName\",\"CoinName\",\"CoinName\",\"CoinName\",\"CoinName\",\"CoinName\",\"CoinName\",\"CoinName\",\"CoinName\",\"CoinName\",\"CoinName\",\"CoinName\",\"CoinName\",\"CoinName\",\"CoinName\",\"CoinName\",\"CoinName\",\"CoinName\",\"CoinName\",\"CoinName\",\"CoinName\",\"CoinName\",\"CoinName\",\"CoinName\",\"CoinName\",\"CoinName\",\"CoinName\",\"CoinName\",\"CoinName\",\"CoinName\",\"CoinName\",\"CoinName\",\"CoinName\",\"CoinName\",\"CoinName\",\"CoinName\",\"CoinName\",\"CoinName\",\"CoinName\",\"CoinName\",\"CoinName\",\"CoinName\",\"CoinName\",\"CoinName\",\"CoinName\",\"CoinName\",\"CoinName\",\"CoinName\",\"CoinName\",\"CoinName\",\"CoinName\",\"CoinName\",\"CoinName\",\"CoinName\",\"CoinName\",\"CoinName\",\"CoinName\",\"CoinName\",\"CoinName\",\"CoinName\",\"CoinName\",\"CoinName\",\"CoinName\",\"CoinName\",\"CoinName\",\"CoinName\",\"CoinName\",\"CoinName\",\"CoinName\",\"CoinName\",\"CoinName\",\"CoinName\",\"CoinName\",\"CoinName\",\"CoinName\",\"CoinName\",\"CoinName\",\"CoinName\",\"CoinName\",\"CoinName\",\"CoinName\",\"CoinName\",\"CoinName\",\"CoinName\",\"CoinName\",\"CoinName\"],\"TotalCoinSupply\":{\"__ndarray__\":\"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\",\"dtype\":\"float64\",\"order\":\"little\",\"shape\":[532]},\"TotalCoinsMined\":{\"__ndarray__\":\"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\",\"dtype\":\"float64\",\"order\":\"little\",\"shape\":[532]}},\"selected\":{\"id\":\"1296\"},\"selection_policy\":{\"id\":\"1310\"}},\"id\":\"1295\",\"type\":\"ColumnDataSource\"},{\"attributes\":{},\"id\":\"1293\",\"type\":\"BasicTickFormatter\"},{\"attributes\":{},\"id\":\"1310\",\"type\":\"UnionRenderers\"},{\"attributes\":{\"angle\":{\"value\":0.0},\"fill_alpha\":{\"value\":1.0},\"fill_color\":{\"value\":\"#30a2da\"},\"hatch_alpha\":{\"value\":1.0},\"hatch_color\":{\"value\":\"#30a2da\"},\"hatch_scale\":{\"value\":12.0},\"hatch_weight\":{\"value\":1.0},\"line_alpha\":{\"value\":1.0},\"line_cap\":{\"value\":\"butt\"},\"line_color\":{\"value\":\"#30a2da\"},\"line_dash\":{\"value\":[]},\"line_dash_offset\":{\"value\":0},\"line_join\":{\"value\":\"bevel\"},\"line_width\":{\"value\":1},\"marker\":{\"value\":\"circle\"},\"size\":{\"value\":5.477225575051661},\"x\":{\"field\":\"TotalCoinsMined\"},\"y\":{\"field\":\"TotalCoinSupply\"}},\"id\":\"1315\",\"type\":\"Scatter\"},{\"attributes\":{},\"id\":\"1276\",\"type\":\"SaveTool\"},{\"attributes\":{\"children\":[{\"id\":\"1255\"},{\"id\":\"1259\"},{\"id\":\"1326\"}],\"margin\":[0,0,0,0],\"name\":\"Row01278\",\"tags\":[\"embedded\"]},\"id\":\"1254\",\"type\":\"Row\"},{\"attributes\":{\"end\":1.042857142857143,\"reset_end\":1.042857142857143,\"reset_start\":-0.04285714285714286,\"start\":-0.04285714285714286,\"tags\":[[[\"TotalCoinsMined\",\"TotalCoinsMined\",null]]]},\"id\":\"1256\",\"type\":\"Range1d\"},{\"attributes\":{\"source\":{\"id\":\"1295\"}},\"id\":\"1302\",\"type\":\"CDSView\"},{\"attributes\":{},\"id\":\"1277\",\"type\":\"PanTool\"},{\"attributes\":{\"fill_color\":{\"value\":\"#30a2da\"},\"hatch_color\":{\"value\":\"#30a2da\"},\"line_color\":{\"value\":\"#30a2da\"},\"size\":{\"value\":5.477225575051661},\"x\":{\"field\":\"TotalCoinsMined\"},\"y\":{\"field\":\"TotalCoinSupply\"}},\"id\":\"1298\",\"type\":\"Scatter\"},{\"attributes\":{},\"id\":\"1278\",\"type\":\"WheelZoomTool\"},{\"attributes\":{\"end\":1.1,\"reset_end\":1.1,\"reset_start\":-0.1,\"start\":-0.1,\"tags\":[[[\"TotalCoinSupply\",\"TotalCoinSupply\",null]]]},\"id\":\"1257\",\"type\":\"Range1d\"},{\"attributes\":{\"margin\":[5,5,5,5],\"name\":\"HSpacer01282\",\"sizing_mode\":\"stretch_width\"},\"id\":\"1255\",\"type\":\"Spacer\"},{\"attributes\":{\"overlay\":{\"id\":\"1281\"}},\"id\":\"1279\",\"type\":\"BoxZoomTool\"},{\"attributes\":{},\"id\":\"1269\",\"type\":\"BasicTicker\"},{\"attributes\":{},\"id\":\"1273\",\"type\":\"BasicTicker\"},{\"attributes\":{},\"id\":\"1291\",\"type\":\"AllLabels\"}],\"root_ids\":[\"1254\"]},\"title\":\"Bokeh Application\",\"version\":\"2.4.3\"}};\n",
       "    var render_items = [{\"docid\":\"e067571b-1629-4a11-968e-dd6425cce396\",\"root_ids\":[\"1254\"],\"roots\":{\"1254\":\"9170270b-5563-403f-91b5-1b3605d3c29a\"}}];\n",
       "    root.Bokeh.embed.embed_items_notebook(docs_json, render_items);\n",
       "  }\n",
       "  if (root.Bokeh !== undefined && root.Bokeh.Panel !== undefined) {\n",
       "    embed_document(root);\n",
       "  } else {\n",
       "    var attempts = 0;\n",
       "    var timer = setInterval(function(root) {\n",
       "      if (root.Bokeh !== undefined && root.Bokeh.Panel !== undefined) {\n",
       "        clearInterval(timer);\n",
       "        embed_document(root);\n",
       "      } else if (document.readyState == \"complete\") {\n",
       "        attempts++;\n",
       "        if (attempts > 200) {\n",
       "          clearInterval(timer);\n",
       "          console.log(\"Bokeh: ERROR: Unable to run BokehJS code because BokehJS library is missing\");\n",
       "        }\n",
       "      }\n",
       "    }, 25, root)\n",
       "  }\n",
       "})(window);</script>"
      ],
      "text/plain": [
       ":NdOverlay   [Class]\n",
       "   :Scatter   [TotalCoinsMined]   (TotalCoinSupply,CoinName)"
      ]
     },
     "execution_count": 80,
     "metadata": {
      "application/vnd.holoviews_exec.v0+json": {
       "id": "1254"
      }
     },
     "output_type": "execute_result"
    }
   ],
   "source": [
    "# Create a hvplot.scatter plot using x=\"TotalCoinsMined\" and y=\"TotalCoinSupply\".\n",
    "clustered_scaled_df.hvplot.scatter(x='TotalCoinsMined', y='TotalCoinSupply', hover_cols='CoinName', by='Class')\n"
   ]
  },
  {
   "cell_type": "code",
   "execution_count": null,
   "metadata": {},
   "outputs": [],
   "source": []
  }
 ],
 "metadata": {
  "file_extension": ".py",
  "kernelspec": {
   "display_name": "Python 3 (ipykernel)",
   "language": "python",
   "name": "python3"
  },
  "language_info": {
   "codemirror_mode": {
    "name": "ipython",
    "version": 3
   },
   "file_extension": ".py",
   "mimetype": "text/x-python",
   "name": "python",
   "nbconvert_exporter": "python",
   "pygments_lexer": "ipython3",
   "version": "3.7.13"
  },
  "latex_envs": {
   "LaTeX_envs_menu_present": true,
   "autoclose": false,
   "autocomplete": true,
   "bibliofile": "biblio.bib",
   "cite_by": "apalike",
   "current_citInitial": 1,
   "eqLabelWithNumbers": true,
   "eqNumInitial": 1,
   "hotkeys": {
    "equation": "Ctrl-E",
    "itemize": "Ctrl-I"
   },
   "labels_anchors": false,
   "latex_user_defs": false,
   "report_style_numbering": false,
   "user_envs_cfg": false
  },
  "mimetype": "text/x-python",
  "name": "python",
  "npconvert_exporter": "python",
  "pygments_lexer": "ipython3",
  "version": 3
 },
 "nbformat": 4,
 "nbformat_minor": 2
}
